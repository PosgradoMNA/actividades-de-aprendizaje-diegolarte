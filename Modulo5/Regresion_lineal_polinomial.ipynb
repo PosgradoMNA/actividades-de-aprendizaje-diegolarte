{
  "nbformat": 4,
  "nbformat_minor": 0,
  "metadata": {
    "kernelspec": {
      "display_name": "Python 3",
      "language": "python",
      "name": "python3"
    },
    "language_info": {
      "codemirror_mode": {
        "name": "ipython",
        "version": 3
      },
      "file_extension": ".py",
      "mimetype": "text/x-python",
      "name": "python",
      "nbconvert_exporter": "python",
      "pygments_lexer": "ipython3",
      "version": "3.7.7"
    },
    "colab": {
      "provenance": [],
      "include_colab_link": true
    },
    "gpuClass": "standard"
  },
  "cells": [
    {
      "cell_type": "markdown",
      "metadata": {
        "id": "view-in-github",
        "colab_type": "text"
      },
      "source": [
        "<a href=\"https://colab.research.google.com/github/PosgradoMNA/actividades-de-aprendizaje-diegolarte/blob/main/Modulo5/Regresion_lineal_polinomial.ipynb\" target=\"_parent\"><img src=\"https://colab.research.google.com/assets/colab-badge.svg\" alt=\"Open In Colab\"/></a>"
      ]
    },
    {
      "cell_type": "markdown",
      "metadata": {
        "id": "WUO-kdryVQwK"
      },
      "source": [
        "# Linear Models\n"
      ]
    },
    {
      "cell_type": "code",
      "source": [],
      "metadata": {
        "id": "Msm89naSzi21"
      },
      "execution_count": null,
      "outputs": []
    },
    {
      "cell_type": "markdown",
      "metadata": {
        "id": "u3ytB4LpVQwM"
      },
      "source": [
        "- In supervised learning, the training data fed to the algorithm includes the desired solutions, called labels. \n",
        "- In **regression**, the labels are continuous quantities.\n",
        "- Linear models predict by computing a weighted sum of input features plus a bias term."
      ]
    },
    {
      "cell_type": "code",
      "metadata": {
        "id": "HMp_I4Y6VQwN"
      },
      "source": [
        "import numpy as np\n",
        "%matplotlib inline\n",
        "import matplotlib\n",
        "import matplotlib.pyplot as plt\n",
        "import pandas as pd\n",
        "import seaborn as sns\n",
        "# to make this notebook's output stable across runs\n",
        "np.random.seed(42)"
      ],
      "execution_count": 9,
      "outputs": []
    },
    {
      "cell_type": "code",
      "source": [
        "5-2"
      ],
      "metadata": {
        "colab": {
          "base_uri": "https://localhost:8080/"
        },
        "id": "exg6xSYf3F5D",
        "outputId": "09e8c07b-9e62-44e5-9176-9419e1faa96a"
      },
      "execution_count": null,
      "outputs": [
        {
          "output_type": "execute_result",
          "data": {
            "text/plain": [
              "3"
            ]
          },
          "metadata": {},
          "execution_count": 44
        }
      ]
    },
    {
      "cell_type": "markdown",
      "metadata": {
        "id": "szpzFXgiVQwN"
      },
      "source": [
        "## Simple Linear Regression\n",
        "\n",
        "Simple linear regression equation:\n",
        "\n",
        "$y = ax + b$\n",
        "<br>\n",
        "$a$: slope\n",
        "<br>\n",
        "$b$: intercept\n",
        "\n",
        "Generate linear-looking data with the equation:\n",
        "\n",
        "$y = 3X + 4 + noise$"
      ]
    },
    {
      "cell_type": "code",
      "metadata": {
        "colab": {
          "base_uri": "https://localhost:8080/"
        },
        "id": "mitJFYeiMQqD",
        "outputId": "e021af14-a82a-42d3-c3ab-ca59f6998605"
      },
      "source": [
        "np.random.rand(100, 1)"
      ],
      "execution_count": 2,
      "outputs": [
        {
          "output_type": "execute_result",
          "data": {
            "text/plain": [
              "array([[0.37454012],\n",
              "       [0.95071431],\n",
              "       [0.73199394],\n",
              "       [0.59865848],\n",
              "       [0.15601864],\n",
              "       [0.15599452],\n",
              "       [0.05808361],\n",
              "       [0.86617615],\n",
              "       [0.60111501],\n",
              "       [0.70807258],\n",
              "       [0.02058449],\n",
              "       [0.96990985],\n",
              "       [0.83244264],\n",
              "       [0.21233911],\n",
              "       [0.18182497],\n",
              "       [0.18340451],\n",
              "       [0.30424224],\n",
              "       [0.52475643],\n",
              "       [0.43194502],\n",
              "       [0.29122914],\n",
              "       [0.61185289],\n",
              "       [0.13949386],\n",
              "       [0.29214465],\n",
              "       [0.36636184],\n",
              "       [0.45606998],\n",
              "       [0.78517596],\n",
              "       [0.19967378],\n",
              "       [0.51423444],\n",
              "       [0.59241457],\n",
              "       [0.04645041],\n",
              "       [0.60754485],\n",
              "       [0.17052412],\n",
              "       [0.06505159],\n",
              "       [0.94888554],\n",
              "       [0.96563203],\n",
              "       [0.80839735],\n",
              "       [0.30461377],\n",
              "       [0.09767211],\n",
              "       [0.68423303],\n",
              "       [0.44015249],\n",
              "       [0.12203823],\n",
              "       [0.49517691],\n",
              "       [0.03438852],\n",
              "       [0.9093204 ],\n",
              "       [0.25877998],\n",
              "       [0.66252228],\n",
              "       [0.31171108],\n",
              "       [0.52006802],\n",
              "       [0.54671028],\n",
              "       [0.18485446],\n",
              "       [0.96958463],\n",
              "       [0.77513282],\n",
              "       [0.93949894],\n",
              "       [0.89482735],\n",
              "       [0.59789998],\n",
              "       [0.92187424],\n",
              "       [0.0884925 ],\n",
              "       [0.19598286],\n",
              "       [0.04522729],\n",
              "       [0.32533033],\n",
              "       [0.38867729],\n",
              "       [0.27134903],\n",
              "       [0.82873751],\n",
              "       [0.35675333],\n",
              "       [0.28093451],\n",
              "       [0.54269608],\n",
              "       [0.14092422],\n",
              "       [0.80219698],\n",
              "       [0.07455064],\n",
              "       [0.98688694],\n",
              "       [0.77224477],\n",
              "       [0.19871568],\n",
              "       [0.00552212],\n",
              "       [0.81546143],\n",
              "       [0.70685734],\n",
              "       [0.72900717],\n",
              "       [0.77127035],\n",
              "       [0.07404465],\n",
              "       [0.35846573],\n",
              "       [0.11586906],\n",
              "       [0.86310343],\n",
              "       [0.62329813],\n",
              "       [0.33089802],\n",
              "       [0.06355835],\n",
              "       [0.31098232],\n",
              "       [0.32518332],\n",
              "       [0.72960618],\n",
              "       [0.63755747],\n",
              "       [0.88721274],\n",
              "       [0.47221493],\n",
              "       [0.11959425],\n",
              "       [0.71324479],\n",
              "       [0.76078505],\n",
              "       [0.5612772 ],\n",
              "       [0.77096718],\n",
              "       [0.4937956 ],\n",
              "       [0.52273283],\n",
              "       [0.42754102],\n",
              "       [0.02541913],\n",
              "       [0.10789143]])"
            ]
          },
          "metadata": {},
          "execution_count": 2
        }
      ]
    },
    {
      "cell_type": "code",
      "metadata": {
        "colab": {
          "base_uri": "https://localhost:8080/",
          "height": 268
        },
        "id": "QyubE1VEVQwN",
        "outputId": "c867af3b-361f-49b1-c47d-66b99e57e661"
      },
      "source": [
        "X = 2*np.random.rand(100, 1)\n",
        "y = 4 + 3 * X + np.random.randn(100, 1)\n",
        "plt.scatter(X, y);"
      ],
      "execution_count": 5,
      "outputs": [
        {
          "output_type": "display_data",
          "data": {
            "text/plain": [
              "<Figure size 432x288 with 1 Axes>"
            ],
            "image/png": "[encoded data removed]"
          },
          "metadata": {
            "needs_background": "light"
          }
        }
      ]
    },
    {
      "cell_type": "code",
      "source": [
        "import pandas as pd\n",
        "pd.DataFrame(y)"
      ],
      "metadata": {
        "colab": {
          "base_uri": "https://localhost:8080/",
          "height": 424
        },
        "id": "M5kaENJ4bZY5",
        "outputId": "e558b02b-42c8-4fb0-f74a-a98446a74b5c"
      },
      "execution_count": 6,
      "outputs": [
        {
          "output_type": "execute_result",
          "data": {
            "text/plain": [
              "           0\n",
              "0   8.832558\n",
              "1   5.225542\n",
              "2   7.132459\n",
              "3   7.870968\n",
              "4   6.649714\n",
              "..       ...\n",
              "95  4.501195\n",
              "96  5.480301\n",
              "97  6.272793\n",
              "98  5.889181\n",
              "99  6.840884\n",
              "\n",
              "[100 rows x 1 columns]"
            ],
            "text/html": [
              "\n",
              "  <div id=\"df-fb10b9af-edea-48d8-bb6a-b4d53ea72272\">\n",
              "    <div class=\"colab-df-container\">\n",
              "      <div>\n",
              "<style scoped>\n",
              "    .dataframe tbody tr th:only-of-type {\n",
              "        vertical-align: middle;\n",
              "    }\n",
              "\n",
              "    .dataframe tbody tr th {\n",
              "        vertical-align: top;\n",
              "    }\n",
              "\n",
              "    .dataframe thead th {\n",
              "        text-align: right;\n",
              "    }\n",
              "</style>\n",
              "<table border=\"1\" class=\"dataframe\">\n",
              "  <thead>\n",
              "    <tr style=\"text-align: right;\">\n",
              "      <th></th>\n",
              "      <th>0</th>\n",
              "    </tr>\n",
              "  </thead>\n",
              "  <tbody>\n",
              "    <tr>\n",
              "      <th>0</th>\n",
              "      <td>8.832558</td>\n",
              "    </tr>\n",
              "    <tr>\n",
              "      <th>1</th>\n",
              "      <td>5.225542</td>\n",
              "    </tr>\n",
              "    <tr>\n",
              "      <th>2</th>\n",
              "      <td>7.132459</td>\n",
              "    </tr>\n",
              "    <tr>\n",
              "      <th>3</th>\n",
              "      <td>7.870968</td>\n",
              "    </tr>\n",
              "    <tr>\n",
              "      <th>4</th>\n",
              "      <td>6.649714</td>\n",
              "    </tr>\n",
              "    <tr>\n",
              "      <th>...</th>\n",
              "      <td>...</td>\n",
              "    </tr>\n",
              "    <tr>\n",
              "      <th>95</th>\n",
              "      <td>4.501195</td>\n",
              "    </tr>\n",
              "    <tr>\n",
              "      <th>96</th>\n",
              "      <td>5.480301</td>\n",
              "    </tr>\n",
              "    <tr>\n",
              "      <th>97</th>\n",
              "      <td>6.272793</td>\n",
              "    </tr>\n",
              "    <tr>\n",
              "      <th>98</th>\n",
              "      <td>5.889181</td>\n",
              "    </tr>\n",
              "    <tr>\n",
              "      <th>99</th>\n",
              "      <td>6.840884</td>\n",
              "    </tr>\n",
              "  </tbody>\n",
              "</table>\n",
              "<p>100 rows × 1 columns</p>\n",
              "</div>\n",
              "      <button class=\"colab-df-convert\" onclick=\"convertToInteractive('df-fb10b9af-edea-48d8-bb6a-b4d53ea72272')\"\n",
              "              title=\"Convert this dataframe to an interactive table.\"\n",
              "              style=\"display:none;\">\n",
              "        \n",
              "  <svg xmlns=\"http://www.w3.org/2000/svg\" height=\"24px\"viewBox=\"0 0 24 24\"\n",
              "       width=\"24px\">\n",
              "    <path d=\"M0 0h24v24H0V0z\" fill=\"none\"/>\n",
              "    <path d=\"M18.56 5.44l.94 2.06.94-2.06 2.06-.94-2.06-.94-.94-2.06-.94 2.06-2.06.94zm-11 1L8.5 8.5l.94-2.06 2.06-.94-2.06-.94L8.5 2.5l-.94 2.06-2.06.94zm10 10l.94 2.06.94-2.06 2.06-.94-2.06-.94-.94-2.06-.94 2.06-2.06.94z\"/><path d=\"M17.41 7.96l-1.37-1.37c-.4-.4-.92-.59-1.43-.59-.52 0-1.04.2-1.43.59L10.3 9.45l-7.72 7.72c-.78.78-.78 2.05 0 2.83L4 21.41c.39.39.9.59 1.41.59.51 0 1.02-.2 1.41-.59l7.78-7.78 2.81-2.81c.8-.78.8-2.07 0-2.86zM5.41 20L4 18.59l7.72-7.72 1.47 1.35L5.41 20z\"/>\n",
              "  </svg>\n",
              "      </button>\n",
              "      \n",
              "  <style>\n",
              "    .colab-df-container {\n",
              "      display:flex;\n",
              "      flex-wrap:wrap;\n",
              "      gap: 12px;\n",
              "    }\n",
              "\n",
              "    .colab-df-convert {\n",
              "      background-color: #E8F0FE;\n",
              "      border: none;\n",
              "      border-radius: 50%;\n",
              "      cursor: pointer;\n",
              "      display: none;\n",
              "      fill: #1967D2;\n",
              "      height: 32px;\n",
              "      padding: 0 0 0 0;\n",
              "      width: 32px;\n",
              "    }\n",
              "\n",
              "    .colab-df-convert:hover {\n",
              "      background-color: #E2EBFA;\n",
              "      box-shadow: 0px 1px 2px rgba(60, 64, 67, 0.3), 0px 1px 3px 1px rgba(60, 64, 67, 0.15);\n",
              "      fill: #174EA6;\n",
              "    }\n",
              "\n",
              "    [theme=dark] .colab-df-convert {\n",
              "      background-color: #3B4455;\n",
              "      fill: #D2E3FC;\n",
              "    }\n",
              "\n",
              "    [theme=dark] .colab-df-convert:hover {\n",
              "      background-color: #434B5C;\n",
              "      box-shadow: 0px 1px 3px 1px rgba(0, 0, 0, 0.15);\n",
              "      filter: drop-shadow(0px 1px 2px rgba(0, 0, 0, 0.3));\n",
              "      fill: #FFFFFF;\n",
              "    }\n",
              "  </style>\n",
              "\n",
              "      <script>\n",
              "        const buttonEl =\n",
              "          document.querySelector('#df-fb10b9af-edea-48d8-bb6a-b4d53ea72272 button.colab-df-convert');\n",
              "        buttonEl.style.display =\n",
              "          google.colab.kernel.accessAllowed ? 'block' : 'none';\n",
              "\n",
              "        async function convertToInteractive(key) {\n",
              "          const element = document.querySelector('#df-fb10b9af-edea-48d8-bb6a-b4d53ea72272');\n",
              "          const dataTable =\n",
              "            await google.colab.kernel.invokeFunction('convertToInteractive',\n",
              "                                                     [key], {});\n",
              "          if (!dataTable) return;\n",
              "\n",
              "          const docLinkHtml = 'Like what you see? Visit the ' +\n",
              "            '<a target=\"_blank\" href=https://colab.research.google.com/notebooks/data_table.ipynb>data table notebook</a>'\n",
              "            + ' to learn more about interactive tables.';\n",
              "          element.innerHTML = '';\n",
              "          dataTable['output_type'] = 'display_data';\n",
              "          await google.colab.output.renderOutput(dataTable, element);\n",
              "          const docLink = document.createElement('div');\n",
              "          docLink.innerHTML = docLinkHtml;\n",
              "          element.appendChild(docLink);\n",
              "        }\n",
              "      </script>\n",
              "    </div>\n",
              "  </div>\n",
              "  "
            ]
          },
          "metadata": {},
          "execution_count": 6
        }
      ]
    },
    {
      "cell_type": "code",
      "metadata": {
        "colab": {
          "base_uri": "https://localhost:8080/"
        },
        "id": "x6XGt_iAVQwO",
        "outputId": "b084e283-5911-4de6-85ae-952c5c525cce"
      },
      "source": [
        "from sklearn.linear_model import LinearRegression\n",
        "\n",
        "linear_reg = LinearRegression(fit_intercept=True)\n",
        "linear_reg.fit(X, y)"
      ],
      "execution_count": 7,
      "outputs": [
        {
          "output_type": "execute_result",
          "data": {
            "text/plain": [
              "LinearRegression()"
            ]
          },
          "metadata": {},
          "execution_count": 7
        }
      ]
    },
    {
      "cell_type": "markdown",
      "metadata": {
        "id": "Hnm9YgjbVQwO"
      },
      "source": [
        "Plot the model's predictions:"
      ]
    },
    {
      "cell_type": "code",
      "metadata": {
        "id": "9NtrLfGGVQwP"
      },
      "source": [
        "#X_fit[]"
      ],
      "execution_count": null,
      "outputs": []
    },
    {
      "cell_type": "code",
      "metadata": {
        "colab": {
          "base_uri": "https://localhost:8080/",
          "height": 290
        },
        "id": "1ZTT31igVQwP",
        "outputId": "6198633d-36ea-474f-a9d5-c8baec33c6cd"
      },
      "source": [
        "# construct best fit line\n",
        "X_fit = np.linspace(0, 2, 100)\n",
        "y_fit = linear_reg.predict(X_fit[:, np.newaxis])\n",
        "\n",
        "plt.scatter(X, y)\n",
        "plt.plot(X_fit, y_fit, \"r-\", linewidth=2, label=\"Predictions\")\n",
        "plt.xlabel(\"$X$\", fontsize=18)\n",
        "plt.ylabel(\"$y$\", rotation=0, fontsize=18)\n",
        "plt.legend(loc=\"upper left\", fontsize=14);"
      ],
      "execution_count": 8,
      "outputs": [
        {
          "output_type": "display_data",
          "data": {
            "text/plain": [
              "<Figure size 432x288 with 1 Axes>"
            ],
            "image/png": "[encoded data removed]"
          },
          "metadata": {
            "needs_background": "light"
          }
        }
      ]
    },
    {
      "cell_type": "markdown",
      "metadata": {
        "id": "kIfOsEcWVQwP"
      },
      "source": [
        "Predictions are a good fit."
      ]
    },
    {
      "cell_type": "markdown",
      "metadata": {
        "id": "z2VYUeGrVQwQ"
      },
      "source": [
        "Generate new data to make predictions with the model:"
      ]
    },
    {
      "cell_type": "code",
      "metadata": {
        "colab": {
          "base_uri": "https://localhost:8080/"
        },
        "id": "FuEd0Wp0VQwQ",
        "outputId": "a9afdf71-2909-48f6-db79-4ccff4a75709"
      },
      "source": [
        "X_new = np.array([[0], [2]])\n",
        "X_new"
      ],
      "execution_count": 9,
      "outputs": [
        {
          "output_type": "execute_result",
          "data": {
            "text/plain": [
              "array([[0],\n",
              "       [2]])"
            ]
          },
          "metadata": {},
          "execution_count": 9
        }
      ]
    },
    {
      "cell_type": "code",
      "metadata": {
        "colab": {
          "base_uri": "https://localhost:8080/"
        },
        "id": "lLCnLm7_VQwQ",
        "outputId": "79901809-a3c7-42a7-e98e-8842c359fa7a"
      },
      "source": [
        "X_new.shape"
      ],
      "execution_count": 10,
      "outputs": [
        {
          "output_type": "execute_result",
          "data": {
            "text/plain": [
              "(2, 1)"
            ]
          },
          "metadata": {},
          "execution_count": 10
        }
      ]
    },
    {
      "cell_type": "code",
      "metadata": {
        "colab": {
          "base_uri": "https://localhost:8080/"
        },
        "id": "zJIzUfZsVQwQ",
        "outputId": "ea733f61-4ce5-49e1-d544-55de405952ba"
      },
      "source": [
        "y_new = linear_reg.predict(X_new)\n",
        "y_new"
      ],
      "execution_count": 11,
      "outputs": [
        {
          "output_type": "execute_result",
          "data": {
            "text/plain": [
              "array([[ 3.81999343],\n",
              "       [10.05206381]])"
            ]
          },
          "metadata": {},
          "execution_count": 11
        }
      ]
    },
    {
      "cell_type": "code",
      "metadata": {
        "colab": {
          "base_uri": "https://localhost:8080/"
        },
        "id": "ICiEnkbdVQwQ",
        "outputId": "05ca4a82-fec5-4bf5-f410-912953d08785"
      },
      "source": [
        " linear_reg.coef_, linear_reg.intercept_"
      ],
      "execution_count": 12,
      "outputs": [
        {
          "output_type": "execute_result",
          "data": {
            "text/plain": [
              "(array([[3.11603519]]), array([3.81999343]))"
            ]
          },
          "metadata": {},
          "execution_count": 12
        }
      ]
    },
    {
      "cell_type": "markdown",
      "metadata": {
        "id": "iBXzOecgVQwR"
      },
      "source": [
        "The model estimates:\n",
        "\n",
        "$\\hat{y} = 3.36X + 3.74$"
      ]
    },
    {
      "cell_type": "code",
      "metadata": {
        "id": "ZNvipq0wQYfj"
      },
      "source": [
        "#|VENTAS|GANANCIAS|\n",
        "#COEF*VENTAS+B\n",
        "#|VENTAS|COMPRAS|GANANCIAS|\n",
        "#COEF1*X1+COEF2*X2+B=Y"
      ],
      "execution_count": null,
      "outputs": []
    },
    {
      "cell_type": "markdown",
      "metadata": {
        "id": "_Rv-RJSnVQwR"
      },
      "source": [
        "## Polynomial Regression\n",
        "\n",
        "If data is more complex than a straight line, you can use a linear model ti fit non-linear data adding powers of each feature as new features and then train a linear model on the extended set of features. "
      ]
    },
    {
      "cell_type": "markdown",
      "metadata": {
        "id": "dPrpAVsZVQwR"
      },
      "source": [
        "$$y = a_0 + a_1x_1 + a_2x_2 + a_3x_3 + ...$$ to $$y = a_0 + a_1x + a_2x^2 + a_3x^3+ ...$$ "
      ]
    },
    {
      "cell_type": "markdown",
      "metadata": {
        "id": "9kjMWzEfVQwR"
      },
      "source": [
        "This is still a linear model, the linearity refers to the fact that the coefficients never multiply or divide each other."
      ]
    },
    {
      "cell_type": "markdown",
      "metadata": {
        "id": "2M3fp_CSVQwR"
      },
      "source": [
        "To generate polynomial data we use the function:\n",
        "\n",
        "$y = 0.50X^2 + X + 2 + noise$"
      ]
    },
    {
      "cell_type": "code",
      "metadata": {
        "id": "sSrueMnPVQwR"
      },
      "source": [
        "# generate non-linear data e.g. quadratic equation\n",
        "m = 100\n",
        "X = 6 * np.random.rand(m, 1) - 3\n",
        "y = 0.5 * X**2 + X + 2 + np.random.randn(m, 1)"
      ],
      "execution_count": null,
      "outputs": []
    },
    {
      "cell_type": "code",
      "metadata": {
        "colab": {
          "base_uri": "https://localhost:8080/",
          "height": 291
        },
        "id": "GNQQoXkMVQwS",
        "outputId": "5284814d-3b79-4a75-c7c3-a26c161846ca"
      },
      "source": [
        "plt.plot(X, y, \"b.\")\n",
        "plt.xlabel(\"$x_1$\", fontsize=18)\n",
        "plt.ylabel(\"$y$\", rotation=0, fontsize=18)\n",
        "plt.axis([-3, 3, 0, 10]);"
      ],
      "execution_count": null,
      "outputs": [
        {
          "output_type": "display_data",
          "data": {
            "text/plain": [
              "<Figure size 432x288 with 1 Axes>"
            ],
            "image/png": "[encoded data removed]"
          },
          "metadata": {
            "needs_background": "light"
          }
        }
      ]
    },
    {
      "cell_type": "code",
      "source": [
        "import pandas as pd\n",
        "pd.DataFrame(y)"
      ],
      "metadata": {
        "id": "YtaK_dsidNcP",
        "outputId": "ed940d74-045d-4578-a1c1-3cac6bbea074",
        "colab": {
          "base_uri": "https://localhost:8080/",
          "height": 423
        }
      },
      "execution_count": null,
      "outputs": [
        {
          "output_type": "execute_result",
          "data": {
            "text/plain": [
              "           0\n",
              "0   3.998940\n",
              "1   4.320418\n",
              "2   2.599923\n",
              "3   2.175267\n",
              "4   0.447174\n",
              "..       ...\n",
              "95  0.565325\n",
              "96  2.759217\n",
              "97  3.314489\n",
              "98  3.124415\n",
              "99  1.650905\n",
              "\n",
              "[100 rows x 1 columns]"
            ],
            "text/html": [
              "\n",
              "  <div id=\"df-a10cfaa4-512e-4bca-b06c-4dff01d92ace\">\n",
              "    <div class=\"colab-df-container\">\n",
              "      <div>\n",
              "<style scoped>\n",
              "    .dataframe tbody tr th:only-of-type {\n",
              "        vertical-align: middle;\n",
              "    }\n",
              "\n",
              "    .dataframe tbody tr th {\n",
              "        vertical-align: top;\n",
              "    }\n",
              "\n",
              "    .dataframe thead th {\n",
              "        text-align: right;\n",
              "    }\n",
              "</style>\n",
              "<table border=\"1\" class=\"dataframe\">\n",
              "  <thead>\n",
              "    <tr style=\"text-align: right;\">\n",
              "      <th></th>\n",
              "      <th>0</th>\n",
              "    </tr>\n",
              "  </thead>\n",
              "  <tbody>\n",
              "    <tr>\n",
              "      <th>0</th>\n",
              "      <td>3.998940</td>\n",
              "    </tr>\n",
              "    <tr>\n",
              "      <th>1</th>\n",
              "      <td>4.320418</td>\n",
              "    </tr>\n",
              "    <tr>\n",
              "      <th>2</th>\n",
              "      <td>2.599923</td>\n",
              "    </tr>\n",
              "    <tr>\n",
              "      <th>3</th>\n",
              "      <td>2.175267</td>\n",
              "    </tr>\n",
              "    <tr>\n",
              "      <th>4</th>\n",
              "      <td>0.447174</td>\n",
              "    </tr>\n",
              "    <tr>\n",
              "      <th>...</th>\n",
              "      <td>...</td>\n",
              "    </tr>\n",
              "    <tr>\n",
              "      <th>95</th>\n",
              "      <td>0.565325</td>\n",
              "    </tr>\n",
              "    <tr>\n",
              "      <th>96</th>\n",
              "      <td>2.759217</td>\n",
              "    </tr>\n",
              "    <tr>\n",
              "      <th>97</th>\n",
              "      <td>3.314489</td>\n",
              "    </tr>\n",
              "    <tr>\n",
              "      <th>98</th>\n",
              "      <td>3.124415</td>\n",
              "    </tr>\n",
              "    <tr>\n",
              "      <th>99</th>\n",
              "      <td>1.650905</td>\n",
              "    </tr>\n",
              "  </tbody>\n",
              "</table>\n",
              "<p>100 rows × 1 columns</p>\n",
              "</div>\n",
              "      <button class=\"colab-df-convert\" onclick=\"convertToInteractive('df-a10cfaa4-512e-4bca-b06c-4dff01d92ace')\"\n",
              "              title=\"Convert this dataframe to an interactive table.\"\n",
              "              style=\"display:none;\">\n",
              "        \n",
              "  <svg xmlns=\"http://www.w3.org/2000/svg\" height=\"24px\"viewBox=\"0 0 24 24\"\n",
              "       width=\"24px\">\n",
              "    <path d=\"M0 0h24v24H0V0z\" fill=\"none\"/>\n",
              "    <path d=\"M18.56 5.44l.94 2.06.94-2.06 2.06-.94-2.06-.94-.94-2.06-.94 2.06-2.06.94zm-11 1L8.5 8.5l.94-2.06 2.06-.94-2.06-.94L8.5 2.5l-.94 2.06-2.06.94zm10 10l.94 2.06.94-2.06 2.06-.94-2.06-.94-.94-2.06-.94 2.06-2.06.94z\"/><path d=\"M17.41 7.96l-1.37-1.37c-.4-.4-.92-.59-1.43-.59-.52 0-1.04.2-1.43.59L10.3 9.45l-7.72 7.72c-.78.78-.78 2.05 0 2.83L4 21.41c.39.39.9.59 1.41.59.51 0 1.02-.2 1.41-.59l7.78-7.78 2.81-2.81c.8-.78.8-2.07 0-2.86zM5.41 20L4 18.59l7.72-7.72 1.47 1.35L5.41 20z\"/>\n",
              "  </svg>\n",
              "      </button>\n",
              "      \n",
              "  <style>\n",
              "    .colab-df-container {\n",
              "      display:flex;\n",
              "      flex-wrap:wrap;\n",
              "      gap: 12px;\n",
              "    }\n",
              "\n",
              "    .colab-df-convert {\n",
              "      background-color: #E8F0FE;\n",
              "      border: none;\n",
              "      border-radius: 50%;\n",
              "      cursor: pointer;\n",
              "      display: none;\n",
              "      fill: #1967D2;\n",
              "      height: 32px;\n",
              "      padding: 0 0 0 0;\n",
              "      width: 32px;\n",
              "    }\n",
              "\n",
              "    .colab-df-convert:hover {\n",
              "      background-color: #E2EBFA;\n",
              "      box-shadow: 0px 1px 2px rgba(60, 64, 67, 0.3), 0px 1px 3px 1px rgba(60, 64, 67, 0.15);\n",
              "      fill: #174EA6;\n",
              "    }\n",
              "\n",
              "    [theme=dark] .colab-df-convert {\n",
              "      background-color: #3B4455;\n",
              "      fill: #D2E3FC;\n",
              "    }\n",
              "\n",
              "    [theme=dark] .colab-df-convert:hover {\n",
              "      background-color: #434B5C;\n",
              "      box-shadow: 0px 1px 3px 1px rgba(0, 0, 0, 0.15);\n",
              "      filter: drop-shadow(0px 1px 2px rgba(0, 0, 0, 0.3));\n",
              "      fill: #FFFFFF;\n",
              "    }\n",
              "  </style>\n",
              "\n",
              "      <script>\n",
              "        const buttonEl =\n",
              "          document.querySelector('#df-a10cfaa4-512e-4bca-b06c-4dff01d92ace button.colab-df-convert');\n",
              "        buttonEl.style.display =\n",
              "          google.colab.kernel.accessAllowed ? 'block' : 'none';\n",
              "\n",
              "        async function convertToInteractive(key) {\n",
              "          const element = document.querySelector('#df-a10cfaa4-512e-4bca-b06c-4dff01d92ace');\n",
              "          const dataTable =\n",
              "            await google.colab.kernel.invokeFunction('convertToInteractive',\n",
              "                                                     [key], {});\n",
              "          if (!dataTable) return;\n",
              "\n",
              "          const docLinkHtml = 'Like what you see? Visit the ' +\n",
              "            '<a target=\"_blank\" href=https://colab.research.google.com/notebooks/data_table.ipynb>data table notebook</a>'\n",
              "            + ' to learn more about interactive tables.';\n",
              "          element.innerHTML = '';\n",
              "          dataTable['output_type'] = 'display_data';\n",
              "          await google.colab.output.renderOutput(dataTable, element);\n",
              "          const docLink = document.createElement('div');\n",
              "          docLink.innerHTML = docLinkHtml;\n",
              "          element.appendChild(docLink);\n",
              "        }\n",
              "      </script>\n",
              "    </div>\n",
              "  </div>\n",
              "  "
            ]
          },
          "metadata": {},
          "execution_count": 76
        }
      ]
    },
    {
      "cell_type": "markdown",
      "metadata": {
        "id": "vrZTRaLNVQwS"
      },
      "source": [
        "Now we can use `PolynomialFeatues` to transform training data adding the square of each feature as new features."
      ]
    },
    {
      "cell_type": "code",
      "metadata": {
        "id": "BXo0Hm56VQwS"
      },
      "source": [
        "from sklearn.preprocessing import PolynomialFeatures\n",
        "\n",
        "poly_features = PolynomialFeatures(degree=2, include_bias=False)\n",
        "X_poly = poly_features.fit_transform(X)"
      ],
      "execution_count": null,
      "outputs": []
    },
    {
      "cell_type": "code",
      "metadata": {
        "colab": {
          "base_uri": "https://localhost:8080/"
        },
        "id": "1FqY9-I4VQwS",
        "outputId": "d5d3ca46-6530-4848-96a2-2a9c61918fbc"
      },
      "source": [
        "X_poly"
      ],
      "execution_count": null,
      "outputs": [
        {
          "output_type": "execute_result",
          "data": {
            "text/plain": [
              "array([[-2.38324557e+00,  5.67985946e+00],\n",
              "       [ 4.25427011e-01,  1.80988142e-01],\n",
              "       [-2.88979418e+00,  8.35091039e+00],\n",
              "       [-1.05861711e-01,  1.12067018e-02],\n",
              "       [-1.73790252e+00,  3.02030517e+00],\n",
              "       [-9.23900594e-01,  8.53592308e-01],\n",
              "       [ 1.65482841e+00,  2.73845708e+00],\n",
              "       [ 2.64742503e+00,  7.00885927e+00],\n",
              "       [-2.56550237e+00,  6.58180240e+00],\n",
              "       [ 2.05453236e-01,  4.22110321e-02],\n",
              "       [ 2.29520091e+00,  5.26794724e+00],\n",
              "       [-2.50494879e+00,  6.27476846e+00],\n",
              "       [ 1.94708428e+00,  3.79113720e+00],\n",
              "       [-8.53191894e-01,  7.27936409e-01],\n",
              "       [-1.06743179e+00,  1.13941062e+00],\n",
              "       [ 2.86479832e+00,  8.20706940e+00],\n",
              "       [-1.79484546e+00,  3.22147023e+00],\n",
              "       [ 1.15916364e+00,  1.34366036e+00],\n",
              "       [ 1.92864437e+00,  3.71966910e+00],\n",
              "       [-2.75289903e+00,  7.57845306e+00],\n",
              "       [ 1.02231275e+00,  1.04512336e+00],\n",
              "       [ 2.70929985e+00,  7.34030566e+00],\n",
              "       [-2.25468020e+00,  5.08358280e+00],\n",
              "       [ 2.37732782e+00,  5.65168755e+00],\n",
              "       [ 5.68659824e-01,  3.23373996e-01],\n",
              "       [ 6.99627491e-01,  4.89478626e-01],\n",
              "       [ 6.77665049e-01,  4.59229919e-01],\n",
              "       [-1.20698468e+00,  1.45681202e+00],\n",
              "       [ 2.61121089e+00,  6.81842232e+00],\n",
              "       [ 2.68410278e+00,  7.20440771e+00],\n",
              "       [ 7.51827961e-01,  5.65245283e-01],\n",
              "       [ 1.70053636e+00,  2.89182390e+00],\n",
              "       [ 6.73547915e-01,  4.53666794e-01],\n",
              "       [-9.36093146e-02,  8.76270377e-03],\n",
              "       [ 9.64920710e-01,  9.31071976e-01],\n",
              "       [ 3.18008716e-01,  1.01129543e-01],\n",
              "       [ 5.84855176e-01,  3.42055577e-01],\n",
              "       [ 1.70299532e+00,  2.90019306e+00],\n",
              "       [-1.14577011e-01,  1.31278915e-02],\n",
              "       [-2.75547536e+00,  7.59264448e+00],\n",
              "       [-2.01600311e+00,  4.06426856e+00],\n",
              "       [-3.68356701e-01,  1.35686659e-01],\n",
              "       [ 1.34895936e+00,  1.81969135e+00],\n",
              "       [ 5.59671890e-01,  3.13232624e-01],\n",
              "       [ 9.01765115e-01,  8.13180323e-01],\n",
              "       [-1.24326429e-01,  1.54570608e-02],\n",
              "       [ 6.94452132e-01,  4.82263763e-01],\n",
              "       [-1.02589537e+00,  1.05246132e+00],\n",
              "       [-1.78904444e-01,  3.20068000e-02],\n",
              "       [ 1.46567439e+00,  2.14820143e+00],\n",
              "       [ 2.23099667e+00,  4.97734616e+00],\n",
              "       [-3.98067996e-01,  1.58458130e-01],\n",
              "       [-2.73803005e+00,  7.49680858e+00],\n",
              "       [-2.02996474e+00,  4.12075683e+00],\n",
              "       [-2.87483316e+00,  8.26466572e+00],\n",
              "       [ 9.19578115e-01,  8.45623910e-01],\n",
              "       [-1.00611225e+00,  1.01226186e+00],\n",
              "       [ 2.54871814e-01,  6.49596417e-02],\n",
              "       [-4.03389193e-02,  1.62722841e-03],\n",
              "       [-2.51084106e+00,  6.30432284e+00],\n",
              "       [-5.80431833e-01,  3.36901113e-01],\n",
              "       [-1.67663325e+00,  2.81109906e+00],\n",
              "       [-4.89601268e-01,  2.39709402e-01],\n",
              "       [-1.77853032e+00,  3.16317009e+00],\n",
              "       [ 2.04271444e+00,  4.17268227e+00],\n",
              "       [-1.95483998e+00,  3.82139935e+00],\n",
              "       [ 2.76468331e+00,  7.64347380e+00],\n",
              "       [-5.04555803e-01,  2.54576558e-01],\n",
              "       [ 2.07747175e+00,  4.31588888e+00],\n",
              "       [ 7.72588909e-01,  5.96893623e-01],\n",
              "       [ 1.41210179e+00,  1.99403147e+00],\n",
              "       [ 1.60634333e+00,  2.58033889e+00],\n",
              "       [ 2.90692914e-02,  8.45023700e-04],\n",
              "       [ 2.59803140e-01,  6.74976716e-02],\n",
              "       [ 8.39752069e-02,  7.05183537e-03],\n",
              "       [ 5.28350269e-01,  2.79154006e-01],\n",
              "       [-2.82363333e+00,  7.97290516e+00],\n",
              "       [-6.26908981e-01,  3.93014870e-01],\n",
              "       [ 6.37132281e-01,  4.05937544e-01],\n",
              "       [ 5.86341392e-01,  3.43796227e-01],\n",
              "       [ 1.75773657e+00,  3.08963784e+00],\n",
              "       [ 9.30056033e-01,  8.65004225e-01],\n",
              "       [ 2.95279990e+00,  8.71902724e+00],\n",
              "       [-1.29687283e+00,  1.68187913e+00],\n",
              "       [-8.45093822e-01,  7.14183568e-01],\n",
              "       [-6.96917089e-01,  4.85693429e-01],\n",
              "       [-2.05123158e-01,  4.20755099e-02],\n",
              "       [ 2.01598838e+00,  4.06420916e+00],\n",
              "       [-1.58524744e+00,  2.51300943e+00],\n",
              "       [ 1.65600124e+00,  2.74234011e+00],\n",
              "       [-5.68138901e-01,  3.22781811e-01],\n",
              "       [ 6.11132302e-01,  3.73482691e-01],\n",
              "       [ 7.95243199e-01,  6.32411746e-01],\n",
              "       [-7.62908177e-01,  5.82028886e-01],\n",
              "       [ 7.56912312e-02,  5.72916249e-03],\n",
              "       [-5.21812952e-01,  2.72288757e-01],\n",
              "       [-2.58520328e+00,  6.68327601e+00],\n",
              "       [-3.77007667e-01,  1.42134781e-01],\n",
              "       [-2.41563964e+00,  5.83531489e+00],\n",
              "       [-5.69875206e-01,  3.24757750e-01]])"
            ]
          },
          "metadata": {},
          "execution_count": 78
        }
      ]
    },
    {
      "cell_type": "markdown",
      "metadata": {
        "id": "GrFMRU_eVQwS"
      },
      "source": [
        "`X_poly` now contains the original feature of X plus the square of the feature:"
      ]
    },
    {
      "cell_type": "code",
      "metadata": {
        "colab": {
          "base_uri": "https://localhost:8080/"
        },
        "id": "M8FH1dY2UwgN",
        "outputId": "b1ab252f-15be-4663-8014-d7420047017e"
      },
      "source": [
        "print(X[0])\n",
        "print(X[0]*X[0])\n"
      ],
      "execution_count": null,
      "outputs": [
        {
          "output_type": "stream",
          "name": "stdout",
          "text": [
            "[-2.38324557]\n",
            "[5.67985946]\n"
          ]
        }
      ]
    },
    {
      "cell_type": "code",
      "metadata": {
        "colab": {
          "base_uri": "https://localhost:8080/"
        },
        "id": "PSflPniWVQwT",
        "outputId": "5c8dc768-8e52-42f9-e790-5ba1ce7d5816"
      },
      "source": [
        "X_poly[0]"
      ],
      "execution_count": null,
      "outputs": [
        {
          "output_type": "execute_result",
          "data": {
            "text/plain": [
              "array([-2.38324557,  5.67985946])"
            ]
          },
          "metadata": {},
          "execution_count": 80
        }
      ]
    },
    {
      "cell_type": "markdown",
      "metadata": {
        "id": "HaXjXg7FVQwT"
      },
      "source": [
        "Fit the model to this extended training data:"
      ]
    },
    {
      "cell_type": "code",
      "metadata": {
        "colab": {
          "base_uri": "https://localhost:8080/"
        },
        "id": "c0Qu93dgVQwT",
        "outputId": "2d33bd34-f425-4206-87b9-49daa184637c"
      },
      "source": [
        "lin_reg = LinearRegression(fit_intercept=True)\n",
        "lin_reg.fit(X_poly, y)\n",
        "lin_reg.coef_, lin_reg.intercept_"
      ],
      "execution_count": null,
      "outputs": [
        {
          "output_type": "execute_result",
          "data": {
            "text/plain": [
              "(array([[0.89643337, 0.48819444]]), array([2.09460069]))"
            ]
          },
          "metadata": {},
          "execution_count": 81
        }
      ]
    },
    {
      "cell_type": "markdown",
      "metadata": {
        "id": "rKOSwvnmVQwT"
      },
      "source": [
        "The model estimates:\n",
        "\n",
        "$\\hat{y} =  0.89X +0.48X^2 + 2.09$"
      ]
    },
    {
      "cell_type": "markdown",
      "metadata": {
        "id": "_EtZEKz5VQwT"
      },
      "source": [
        "Plot the data and the predictions:"
      ]
    },
    {
      "cell_type": "code",
      "metadata": {
        "colab": {
          "base_uri": "https://localhost:8080/",
          "height": 291
        },
        "id": "6Q8dHRgdVQwT",
        "outputId": "eeb2ed3a-bcc3-4f4d-b052-65f07a498a05"
      },
      "source": [
        "X_new=np.linspace(-3, 3, 100).reshape(100, 1)\n",
        "X_new_poly = poly_features.transform(X_new)\n",
        "y_new = lin_reg.predict(X_new_poly)\n",
        "plt.plot(X, y, \"b.\")\n",
        "plt.plot(X_new, y_new, \"r-\", linewidth=2, label=\"Predictions\")\n",
        "plt.xlabel(\"$x_1$\", fontsize=18)\n",
        "plt.ylabel(\"$y$\", rotation=0, fontsize=18)\n",
        "plt.legend(loc=\"upper left\", fontsize=14)\n",
        "plt.axis([-3, 3, 0, 10]);"
      ],
      "execution_count": null,
      "outputs": [
        {
          "output_type": "display_data",
          "data": {
            "text/plain": [
              "<Figure size 432x288 with 1 Axes>"
            ],
            "image/png": "[encoded data removed]"
          },
          "metadata": {
            "needs_background": "light"
          }
        }
      ]
    },
    {
      "cell_type": "code",
      "source": [],
      "metadata": {
        "id": "vyq0o8f2pcqa"
      },
      "execution_count": null,
      "outputs": []
    },
    {
      "cell_type": "markdown",
      "source": [
        "## R square\n",
        "\n",
        "R² es una medida estadística de qué tan cerca están los datos de la línea de regresión ajustada. También se conoce como el coeficiente de determinación o el coeficiente de determinación múltiple para la regresión múltiple. Para decirlo en un lenguaje más simple, R² es una medida de ajuste para los modelos de regresión lineal.\n",
        "\n",
        "\n",
        "\n",
        "R² no indica si un modelo de regresión se ajusta adecuadamente a sus datos. Un buen modelo puede tener un valor R² bajo. Por otro lado, un modelo sesgado puede tener un valor alto de R².\n",
        "\n",
        " SSres + SSreg = SStot, R² = Explained variation / Total Variation\n",
        " \n",
        " ![image.png](https://i.stack.imgur.com/xb1VY.png)\n",
        " \n",
        "![image.png](https://3.bp.blogspot.com/-MFqQLwbGwd4/WMO7tz39beI/AAAAAAAAF9I/Bjpfohgv_5E4lu7HzHJBQtXsBM--byqPwCLcB/s1600/rsquared.png)\n"
      ],
      "metadata": {
        "id": "TIFwAtW1pc6h"
      }
    },
    {
      "cell_type": "markdown",
      "metadata": {
        "id": "nTKFj4x9LMXm"
      },
      "source": [
        "# Ejercicio 1\n",
        "\n",
        "Utiliza la base de datos de \n",
        "https://www.kaggle.com/vinicius150987/manufacturing-cost\n",
        "\n",
        "Suponga que trabaja como consultor de una empresa de nueva creación que busca desarrollar un modelo para estimar el costo de los bienes vendidos a medida que varían el volumen de producción (número de unidades producidas). La startup recopiló datos y le pidió que desarrollara un modelo para predecir su costo frente a la cantidad de unidades vendidas."
      ]
    },
    {
      "cell_type": "code",
      "metadata": {
        "colab": {
          "base_uri": "https://localhost:8080/",
          "height": 363
        },
        "id": "oTnErQOkL3oa",
        "outputId": "0f012440-7501-4a92-ff5e-4dcf6c757444"
      },
      "source": [
        "import pandas as pd\n",
        "df = pd.read_csv('https://raw.githubusercontent.com/marypazrf/bdd/main/EconomiesOfScale.csv')\n",
        "df.sample(10)"
      ],
      "execution_count": 4,
      "outputs": [
        {
          "output_type": "execute_result",
          "data": {
            "text/plain": [
              "     Number of Units  Manufacturing Cost\n",
              "615         4.872785           40.084457\n",
              "954         6.842917           24.723594\n",
              "293         3.752124           38.347923\n",
              "736         5.284642           38.960035\n",
              "768         5.426341           37.290658\n",
              "503         4.447426           38.923320\n",
              "294         3.756673           47.823661\n",
              "642         4.977296           32.276264\n",
              "774         5.451068           32.991439\n",
              "819         5.618421           30.743783"
            ],
            "text/html": [
              "\n",
              "  <div id=\"df-5b69d8ba-f478-4e66-a4f1-0734f142d01d\">\n",
              "    <div class=\"colab-df-container\">\n",
              "      <div>\n",
              "<style scoped>\n",
              "    .dataframe tbody tr th:only-of-type {\n",
              "        vertical-align: middle;\n",
              "    }\n",
              "\n",
              "    .dataframe tbody tr th {\n",
              "        vertical-align: top;\n",
              "    }\n",
              "\n",
              "    .dataframe thead th {\n",
              "        text-align: right;\n",
              "    }\n",
              "</style>\n",
              "<table border=\"1\" class=\"dataframe\">\n",
              "  <thead>\n",
              "    <tr style=\"text-align: right;\">\n",
              "      <th></th>\n",
              "      <th>Number of Units</th>\n",
              "      <th>Manufacturing Cost</th>\n",
              "    </tr>\n",
              "  </thead>\n",
              "  <tbody>\n",
              "    <tr>\n",
              "      <th>615</th>\n",
              "      <td>4.872785</td>\n",
              "      <td>40.084457</td>\n",
              "    </tr>\n",
              "    <tr>\n",
              "      <th>954</th>\n",
              "      <td>6.842917</td>\n",
              "      <td>24.723594</td>\n",
              "    </tr>\n",
              "    <tr>\n",
              "      <th>293</th>\n",
              "      <td>3.752124</td>\n",
              "      <td>38.347923</td>\n",
              "    </tr>\n",
              "    <tr>\n",
              "      <th>736</th>\n",
              "      <td>5.284642</td>\n",
              "      <td>38.960035</td>\n",
              "    </tr>\n",
              "    <tr>\n",
              "      <th>768</th>\n",
              "      <td>5.426341</td>\n",
              "      <td>37.290658</td>\n",
              "    </tr>\n",
              "    <tr>\n",
              "      <th>503</th>\n",
              "      <td>4.447426</td>\n",
              "      <td>38.923320</td>\n",
              "    </tr>\n",
              "    <tr>\n",
              "      <th>294</th>\n",
              "      <td>3.756673</td>\n",
              "      <td>47.823661</td>\n",
              "    </tr>\n",
              "    <tr>\n",
              "      <th>642</th>\n",
              "      <td>4.977296</td>\n",
              "      <td>32.276264</td>\n",
              "    </tr>\n",
              "    <tr>\n",
              "      <th>774</th>\n",
              "      <td>5.451068</td>\n",
              "      <td>32.991439</td>\n",
              "    </tr>\n",
              "    <tr>\n",
              "      <th>819</th>\n",
              "      <td>5.618421</td>\n",
              "      <td>30.743783</td>\n",
              "    </tr>\n",
              "  </tbody>\n",
              "</table>\n",
              "</div>\n",
              "      <button class=\"colab-df-convert\" onclick=\"convertToInteractive('df-5b69d8ba-f478-4e66-a4f1-0734f142d01d')\"\n",
              "              title=\"Convert this dataframe to an interactive table.\"\n",
              "              style=\"display:none;\">\n",
              "        \n",
              "  <svg xmlns=\"http://www.w3.org/2000/svg\" height=\"24px\"viewBox=\"0 0 24 24\"\n",
              "       width=\"24px\">\n",
              "    <path d=\"M0 0h24v24H0V0z\" fill=\"none\"/>\n",
              "    <path d=\"M18.56 5.44l.94 2.06.94-2.06 2.06-.94-2.06-.94-.94-2.06-.94 2.06-2.06.94zm-11 1L8.5 8.5l.94-2.06 2.06-.94-2.06-.94L8.5 2.5l-.94 2.06-2.06.94zm10 10l.94 2.06.94-2.06 2.06-.94-2.06-.94-.94-2.06-.94 2.06-2.06.94z\"/><path d=\"M17.41 7.96l-1.37-1.37c-.4-.4-.92-.59-1.43-.59-.52 0-1.04.2-1.43.59L10.3 9.45l-7.72 7.72c-.78.78-.78 2.05 0 2.83L4 21.41c.39.39.9.59 1.41.59.51 0 1.02-.2 1.41-.59l7.78-7.78 2.81-2.81c.8-.78.8-2.07 0-2.86zM5.41 20L4 18.59l7.72-7.72 1.47 1.35L5.41 20z\"/>\n",
              "  </svg>\n",
              "      </button>\n",
              "      \n",
              "  <style>\n",
              "    .colab-df-container {\n",
              "      display:flex;\n",
              "      flex-wrap:wrap;\n",
              "      gap: 12px;\n",
              "    }\n",
              "\n",
              "    .colab-df-convert {\n",
              "      background-color: #E8F0FE;\n",
              "      border: none;\n",
              "      border-radius: 50%;\n",
              "      cursor: pointer;\n",
              "      display: none;\n",
              "      fill: #1967D2;\n",
              "      height: 32px;\n",
              "      padding: 0 0 0 0;\n",
              "      width: 32px;\n",
              "    }\n",
              "\n",
              "    .colab-df-convert:hover {\n",
              "      background-color: #E2EBFA;\n",
              "      box-shadow: 0px 1px 2px rgba(60, 64, 67, 0.3), 0px 1px 3px 1px rgba(60, 64, 67, 0.15);\n",
              "      fill: #174EA6;\n",
              "    }\n",
              "\n",
              "    [theme=dark] .colab-df-convert {\n",
              "      background-color: #3B4455;\n",
              "      fill: #D2E3FC;\n",
              "    }\n",
              "\n",
              "    [theme=dark] .colab-df-convert:hover {\n",
              "      background-color: #434B5C;\n",
              "      box-shadow: 0px 1px 3px 1px rgba(0, 0, 0, 0.15);\n",
              "      filter: drop-shadow(0px 1px 2px rgba(0, 0, 0, 0.3));\n",
              "      fill: #FFFFFF;\n",
              "    }\n",
              "  </style>\n",
              "\n",
              "      <script>\n",
              "        const buttonEl =\n",
              "          document.querySelector('#df-5b69d8ba-f478-4e66-a4f1-0734f142d01d button.colab-df-convert');\n",
              "        buttonEl.style.display =\n",
              "          google.colab.kernel.accessAllowed ? 'block' : 'none';\n",
              "\n",
              "        async function convertToInteractive(key) {\n",
              "          const element = document.querySelector('#df-5b69d8ba-f478-4e66-a4f1-0734f142d01d');\n",
              "          const dataTable =\n",
              "            await google.colab.kernel.invokeFunction('convertToInteractive',\n",
              "                                                     [key], {});\n",
              "          if (!dataTable) return;\n",
              "\n",
              "          const docLinkHtml = 'Like what you see? Visit the ' +\n",
              "            '<a target=\"_blank\" href=https://colab.research.google.com/notebooks/data_table.ipynb>data table notebook</a>'\n",
              "            + ' to learn more about interactive tables.';\n",
              "          element.innerHTML = '';\n",
              "          dataTable['output_type'] = 'display_data';\n",
              "          await google.colab.output.renderOutput(dataTable, element);\n",
              "          const docLink = document.createElement('div');\n",
              "          docLink.innerHTML = docLinkHtml;\n",
              "          element.appendChild(docLink);\n",
              "        }\n",
              "      </script>\n",
              "    </div>\n",
              "  </div>\n",
              "  "
            ]
          },
          "metadata": {},
          "execution_count": 4
        }
      ]
    },
    {
      "cell_type": "code",
      "metadata": {
        "id": "14kGO5nkMGlV"
      },
      "source": [
        "X = df[['Number of Units']]\n",
        "y = df['Manufacturing Cost']"
      ],
      "execution_count": 5,
      "outputs": []
    },
    {
      "cell_type": "code",
      "source": [
        "len(X)"
      ],
      "metadata": {
        "id": "ksh_OrkjY3GW",
        "outputId": "eb2f8b33-8c2a-4c94-954c-e95c70312d3a",
        "colab": {
          "base_uri": "https://localhost:8080/"
        }
      },
      "execution_count": 6,
      "outputs": [
        {
          "output_type": "execute_result",
          "data": {
            "text/plain": [
              "1000"
            ]
          },
          "metadata": {},
          "execution_count": 6
        }
      ]
    },
    {
      "cell_type": "code",
      "source": [
        "y.describe()"
      ],
      "metadata": {
        "colab": {
          "base_uri": "https://localhost:8080/"
        },
        "id": "bwR6SSqQDfC2",
        "outputId": "51fc1d8e-0b11-4ba4-cc68-f1c439b17096"
      },
      "execution_count": 7,
      "outputs": [
        {
          "output_type": "execute_result",
          "data": {
            "text/plain": [
              "count    1000.000000\n",
              "mean       40.052999\n",
              "std        10.595322\n",
              "min        20.000000\n",
              "25%        32.912036\n",
              "50%        38.345781\n",
              "75%        44.531822\n",
              "max       100.000000\n",
              "Name: Manufacturing Cost, dtype: float64"
            ]
          },
          "metadata": {},
          "execution_count": 7
        }
      ]
    },
    {
      "cell_type": "code",
      "metadata": {
        "colab": {
          "base_uri": "https://localhost:8080/",
          "height": 283
        },
        "id": "idoEjfEhMoxk",
        "outputId": "b1053f3b-339f-471c-99b7-0e433029ec77"
      },
      "source": [
        "plt.plot(X,y,'b.')"
      ],
      "execution_count": 12,
      "outputs": [
        {
          "output_type": "execute_result",
          "data": {
            "text/plain": [
              "[<matplotlib.lines.Line2D at 0x7f38db5f5f10>]"
            ]
          },
          "metadata": {},
          "execution_count": 12
        },
        {
          "output_type": "display_data",
          "data": {
            "text/plain": [
              "<Figure size 432x288 with 1 Axes>"
            ],
            "image/png": "[encoded data removed]"
          },
          "metadata": {
            "needs_background": "light"
          }
        }
      ]
    },
    {
      "cell_type": "code",
      "source": [
        "plt.scatter(X, y);"
      ],
      "metadata": {
        "colab": {
          "base_uri": "https://localhost:8080/",
          "height": 265
        },
        "id": "aePN5dEWrSVt",
        "outputId": "54171308-65fb-4209-a668-8db8faefc812"
      },
      "execution_count": 13,
      "outputs": [
        {
          "output_type": "display_data",
          "data": {
            "text/plain": [
              "<Figure size 432x288 with 1 Axes>"
            ],
            "image/png": "[encoded data removed]"
          },
          "metadata": {
            "needs_background": "light"
          }
        }
      ]
    },
    {
      "cell_type": "code",
      "source": [
        "#importar librerias\n",
        "from sklearn.model_selection import train_test_split\n",
        "from sklearn.linear_model import LinearRegression\n",
        "from sklearn.preprocessing import PolynomialFeatures\n",
        "\n"
      ],
      "metadata": {
        "id": "oSjA0SiDr3Hd"
      },
      "execution_count": 24,
      "outputs": []
    },
    {
      "cell_type": "markdown",
      "source": [
        "Divide los datos del costo de manufactura. Utiliza la función train_test_split (viene el ejemplo al final del notebook)."
      ],
      "metadata": {
        "id": "TPPb68mlr7Uu"
      }
    },
    {
      "cell_type": "code",
      "source": [
        "X_train, X_test, y_train, y_test = train_test_split(X, y, test_size = 0.1, random_state = 101)\n",
        "\n",
        "print(f'Numero total de registros en la bdd: {len(X)}')\n",
        "print(\"*****\"*10)\n",
        "print(f'Numero total de registros en el training set: {len(X_train)}')\n",
        "print(f'Tamaño de X_train: {X_train.shape}')\n",
        "print(\"*****\"*10)\n",
        "print(f'Mumero total de registros en el test dataset: {len(X_test)}')\n",
        "print(f'Tamaño del X_test: {X_test.shape}')"
      ],
      "metadata": {
        "colab": {
          "base_uri": "https://localhost:8080/"
        },
        "id": "134GJfKvsPCG",
        "outputId": "223784a9-9337-4ecd-f822-52de16f5bb7b"
      },
      "execution_count": 10,
      "outputs": [
        {
          "output_type": "stream",
          "name": "stdout",
          "text": [
            "Numero total de registros en la bdd: 1000\n",
            "**************************************************\n",
            "Numero total de registros en el training set: 900\n",
            "Tamaño de X_train: (900, 1)\n",
            "**************************************************\n",
            "Mumero total de registros en el test dataset: 100\n",
            "Tamaño del X_test: (100, 1)\n"
          ]
        }
      ]
    },
    {
      "cell_type": "markdown",
      "source": [
        "Regresión Lineal.\n",
        "\n",
        "Realiza la regresión lineal: modelo generado (ecuación), su visualización, sus errores y r cuadrada.\n"
      ],
      "metadata": {
        "id": "2nQDMhKHwJb5"
      }
    },
    {
      "cell_type": "code",
      "source": [
        "#lineal\n",
        "linear_reg = LinearRegression(fit_intercept=True)\n",
        "linear_reg.fit(X_train, y_train)\n",
        "linear_reg.coef_, linear_reg.intercept_"
      ],
      "metadata": {
        "id": "kMmOy97puOLE",
        "colab": {
          "base_uri": "https://localhost:8080/"
        },
        "outputId": "93c72f3b-5250-4334-9899-6389c7d9510d"
      },
      "execution_count": 22,
      "outputs": [
        {
          "output_type": "execute_result",
          "data": {
            "text/plain": [
              "(array([-5.98882699]), 66.83650741226988)"
            ]
          },
          "metadata": {},
          "execution_count": 22
        }
      ]
    },
    {
      "cell_type": "markdown",
      "source": [
        "ECUACIÓN:\n",
        "\n",
        "$\\hat{y} =  -5.98X + 66.83$\n",
        "\n"
      ],
      "metadata": {
        "id": "UC1Mp2gw0Qy3"
      }
    },
    {
      "cell_type": "markdown",
      "source": [
        "Graficar las predicciones del modelo"
      ],
      "metadata": {
        "id": "Q5buxd2CxZuw"
      }
    },
    {
      "cell_type": "code",
      "source": [
        "y_pred = linear_reg.predict(X_train)\n",
        "\n",
        "plt.scatter(X_train, y_train)\n",
        "plt.plot(X_train, y_pred, \"r-\", linewidth=2, label=\"Predictions\")\n",
        "plt.xlabel(\"$X$\", fontsize=18)\n",
        "plt.ylabel(\"$y$\", rotation=0, fontsize=18)\n",
        "plt.legend(loc=\"upper left\", fontsize=14);"
      ],
      "metadata": {
        "colab": {
          "base_uri": "https://localhost:8080/",
          "height": 287
        },
        "id": "mRpv1wgcw-1m",
        "outputId": "357b5bbb-5820-4ea4-efcd-e62d3f25bd21"
      },
      "execution_count": 33,
      "outputs": [
        {
          "output_type": "display_data",
          "data": {
            "text/plain": [
              "<Figure size 432x288 with 1 Axes>"
            ],
            "image/png": "[encoded data removed]"
          },
          "metadata": {
            "needs_background": "light"
          }
        }
      ]
    },
    {
      "cell_type": "markdown",
      "source": [
        "Se observa que el modelo se trata de ajustar a los datos pero no del todo correctamente ya que se evidencia una leve curva, la cual podria ser ajustada con una regresión polinomial"
      ],
      "metadata": {
        "id": "KC1xOdR_01rI"
      }
    },
    {
      "cell_type": "markdown",
      "source": [
        "Regresión Polinomial.\n",
        "\n",
        "Realiza la  regresión polinomial completa, tu modelo generado (ecuación), su visualización, sus errores y r cuadrada.\n"
      ],
      "metadata": {
        "id": "gsOTL9o43d4A"
      }
    },
    {
      "cell_type": "code",
      "source": [
        "#polinomial \n",
        "poly_features = PolynomialFeatures(degree=2, include_bias=False)\n",
        "X_poly = poly_features.fit_transform(X_train)"
      ],
      "metadata": {
        "id": "LWvfEDGKuoLJ"
      },
      "execution_count": 61,
      "outputs": []
    },
    {
      "cell_type": "code",
      "source": [
        "X_poly #la variable x_poly contiene la variable x y el cuadrado de la misma generado con la funcion PolynomialFeatures"
      ],
      "metadata": {
        "colab": {
          "base_uri": "https://localhost:8080/"
        },
        "id": "XOZR1V7L4Dmo",
        "outputId": "d77d56f4-ea41-4503-f63a-3ab7d1ace3f9"
      },
      "execution_count": 27,
      "outputs": [
        {
          "output_type": "execute_result",
          "data": {
            "text/plain": [
              "array([[ 7.97424764, 63.58862541],\n",
              "       [ 1.89573077,  3.59379517],\n",
              "       [ 3.5765014 , 12.79136229],\n",
              "       ...,\n",
              "       [ 3.94046305, 15.52724904],\n",
              "       [ 4.52448429, 20.4709581 ],\n",
              "       [ 5.86814353, 34.43510849]])"
            ]
          },
          "metadata": {},
          "execution_count": 27
        }
      ]
    },
    {
      "cell_type": "code",
      "source": [
        "lin_reg = LinearRegression(fit_intercept=True)\n",
        "lin_reg.fit(X_poly, y_train)\n",
        "lin_reg.coef_, lin_reg.intercept_"
      ],
      "metadata": {
        "colab": {
          "base_uri": "https://localhost:8080/"
        },
        "id": "01s4WO_D4d9w",
        "outputId": "13fd9e76-f3b5-4580-cf83-550e97b0b605"
      },
      "execution_count": 62,
      "outputs": [
        {
          "output_type": "execute_result",
          "data": {
            "text/plain": [
              "(array([-16.40638102,   1.13136095]), 88.80179909112496)"
            ]
          },
          "metadata": {},
          "execution_count": 62
        }
      ]
    },
    {
      "cell_type": "markdown",
      "source": [
        "ECUACIÓN:\n",
        "\n",
        "$\\hat{y} =  -16.40X +1.13X^2 + 88.80$"
      ],
      "metadata": {
        "id": "Rb7RgYf04qqS"
      }
    },
    {
      "cell_type": "markdown",
      "source": [
        "Graficar las predicciones del modelo"
      ],
      "metadata": {
        "id": "830xRF2g438f"
      }
    },
    {
      "cell_type": "code",
      "source": [
        "y_pred = lin_reg.predict(X_poly)\n",
        "plt.plot(X_train, y_train, \"b.\")\n",
        "plt.plot(X_train, y_pred, color = \"red\")\n",
        "plt.xlabel(\"$x_1$\", fontsize=18)\n",
        "plt.ylabel(\"$y$\", rotation=0, fontsize=18)\n",
        "plt.legend(loc=\"upper left\", fontsize=14)\n"
      ],
      "metadata": {
        "colab": {
          "base_uri": "https://localhost:8080/",
          "height": 323
        },
        "id": "GXrG_p3F43Wx",
        "outputId": "f68758e3-750f-4498-d655-e3329d8de0f6"
      },
      "execution_count": 101,
      "outputs": [
        {
          "output_type": "stream",
          "name": "stderr",
          "text": [
            "WARNING:matplotlib.legend:No handles with labels found to put in legend.\n"
          ]
        },
        {
          "output_type": "execute_result",
          "data": {
            "text/plain": [
              "<matplotlib.legend.Legend at 0x7f38d68e1c10>"
            ]
          },
          "metadata": {},
          "execution_count": 101
        },
        {
          "output_type": "display_data",
          "data": {
            "text/plain": [
              "<Figure size 432x288 with 1 Axes>"
            ],
            "image/png": "[encoded data removed]"
          },
          "metadata": {
            "needs_background": "light"
          }
        }
      ]
    },
    {
      "cell_type": "code",
      "source": [
        "y_test"
      ],
      "metadata": {
        "colab": {
          "base_uri": "https://localhost:8080/"
        },
        "id": "4Y2tAIMf55o7",
        "outputId": "5018e49f-9da7-4c3c-fe47-01d2953c01ff"
      },
      "execution_count": 36,
      "outputs": [
        {
          "output_type": "execute_result",
          "data": {
            "text/plain": [
              "545    39.669569\n",
              "298    44.813535\n",
              "109    57.942993\n",
              "837    35.075195\n",
              "194    51.081432\n",
              "         ...    \n",
              "237    32.757822\n",
              "429    45.670491\n",
              "786    39.818396\n",
              "399    37.513057\n",
              "16     81.867756\n",
              "Name: Manufacturing Cost, Length: 100, dtype: float64"
            ]
          },
          "metadata": {},
          "execution_count": 36
        }
      ]
    },
    {
      "cell_type": "code",
      "metadata": {
        "id": "-VDz4zLK9Q0K",
        "outputId": "93e125df-4966-4a63-faa7-1fd32dffd8cc",
        "colab": {
          "base_uri": "https://localhost:8080/",
          "height": 243
        }
      },
      "source": [
        "from sklearn import metrics\n",
        "from sklearn.metrics import r2_score\n",
        "\n",
        "print('Error medio Absoluto (MAE):', metrics.mean_absolute_error(y, y_pred))\n",
        "print('Root Mean Squared Error:', np.sqrt(metrics.mean_squared_error(y, y_pred)))\n",
        "print('r2_score',r2_score(y, y_pred))"
      ],
      "execution_count": null,
      "outputs": [
        {
          "output_type": "error",
          "ename": "NameError",
          "evalue": "ignored",
          "traceback": [
            "\u001b[0;31m---------------------------------------------------------------------------\u001b[0m",
            "\u001b[0;31mNameError\u001b[0m                                 Traceback (most recent call last)",
            "\u001b[0;32m<ipython-input-89-c96a0581faf9>\u001b[0m in \u001b[0;36m<module>\u001b[0;34m\u001b[0m\n\u001b[1;32m      2\u001b[0m \u001b[0;32mfrom\u001b[0m \u001b[0msklearn\u001b[0m\u001b[0;34m.\u001b[0m\u001b[0mmetrics\u001b[0m \u001b[0;32mimport\u001b[0m \u001b[0mr2_score\u001b[0m\u001b[0;34m\u001b[0m\u001b[0;34m\u001b[0m\u001b[0m\n\u001b[1;32m      3\u001b[0m \u001b[0;34m\u001b[0m\u001b[0m\n\u001b[0;32m----> 4\u001b[0;31m \u001b[0mprint\u001b[0m\u001b[0;34m(\u001b[0m\u001b[0;34m'Error medio Absoluto (MAE):'\u001b[0m\u001b[0;34m,\u001b[0m \u001b[0mmetrics\u001b[0m\u001b[0;34m.\u001b[0m\u001b[0mmean_absolute_error\u001b[0m\u001b[0;34m(\u001b[0m\u001b[0my\u001b[0m\u001b[0;34m,\u001b[0m \u001b[0my_pred\u001b[0m\u001b[0;34m)\u001b[0m\u001b[0;34m)\u001b[0m\u001b[0;34m\u001b[0m\u001b[0;34m\u001b[0m\u001b[0m\n\u001b[0m\u001b[1;32m      5\u001b[0m \u001b[0mprint\u001b[0m\u001b[0;34m(\u001b[0m\u001b[0;34m'Root Mean Squared Error:'\u001b[0m\u001b[0;34m,\u001b[0m \u001b[0mnp\u001b[0m\u001b[0;34m.\u001b[0m\u001b[0msqrt\u001b[0m\u001b[0;34m(\u001b[0m\u001b[0mmetrics\u001b[0m\u001b[0;34m.\u001b[0m\u001b[0mmean_squared_error\u001b[0m\u001b[0;34m(\u001b[0m\u001b[0my\u001b[0m\u001b[0;34m,\u001b[0m \u001b[0my_pred\u001b[0m\u001b[0;34m)\u001b[0m\u001b[0;34m)\u001b[0m\u001b[0;34m)\u001b[0m\u001b[0;34m\u001b[0m\u001b[0;34m\u001b[0m\u001b[0m\n\u001b[1;32m      6\u001b[0m \u001b[0mprint\u001b[0m\u001b[0;34m(\u001b[0m\u001b[0;34m'r2_score'\u001b[0m\u001b[0;34m,\u001b[0m\u001b[0mr2_score\u001b[0m\u001b[0;34m(\u001b[0m\u001b[0my\u001b[0m\u001b[0;34m,\u001b[0m \u001b[0my_pred\u001b[0m\u001b[0;34m)\u001b[0m\u001b[0;34m)\u001b[0m\u001b[0;34m\u001b[0m\u001b[0;34m\u001b[0m\u001b[0m\n",
            "\u001b[0;31mNameError\u001b[0m: name 'y_pred' is not defined"
          ]
        }
      ]
    },
    {
      "cell_type": "markdown",
      "metadata": {
        "id": "CfqcmLmxLoe9"
      },
      "source": [
        "#Ejercicio 2\n",
        "Realiza la regresión polinomial de los siguientes datos:"
      ]
    },
    {
      "cell_type": "code",
      "source": [
        "df = pd.read_csv('https://raw.githubusercontent.com/marypazrf/bdd/main/kc_house_data.csv')\n",
        "df.sample(10)"
      ],
      "metadata": {
        "id": "57bn0j38qGrg"
      },
      "execution_count": null,
      "outputs": []
    },
    {
      "cell_type": "code",
      "source": [
        "df.info()"
      ],
      "metadata": {
        "id": "n0fs14KoqI3M"
      },
      "execution_count": null,
      "outputs": []
    },
    {
      "cell_type": "code",
      "source": [
        "df.describe()"
      ],
      "metadata": {
        "id": "1PNzDJZeqKhe"
      },
      "execution_count": null,
      "outputs": []
    },
    {
      "cell_type": "code",
      "source": [
        "df.drop('id', axis = 1, inplace = True)\n",
        "df.drop('date', axis = 1, inplace = True)\n",
        "df.drop('zipcode', axis = 1, inplace = True)\n",
        "df.drop('lat', axis = 1, inplace = True)\n",
        "df.drop('long', axis = 1, inplace = True)\n"
      ],
      "metadata": {
        "id": "0KUD8T08qMmq"
      },
      "execution_count": null,
      "outputs": []
    },
    {
      "cell_type": "code",
      "source": [
        "plt.figure(figsize=(12,8)) \n",
        "sns.heatmap(df.corr(), annot=True, cmap='Dark2_r', linewidths = 2)\n",
        "plt.show()"
      ],
      "metadata": {
        "id": "r-jk_nHmqKpp"
      },
      "execution_count": null,
      "outputs": []
    },
    {
      "cell_type": "code",
      "source": [
        "columns = df.columns.drop('price')\n",
        "\n",
        "features = columns\n",
        "label = ['price']\n",
        "\n",
        "X = df[features]\n",
        "y = df[label]"
      ],
      "metadata": {
        "id": "p4zqCnFwq7Oc"
      },
      "execution_count": null,
      "outputs": []
    },
    {
      "cell_type": "code",
      "source": [
        "from sklearn.model_selection import train_test_split\n",
        "X_train, X_test, y_train, y_test = train_test_split(X, y, test_size = 0.1, random_state = 101)\n",
        "\n",
        "print(f'Numero total de registros en la bdd: {len(X)}')\n",
        "print(\"*****\"*10)\n",
        "print(f'Numero total de registros en el training set: {len(X_train)}')\n",
        "print(f'Tamaño de X_train: {X_train.shape}')\n",
        "print(\"*****\"*10)\n",
        "print(f'Mumero total de registros en el test dataset: {len(X_test)}')\n",
        "print(f'Tamaño del X_test: {X_test.shape}')"
      ],
      "metadata": {
        "id": "p91PEVPLq93-"
      },
      "execution_count": null,
      "outputs": []
    },
    {
      "cell_type": "code",
      "source": [
        "#tu codigo aquí"
      ],
      "metadata": {
        "id": "0faHrN8-rv9V"
      },
      "execution_count": null,
      "outputs": []
    }
  ]
}