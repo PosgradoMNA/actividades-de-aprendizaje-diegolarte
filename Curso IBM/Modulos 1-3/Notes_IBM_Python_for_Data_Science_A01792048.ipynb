{
  "nbformat": 4,
  "nbformat_minor": 0,
  "metadata": {
    "colab": {
      "provenance": [],
      "collapsed_sections": [],
      "authorship_tag": "ABX9TyMM51z3f6rRzUIV6rCpWvZd",
      "include_colab_link": true
    },
    "kernelspec": {
      "name": "python3",
      "display_name": "Python 3"
    },
    "language_info": {
      "name": "python"
    }
  },
  "cells": [
    {
      "cell_type": "markdown",
      "metadata": {
        "id": "view-in-github",
        "colab_type": "text"
      },
      "source": [
        "<a href=\"https://colab.research.google.com/github/PosgradoMNA/actividades-de-aprendizaje-diegolarte/blob/main/Notes_IBM_Python_for_Data_Science_A01792048.ipynb\" target=\"_parent\"><img src=\"https://colab.research.google.com/assets/colab-badge.svg\" alt=\"Open In Colab\"/></a>"
      ]
    },
    {
      "cell_type": "markdown",
      "source": [
        "#ACTIVIDAD MODULO 1\n",
        "#NOMBRE: DIEGO ALBERTO OLARTE MIRA\n",
        "#MATRICULA: A01792048"
      ],
      "metadata": {
        "id": "CBME9yu_WLmD"
      }
    },
    {
      "cell_type": "markdown",
      "source": [
        "##Module 1 - Python Basics"
      ],
      "metadata": {
        "id": "7lsU4TK9noPZ"
      }
    },
    {
      "cell_type": "markdown",
      "source": [
        "###Your First Program"
      ],
      "metadata": {
        "id": "la-PARa8r0Cm"
      }
    },
    {
      "cell_type": "markdown",
      "source": [
        "<h3>Hello World</h3>"
      ],
      "metadata": {
        "id": "ndtTrk1Qsk2B"
      }
    },
    {
      "cell_type": "code",
      "source": [
        "print(\"Hello World\")"
      ],
      "metadata": {
        "colab": {
          "base_uri": "https://localhost:8080/"
        },
        "id": "Eq50lDW_snt8",
        "outputId": "9fba6653-54af-4f29-b519-0845dffe3fea"
      },
      "execution_count": 1,
      "outputs": [
        {
          "output_type": "stream",
          "name": "stdout",
          "text": [
            "Hello World\n"
          ]
        }
      ]
    },
    {
      "cell_type": "markdown",
      "source": [
        "<h3>Say \"Hello World\" on Two Lines</h3> "
      ],
      "metadata": {
        "id": "ypcooOYXszEg"
      }
    },
    {
      "cell_type": "code",
      "source": [
        "print(\"Hello\\nWorld!\")"
      ],
      "metadata": {
        "colab": {
          "base_uri": "https://localhost:8080/"
        },
        "id": "dWpi34ypsrpv",
        "outputId": "581cc8cc-02b6-4381-d2fb-5e8fd70eb58d"
      },
      "execution_count": 4,
      "outputs": [
        {
          "output_type": "stream",
          "name": "stdout",
          "text": [
            "Hello\n",
            "World!\n"
          ]
        }
      ]
    },
    {
      "cell_type": "markdown",
      "source": [
        "<h3>Comments Are Key to Good Coding</h3> "
      ],
      "metadata": {
        "id": "xdwaLe9ZtCca"
      }
    },
    {
      "cell_type": "code",
      "source": [
        "# this is a comment"
      ],
      "metadata": {
        "id": "0R8eOa_StEA0"
      },
      "execution_count": 3,
      "outputs": []
    },
    {
      "cell_type": "markdown",
      "source": [
        "<h3> Question 1 </h3> "
      ],
      "metadata": {
        "id": "nqvdbr_VtefV"
      }
    },
    {
      "cell_type": "markdown",
      "source": [
        "<h4>Using the Practice Lab, find the result of executing print(\"Hello\\nWorld!\") statement.</h4>\n"
      ],
      "metadata": {
        "id": "0mHDpSEatoHx"
      }
    },
    {
      "cell_type": "code",
      "source": [
        "print(\"Hello\\nWorld!\")"
      ],
      "metadata": {
        "colab": {
          "base_uri": "https://localhost:8080/"
        },
        "id": "5N8YQJymtpiy",
        "outputId": "2d4d86ed-08d4-4eaa-a848-e62d99746ba4"
      },
      "execution_count": 5,
      "outputs": [
        {
          "output_type": "stream",
          "name": "stdout",
          "text": [
            "Hello\n",
            "World!\n"
          ]
        }
      ]
    },
    {
      "cell_type": "markdown",
      "source": [
        "<h3> Question 2 </h3> "
      ],
      "metadata": {
        "id": "pXi18BLwt52R"
      }
    },
    {
      "cell_type": "markdown",
      "source": [
        "<h4>What is the output of executing the following statement: # print('Hello World!')?</h4>\n"
      ],
      "metadata": {
        "id": "MbClhmNKt52R"
      }
    },
    {
      "cell_type": "code",
      "source": [
        "# print('Hello World!')"
      ],
      "metadata": {
        "id": "UTnfnYint-cS"
      },
      "execution_count": 6,
      "outputs": []
    },
    {
      "cell_type": "markdown",
      "source": [
        "### Types ###"
      ],
      "metadata": {
        "id": "q4g4ChSKuxp7"
      }
    },
    {
      "cell_type": "markdown",
      "source": [
        "<h3>Hello World</h3>"
      ],
      "metadata": {
        "id": "m8APr16NdtfP"
      }
    },
    {
      "cell_type": "code",
      "source": [
        "\"Hello World\"\n",
        "type(\"Hello World\")"
      ],
      "metadata": {
        "colab": {
          "base_uri": "https://localhost:8080/"
        },
        "id": "6x6ckOo9dxmx",
        "outputId": "c2e882a8-133c-4596-a1e7-7f04f477f121"
      },
      "execution_count": 1,
      "outputs": [
        {
          "output_type": "execute_result",
          "data": {
            "text/plain": [
              "str"
            ]
          },
          "metadata": {},
          "execution_count": 1
        }
      ]
    },
    {
      "cell_type": "markdown",
      "source": [
        "<h3>Type Casting</h3>"
      ],
      "metadata": {
        "id": "zEuGiLe3eCDH"
      }
    },
    {
      "cell_type": "code",
      "source": [
        "\"1.1\"\n",
        "type(\"1.1\")"
      ],
      "metadata": {
        "colab": {
          "base_uri": "https://localhost:8080/"
        },
        "id": "DLHa4lVCeFmv",
        "outputId": "7ca3b1cb-be1e-4655-e1d4-389f7ad8f83d"
      },
      "execution_count": 2,
      "outputs": [
        {
          "output_type": "execute_result",
          "data": {
            "text/plain": [
              "str"
            ]
          },
          "metadata": {},
          "execution_count": 2
        }
      ]
    },
    {
      "cell_type": "markdown",
      "source": [
        "<h3>Is a Number Always a Number?</h3>"
      ],
      "metadata": {
        "id": "PURakmrYeQfB"
      }
    },
    {
      "cell_type": "code",
      "source": [
        "\"1\"\n",
        "bool(int(\"1\"))"
      ],
      "metadata": {
        "colab": {
          "base_uri": "https://localhost:8080/"
        },
        "id": "136OSt8KeYo4",
        "outputId": "212ee10d-3951-4a17-edd4-d6bcb10d1c4a"
      },
      "execution_count": 3,
      "outputs": [
        {
          "output_type": "execute_result",
          "data": {
            "text/plain": [
              "True"
            ]
          },
          "metadata": {},
          "execution_count": 3
        }
      ]
    },
    {
      "cell_type": "markdown",
      "source": [
        "<h3> Question 1 </h3> "
      ],
      "metadata": {
        "id": "20_n4oj-u6Wb"
      }
    },
    {
      "cell_type": "markdown",
      "source": [
        "<h4>What is the type of the following: int(1.0)?</h4>\n"
      ],
      "metadata": {
        "id": "mgylAIhRu6Wc"
      }
    },
    {
      "cell_type": "code",
      "source": [
        "type(int(1.0))"
      ],
      "metadata": {
        "colab": {
          "base_uri": "https://localhost:8080/"
        },
        "id": "irMdjYoXuz8b",
        "outputId": "1f3b8762-a830-4f5f-e431-fd0b7e9ea509"
      },
      "execution_count": 7,
      "outputs": [
        {
          "output_type": "execute_result",
          "data": {
            "text/plain": [
              "int"
            ]
          },
          "metadata": {},
          "execution_count": 7
        }
      ]
    },
    {
      "cell_type": "markdown",
      "source": [
        "<h3> Question 2 </h3> "
      ],
      "metadata": {
        "id": "mkC8G-DuvMHU"
      }
    },
    {
      "cell_type": "markdown",
      "source": [
        "<h4>Enter the code to convert the number 1 to a Boolean.</h4>\n",
        "\n",
        "\n"
      ],
      "metadata": {
        "id": "NXlrmdKbvMHV"
      }
    },
    {
      "cell_type": "code",
      "source": [
        "bool(1)"
      ],
      "metadata": {
        "colab": {
          "base_uri": "https://localhost:8080/"
        },
        "id": "a32z8YXJvGPT",
        "outputId": "b1b53406-ecf5-40f5-e3ef-1abee384c300"
      },
      "execution_count": 10,
      "outputs": [
        {
          "output_type": "execute_result",
          "data": {
            "text/plain": [
              "True"
            ]
          },
          "metadata": {},
          "execution_count": 10
        }
      ]
    },
    {
      "cell_type": "markdown",
      "source": [
        "### Strings ###"
      ],
      "metadata": {
        "id": "4BXuJpf0enJO"
      }
    },
    {
      "cell_type": "markdown",
      "source": [
        "<h3> Slicing </h3> "
      ],
      "metadata": {
        "id": "bPiFkx0WeyeG"
      }
    },
    {
      "cell_type": "code",
      "source": [
        "Letters=\"ABCDEFGHIJK\"\n",
        "Letters[0:4]"
      ],
      "metadata": {
        "colab": {
          "base_uri": "https://localhost:8080/",
          "height": 36
        },
        "id": "rao973abevMi",
        "outputId": "b3fa9963-dab9-4e7c-d668-1049f0cb9dfa"
      },
      "execution_count": 4,
      "outputs": [
        {
          "output_type": "execute_result",
          "data": {
            "text/plain": [
              "'ABCD'"
            ],
            "application/vnd.google.colaboratory.intrinsic+json": {
              "type": "string"
            }
          },
          "metadata": {},
          "execution_count": 4
        }
      ]
    },
    {
      "cell_type": "markdown",
      "source": [
        "<h3> Strides </h3> "
      ],
      "metadata": {
        "id": "vAHJEZt3e-WZ"
      }
    },
    {
      "cell_type": "code",
      "source": [
        "Good=\"GsoAo+d\"\n",
        "Good[::2]"
      ],
      "metadata": {
        "colab": {
          "base_uri": "https://localhost:8080/",
          "height": 36
        },
        "id": "Kk_GpzwufCIP",
        "outputId": "e6c3836a-db72-4e7d-eb1b-61f62a243dc5"
      },
      "execution_count": 5,
      "outputs": [
        {
          "output_type": "execute_result",
          "data": {
            "text/plain": [
              "'Good'"
            ],
            "application/vnd.google.colaboratory.intrinsic+json": {
              "type": "string"
            }
          },
          "metadata": {},
          "execution_count": 5
        }
      ]
    },
    {
      "cell_type": "code",
      "source": [
        "Numbers = \"0123456\"\n",
        "Numbers[::2]"
      ],
      "metadata": {
        "colab": {
          "base_uri": "https://localhost:8080/",
          "height": 36
        },
        "id": "xYtwlfc7fI-2",
        "outputId": "e5a11fc3-7fdd-4373-cc9a-fdf34cf9ab1d"
      },
      "execution_count": 6,
      "outputs": [
        {
          "output_type": "execute_result",
          "data": {
            "text/plain": [
              "'0246'"
            ],
            "application/vnd.google.colaboratory.intrinsic+json": {
              "type": "string"
            }
          },
          "metadata": {},
          "execution_count": 6
        }
      ]
    },
    {
      "cell_type": "markdown",
      "source": [
        "<h3> Converting to UPPERCASE </h3> "
      ],
      "metadata": {
        "id": "i2Qs7yERfaby"
      }
    },
    {
      "cell_type": "code",
      "source": [
        "\"uppercase\"\n",
        "\"uppercase\".upper()"
      ],
      "metadata": {
        "colab": {
          "base_uri": "https://localhost:8080/",
          "height": 36
        },
        "id": "CxhiKTM6fdJ4",
        "outputId": "d07b450c-2d3b-45e8-c8d4-92f61164a5b9"
      },
      "execution_count": 7,
      "outputs": [
        {
          "output_type": "execute_result",
          "data": {
            "text/plain": [
              "'UPPERCASE'"
            ],
            "application/vnd.google.colaboratory.intrinsic+json": {
              "type": "string"
            }
          },
          "metadata": {},
          "execution_count": 7
        }
      ]
    },
    {
      "cell_type": "markdown",
      "source": [
        "<h3> Question 1 </h3> "
      ],
      "metadata": {
        "id": "IeQ-usK3f30e"
      }
    },
    {
      "cell_type": "markdown",
      "source": [
        "<h4>Consider the following string:\n",
        "Numbers = \"0123456\"\n",
        "\n",
        "How would you obtain the even elements?</h4>\n"
      ],
      "metadata": {
        "id": "tQN9BvfNf30e"
      }
    },
    {
      "cell_type": "code",
      "source": [
        "Numbers = \"0123456\"\n",
        "Numbers[::2]"
      ],
      "metadata": {
        "colab": {
          "base_uri": "https://localhost:8080/",
          "height": 36
        },
        "outputId": "e91265b0-fa56-4d3f-b14f-608647928e7c",
        "id": "kUlaKOuif30e"
      },
      "execution_count": 10,
      "outputs": [
        {
          "output_type": "execute_result",
          "data": {
            "text/plain": [
              "'0246'"
            ],
            "application/vnd.google.colaboratory.intrinsic+json": {
              "type": "string"
            }
          },
          "metadata": {},
          "execution_count": 10
        }
      ]
    },
    {
      "cell_type": "markdown",
      "source": [
        "<h3> Question 2 </h3> "
      ],
      "metadata": {
        "id": "fnCbLRuVf30e"
      }
    },
    {
      "cell_type": "markdown",
      "source": [
        "<h4>What is the result of the following line of code:</h4>\n",
        "\n",
        "\n"
      ],
      "metadata": {
        "id": "5SUXkGLTf30e"
      }
    },
    {
      "cell_type": "code",
      "source": [
        "\"0123456\".find('1')"
      ],
      "metadata": {
        "colab": {
          "base_uri": "https://localhost:8080/"
        },
        "outputId": "90986044-6daf-4fb6-c4f4-7d57dcab7711",
        "id": "Fdtgmhhdf30e"
      },
      "execution_count": 11,
      "outputs": [
        {
          "output_type": "execute_result",
          "data": {
            "text/plain": [
              "1"
            ]
          },
          "metadata": {},
          "execution_count": 11
        }
      ]
    },
    {
      "cell_type": "markdown",
      "source": [
        "### Review ###"
      ],
      "metadata": {
        "id": "AmmQUl9mgaZ7"
      }
    },
    {
      "cell_type": "markdown",
      "source": [
        "<h4>What is the result of the following operation in Python: </h4>\n"
      ],
      "metadata": {
        "id": "0pxocjwHgnuB"
      }
    },
    {
      "cell_type": "code",
      "source": [
        "3 + 2 * 2"
      ],
      "metadata": {
        "colab": {
          "base_uri": "https://localhost:8080/"
        },
        "outputId": "6e36377a-e241-4126-a117-83fec5a7db25",
        "id": "ORXz8l-ZgnuC"
      },
      "execution_count": 12,
      "outputs": [
        {
          "output_type": "execute_result",
          "data": {
            "text/plain": [
              "7"
            ]
          },
          "metadata": {},
          "execution_count": 12
        }
      ]
    },
    {
      "cell_type": "markdown",
      "source": [
        "<h4>In Python, if you executed name = 'Lizz', what would be the output of print(name[0:2])</h4>\n",
        "\n",
        "\n"
      ],
      "metadata": {
        "id": "mICQD3OFgnuC"
      }
    },
    {
      "cell_type": "code",
      "source": [
        "name = 'Lizz'\n",
        "print(name[0:2])"
      ],
      "metadata": {
        "colab": {
          "base_uri": "https://localhost:8080/"
        },
        "outputId": "608a7cd8-52b4-4945-e30c-dcc0066dcc58",
        "id": "keFUmZYjgnuC"
      },
      "execution_count": 14,
      "outputs": [
        {
          "output_type": "stream",
          "name": "stdout",
          "text": [
            "Li\n"
          ]
        }
      ]
    },
    {
      "cell_type": "markdown",
      "source": [
        "In Python, if you executed var = '01234567', what would be the result of print(var[::2])"
      ],
      "metadata": {
        "id": "oGzvirifhE_h"
      }
    },
    {
      "cell_type": "code",
      "source": [
        " var = '01234567'\n",
        "print(var[::2])"
      ],
      "metadata": {
        "colab": {
          "base_uri": "https://localhost:8080/"
        },
        "outputId": "0e3e5aec-cca5-4e81-e875-cd8d5abacc57",
        "id": "QR_BImAwhFWC"
      },
      "execution_count": 17,
      "outputs": [
        {
          "output_type": "stream",
          "name": "stdout",
          "text": [
            "0246\n"
          ]
        }
      ]
    },
    {
      "cell_type": "markdown",
      "source": [
        "<h4>In Python, what is the result of the following operation '1'+'2'</h4>\n",
        "\n",
        "\n",
        "\n",
        "\n",
        "\n"
      ],
      "metadata": {
        "id": "irE4wVbrhFWC"
      }
    },
    {
      "cell_type": "code",
      "source": [
        "'1'+'2'"
      ],
      "metadata": {
        "colab": {
          "base_uri": "https://localhost:8080/",
          "height": 36
        },
        "outputId": "cfd99273-d711-4507-ccad-ebd0026ea933",
        "id": "m82zu7VChFWC"
      },
      "execution_count": 18,
      "outputs": [
        {
          "output_type": "execute_result",
          "data": {
            "text/plain": [
              "'12'"
            ],
            "application/vnd.google.colaboratory.intrinsic+json": {
              "type": "string"
            }
          },
          "metadata": {},
          "execution_count": 18
        }
      ]
    },
    {
      "cell_type": "code",
      "source": [],
      "metadata": {
        "id": "-ASQo-aWh_H_"
      },
      "execution_count": null,
      "outputs": []
    },
    {
      "cell_type": "markdown",
      "source": [
        "<h4>Given myvar = 'hello', how would you convert myvar into uppercase?</h4>\n",
        "\n"
      ],
      "metadata": {
        "id": "sAy7CKjBiDZt"
      }
    },
    {
      "cell_type": "code",
      "source": [
        "myvar = 'hello'\n",
        "myvar.upper()"
      ],
      "metadata": {
        "colab": {
          "base_uri": "https://localhost:8080/",
          "height": 36
        },
        "id": "1WjEzesOiHtF",
        "outputId": "fc80bb0c-fcc8-4cef-f91e-95ede64873af"
      },
      "execution_count": 20,
      "outputs": [
        {
          "output_type": "execute_result",
          "data": {
            "text/plain": [
              "'HELLO'"
            ],
            "application/vnd.google.colaboratory.intrinsic+json": {
              "type": "string"
            }
          },
          "metadata": {},
          "execution_count": 20
        }
      ]
    },
    {
      "cell_type": "code",
      "source": [],
      "metadata": {
        "id": "yLCm81XbidP9"
      },
      "execution_count": null,
      "outputs": []
    },
    {
      "cell_type": "markdown",
      "source": [],
      "metadata": {
        "id": "k3wG50mUizUt"
      }
    },
    {
      "cell_type": "markdown",
      "source": [
        "##Module 2 - Python Data Structures"
      ],
      "metadata": {
        "id": "msB57MgQizW2"
      }
    },
    {
      "cell_type": "markdown",
      "source": [
        "###Lists and Tuples"
      ],
      "metadata": {
        "id": "8V3E_eARjKC0"
      }
    },
    {
      "cell_type": "markdown",
      "source": [
        "<h3>Create a Tuple</h3>"
      ],
      "metadata": {
        "id": "xtpuULyCjix2"
      }
    },
    {
      "cell_type": "code",
      "source": [
        "A = (0,1,2,3)\n",
        "print(A)"
      ],
      "metadata": {
        "colab": {
          "base_uri": "https://localhost:8080/"
        },
        "outputId": "cfd246b6-b0b8-4580-e5a6-9890dede0dac",
        "id": "obbF7xoDjix3"
      },
      "execution_count": 21,
      "outputs": [
        {
          "output_type": "stream",
          "name": "stdout",
          "text": [
            "(0, 1, 2, 3)\n"
          ]
        }
      ]
    },
    {
      "cell_type": "markdown",
      "source": [
        "<h3>Find the Elements of a Tuple</h3> "
      ],
      "metadata": {
        "id": "aj4sV3bwjix3"
      }
    },
    {
      "cell_type": "code",
      "source": [
        "A[:2]"
      ],
      "metadata": {
        "colab": {
          "base_uri": "https://localhost:8080/"
        },
        "outputId": "5970eaa9-0361-41bb-ef99-dd359a846fa6",
        "id": "bNlAFRDEjix3"
      },
      "execution_count": 22,
      "outputs": [
        {
          "output_type": "execute_result",
          "data": {
            "text/plain": [
              "(0, 1)"
            ]
          },
          "metadata": {},
          "execution_count": 22
        }
      ]
    },
    {
      "cell_type": "markdown",
      "source": [
        "<h3>Lists </h3> "
      ],
      "metadata": {
        "id": "UUDm0NUDjix4"
      }
    },
    {
      "cell_type": "code",
      "source": [
        "B=[\"a\",\"b\",\"c\"]\n",
        "B"
      ],
      "metadata": {
        "colab": {
          "base_uri": "https://localhost:8080/"
        },
        "id": "sZschu50jix4",
        "outputId": "65af104b-22ef-4f3f-bcd1-c9adc07d9381"
      },
      "execution_count": 24,
      "outputs": [
        {
          "output_type": "execute_result",
          "data": {
            "text/plain": [
              "['a', 'b', 'c']"
            ]
          },
          "metadata": {},
          "execution_count": 24
        }
      ]
    },
    {
      "cell_type": "markdown",
      "source": [
        "<h3>Find the first two elements of the list  B:</h3>"
      ],
      "metadata": {
        "id": "hdhrbLk3jix4"
      }
    },
    {
      "cell_type": "code",
      "source": [
        "B[:2]"
      ],
      "metadata": {
        "colab": {
          "base_uri": "https://localhost:8080/"
        },
        "outputId": "9d05b29f-0a4a-4c7a-e5ad-69fc08a2432b",
        "id": "KtcHsjLbjix4"
      },
      "execution_count": 25,
      "outputs": [
        {
          "output_type": "execute_result",
          "data": {
            "text/plain": [
              "['a', 'b']"
            ]
          },
          "metadata": {},
          "execution_count": 25
        }
      ]
    },
    {
      "cell_type": "markdown",
      "source": [
        "<h3>Change the first element of the list to an uppercase \"A\"</h3>"
      ],
      "metadata": {
        "id": "fDr1iNf4jix5"
      }
    },
    {
      "cell_type": "code",
      "source": [
        "B[0] = \"A\"\n",
        "print(B)"
      ],
      "metadata": {
        "colab": {
          "base_uri": "https://localhost:8080/"
        },
        "outputId": "f1fd5c8c-877b-44ef-b5bf-efbaa77924be",
        "id": "dEt2crcdjix5"
      },
      "execution_count": 26,
      "outputs": [
        {
          "output_type": "stream",
          "name": "stdout",
          "text": [
            "['A', 'b', 'c']\n"
          ]
        }
      ]
    },
    {
      "cell_type": "markdown",
      "source": [
        "<h3> How do you access the last element of the following tuple: A=(0,1,2,3)</h3>"
      ],
      "metadata": {
        "id": "l0TLpDfHjix5"
      }
    },
    {
      "cell_type": "code",
      "source": [
        "A=(0,1,2,3)\n",
        "print(A[3])\n",
        "print(A[-1])\n",
        " "
      ],
      "metadata": {
        "colab": {
          "base_uri": "https://localhost:8080/"
        },
        "outputId": "1b8c3992-4a46-4596-c837-449191b336f4",
        "id": "HKIrcEeijix5"
      },
      "execution_count": 29,
      "outputs": [
        {
          "output_type": "stream",
          "name": "stdout",
          "text": [
            "3\n",
            "3\n"
          ]
        }
      ]
    },
    {
      "cell_type": "markdown",
      "source": [
        "<h3>Consider the list: B=[\"a\",\"b\",\"c\"].\n",
        "\n",
        "What is the result of the following B[1:] </h3>"
      ],
      "metadata": {
        "id": "B1uUAsYTkz0Q"
      }
    },
    {
      "cell_type": "code",
      "source": [
        "B=[\"a\",\"b\",\"c\"]\n",
        "B[1:]"
      ],
      "metadata": {
        "colab": {
          "base_uri": "https://localhost:8080/"
        },
        "outputId": "ca850b3d-386c-4a16-95d8-29d1f5349f07",
        "id": "GLKJWiV3kz0Q"
      },
      "execution_count": 31,
      "outputs": [
        {
          "output_type": "execute_result",
          "data": {
            "text/plain": [
              "['b', 'c']"
            ]
          },
          "metadata": {},
          "execution_count": 31
        }
      ]
    },
    {
      "cell_type": "markdown",
      "source": [
        "###SETS"
      ],
      "metadata": {
        "id": "UGIxuyzOlj8i"
      }
    },
    {
      "cell_type": "markdown",
      "source": [
        "<h3>Cast a List to a Set </h3>"
      ],
      "metadata": {
        "id": "dtLQnmiPlroE"
      }
    },
    {
      "cell_type": "code",
      "source": [
        "['A','B','C','A','B','C']\n",
        "set(['A','B','C','A','B','C'])"
      ],
      "metadata": {
        "colab": {
          "base_uri": "https://localhost:8080/"
        },
        "outputId": "8c5b410a-997f-4cad-f81a-da027efc1d75",
        "id": "uhG1jGcQk0DO"
      },
      "execution_count": 32,
      "outputs": [
        {
          "output_type": "execute_result",
          "data": {
            "text/plain": [
              "{'A', 'B', 'C'}"
            ]
          },
          "metadata": {},
          "execution_count": 32
        }
      ]
    },
    {
      "cell_type": "markdown",
      "source": [
        "<h3>Add an Element to the Set </h3>"
      ],
      "metadata": {
        "id": "h23OJOdKk0Po"
      }
    },
    {
      "cell_type": "code",
      "source": [
        "S={'A','B','C'}\n",
        "S.add('D')"
      ],
      "metadata": {
        "id": "EVtoUs9Qk0Po"
      },
      "execution_count": 34,
      "outputs": []
    },
    {
      "cell_type": "markdown",
      "source": [
        "<h3>Intersection of Sets </h3>"
      ],
      "metadata": {
        "id": "noBqDiqxk0ZG"
      }
    },
    {
      "cell_type": "code",
      "source": [
        "A={1,2,3,4,5}\n",
        "B={1,3,9, 12}"
      ],
      "metadata": {
        "id": "zAAjlbj7k0ZG"
      },
      "execution_count": 35,
      "outputs": []
    },
    {
      "cell_type": "code",
      "source": [
        "A & B"
      ],
      "metadata": {
        "colab": {
          "base_uri": "https://localhost:8080/"
        },
        "id": "6j_0dN9VmaUx",
        "outputId": "a31ec7ef-8079-4ff4-da86-c9a223662c28"
      },
      "execution_count": 36,
      "outputs": [
        {
          "output_type": "execute_result",
          "data": {
            "text/plain": [
              "{1, 3}"
            ]
          },
          "metadata": {},
          "execution_count": 36
        }
      ]
    },
    {
      "cell_type": "code",
      "source": [
        "A.intersection(B)"
      ],
      "metadata": {
        "colab": {
          "base_uri": "https://localhost:8080/"
        },
        "id": "J2C0H5kpmah6",
        "outputId": "327da41c-5933-4cff-8d51-fe9399c76d43"
      },
      "execution_count": 37,
      "outputs": [
        {
          "output_type": "execute_result",
          "data": {
            "text/plain": [
              "{1, 3}"
            ]
          },
          "metadata": {},
          "execution_count": 37
        }
      ]
    },
    {
      "cell_type": "markdown",
      "source": [
        "<h3> Union </h3>"
      ],
      "metadata": {
        "id": "kWsRHB6nk0rp"
      }
    },
    {
      "cell_type": "code",
      "source": [
        "S={'A','B','C'}\n",
        "\n",
        "U={'A','Z','C'}\n",
        "\n",
        "U.union(S)"
      ],
      "metadata": {
        "colab": {
          "base_uri": "https://localhost:8080/"
        },
        "outputId": "b9ff9acf-85d2-4c05-9a52-107764126f5e",
        "id": "keec39Muk0rp"
      },
      "execution_count": 39,
      "outputs": [
        {
          "output_type": "execute_result",
          "data": {
            "text/plain": [
              "{'A', 'B', 'C', 'Z'}"
            ]
          },
          "metadata": {},
          "execution_count": 39
        }
      ]
    },
    {
      "cell_type": "markdown",
      "source": [
        "###Dictionaries"
      ],
      "metadata": {
        "id": "9ro92GNcnKnV"
      }
    },
    {
      "cell_type": "markdown",
      "source": [
        "### Review ###"
      ],
      "metadata": {
        "id": "p-sWMlUuoqi1"
      }
    },
    {
      "cell_type": "markdown",
      "source": [
        "<h4>What is the syntax used to obtain the first element of the tuple: </h4>\n",
        "\n",
        "\n",
        "\n"
      ],
      "metadata": {
        "id": "-i3U49lEoqi1"
      }
    },
    {
      "cell_type": "code",
      "source": [
        "A = ('a','b','c')\n",
        "A[0]"
      ],
      "metadata": {
        "colab": {
          "base_uri": "https://localhost:8080/",
          "height": 36
        },
        "outputId": "0e091981-c588-4e9c-a0c8-1550053be17c",
        "id": "2cIktEi4oqi2"
      },
      "execution_count": 49,
      "outputs": [
        {
          "output_type": "execute_result",
          "data": {
            "text/plain": [
              "'a'"
            ],
            "application/vnd.google.colaboratory.intrinsic+json": {
              "type": "string"
            }
          },
          "metadata": {},
          "execution_count": 49
        }
      ]
    },
    {
      "cell_type": "markdown",
      "source": [
        "<h4>The method append will add element to the list\n",
        "</h4>\n",
        "\n",
        "\n"
      ],
      "metadata": {
        "id": "7Va9kdGmoqi2"
      }
    },
    {
      "cell_type": "markdown",
      "source": [
        "<h4>Sets can not contain duplicate elements</h4>\n",
        "\n",
        "\n",
        "\n",
        "\n",
        "\n"
      ],
      "metadata": {
        "id": "x6NgCzMSoqi3"
      }
    },
    {
      "cell_type": "markdown",
      "source": [
        "<h4>Lists are mutable and tuples are not mutable</h4>\n",
        "\n"
      ],
      "metadata": {
        "id": "RzWEQZxUoqi4"
      }
    },
    {
      "cell_type": "markdown",
      "source": [
        "##Module 3 - Python Programming *Fundamentals*"
      ],
      "metadata": {
        "id": "eSr9_fxv3M6P"
      }
    },
    {
      "cell_type": "markdown",
      "source": [
        "### Conditions and Branching"
      ],
      "metadata": {
        "id": "tBcxZLpH3YQt"
      }
    },
    {
      "cell_type": "markdown",
      "source": [
        "<h3>Comparison Operations </h3>"
      ],
      "metadata": {
        "id": "vuqxpmrC4AFG"
      }
    },
    {
      "cell_type": "code",
      "source": [
        "i=1\n",
        "i!=0"
      ],
      "metadata": {
        "colab": {
          "base_uri": "https://localhost:8080/"
        },
        "outputId": "1fb12ccc-8e46-4043-98cb-6eb3e1329790",
        "id": "al7yZ0tA4AFG"
      },
      "execution_count": 52,
      "outputs": [
        {
          "output_type": "execute_result",
          "data": {
            "text/plain": [
              "True"
            ]
          },
          "metadata": {},
          "execution_count": 52
        }
      ]
    },
    {
      "cell_type": "markdown",
      "source": [
        "<h3>Branching </h3>"
      ],
      "metadata": {
        "id": "lIMaePfz4AFG"
      }
    },
    {
      "cell_type": "code",
      "source": [
        "x = 'a'\n",
        "if(x=='a'):\n",
        "    print(\"this is a\")\n",
        "else:\n",
        "    print(\"this is  not a\")"
      ],
      "metadata": {
        "colab": {
          "base_uri": "https://localhost:8080/"
        },
        "outputId": "9ee0b78a-5447-48cb-acfb-9c85c56f6f01",
        "id": "ZBU5esD74AFG"
      },
      "execution_count": 55,
      "outputs": [
        {
          "output_type": "stream",
          "name": "stdout",
          "text": [
            "this is a\n"
          ]
        }
      ]
    },
    {
      "cell_type": "markdown",
      "source": [
        "<h3>Logic Operators</h3>"
      ],
      "metadata": {
        "id": "msz1vfCo4AFG"
      }
    },
    {
      "cell_type": "code",
      "source": [
        "y=9\n",
        "x=1\n",
        "x>0 and y<10"
      ],
      "metadata": {
        "colab": {
          "base_uri": "https://localhost:8080/"
        },
        "outputId": "5f07461a-fa17-4c12-f67e-6d8b4e119736",
        "id": "9KYjeDy04AFH"
      },
      "execution_count": 56,
      "outputs": [
        {
          "output_type": "execute_result",
          "data": {
            "text/plain": [
              "True"
            ]
          },
          "metadata": {},
          "execution_count": 56
        }
      ]
    },
    {
      "cell_type": "markdown",
      "source": [
        "<h3> Select the values of i that produces a True for the following:\n",
        "\n",
        "i!=0 </h3>"
      ],
      "metadata": {
        "id": "dW-bmfvD4AFH"
      }
    },
    {
      "cell_type": "code",
      "source": [
        "i=1\n",
        "i!=0"
      ],
      "metadata": {
        "colab": {
          "base_uri": "https://localhost:8080/"
        },
        "outputId": "b9a842f4-51c1-413b-f731-d584f53e8e72",
        "id": "61lBtEs14AFH"
      },
      "execution_count": 57,
      "outputs": [
        {
          "output_type": "execute_result",
          "data": {
            "text/plain": [
              "True"
            ]
          },
          "metadata": {},
          "execution_count": 57
        }
      ]
    },
    {
      "cell_type": "code",
      "source": [
        "i=-1\n",
        "i!=0"
      ],
      "metadata": {
        "colab": {
          "base_uri": "https://localhost:8080/"
        },
        "id": "gUaGANFz5KtN",
        "outputId": "f77f6bab-d833-4cdf-c288-591291b3a6c2"
      },
      "execution_count": 58,
      "outputs": [
        {
          "output_type": "execute_result",
          "data": {
            "text/plain": [
              "True"
            ]
          },
          "metadata": {},
          "execution_count": 58
        }
      ]
    },
    {
      "cell_type": "code",
      "source": [
        "i=100000000\n",
        "i!=0"
      ],
      "metadata": {
        "colab": {
          "base_uri": "https://localhost:8080/"
        },
        "id": "Eh3eVIn_5KTP",
        "outputId": "3dc4eb85-9cb7-4810-ca0d-258a8a65fe9e"
      },
      "execution_count": 59,
      "outputs": [
        {
          "output_type": "execute_result",
          "data": {
            "text/plain": [
              "True"
            ]
          },
          "metadata": {},
          "execution_count": 59
        }
      ]
    },
    {
      "cell_type": "markdown",
      "source": [
        "<h3> What is the output of the following: </h3> "
      ],
      "metadata": {
        "id": "UxXInJsk5qE6"
      }
    },
    {
      "cell_type": "code",
      "source": [
        "x='a'\n",
        "\n",
        "if(x!='a'):\n",
        "\n",
        "  print(\"This is not a.\")\n",
        "\n",
        "else:\n",
        "\n",
        "  print(\"This is a.\")\n"
      ],
      "metadata": {
        "colab": {
          "base_uri": "https://localhost:8080/"
        },
        "id": "VYz99bJP5PII",
        "outputId": "19f09914-8a52-4b1f-b651-9172b9f4ec6f"
      },
      "execution_count": 61,
      "outputs": [
        {
          "output_type": "stream",
          "name": "stdout",
          "text": [
            "This is a.\n"
          ]
        }
      ]
    },
    {
      "cell_type": "markdown",
      "source": [
        "### Loops\n",
        "\n",
        "\n"
      ],
      "metadata": {
        "id": "ulhChxGK59Vy"
      }
    },
    {
      "cell_type": "markdown",
      "source": [
        "<h3>For Loops </h3>\n",
        "\n",
        "\n"
      ],
      "metadata": {
        "id": "wqyQli8d6ps_"
      }
    },
    {
      "cell_type": "code",
      "source": [
        "A=[3,4,5]\n",
        "\n",
        "for item in A:\n",
        "  print(item)"
      ],
      "metadata": {
        "colab": {
          "base_uri": "https://localhost:8080/"
        },
        "outputId": "b98ea444-3040-446f-cd54-3b5f867474d4",
        "id": "icrcoTo66ps_"
      },
      "execution_count": 62,
      "outputs": [
        {
          "output_type": "stream",
          "name": "stdout",
          "text": [
            "3\n",
            "4\n",
            "5\n"
          ]
        }
      ]
    },
    {
      "cell_type": "markdown",
      "source": [
        "<h3>While Loops</h3>"
      ],
      "metadata": {
        "id": "lyglBmWM6ps_"
      }
    },
    {
      "cell_type": "code",
      "source": [
        "x=11\n",
        "y=1\n",
        "while(y != x):\n",
        "    print(y)\n",
        "    y=y+1"
      ],
      "metadata": {
        "colab": {
          "base_uri": "https://localhost:8080/"
        },
        "outputId": "e0409999-1129-4af8-8115-d926d55dcecf",
        "id": "FmG6rULD6ptA"
      },
      "execution_count": 63,
      "outputs": [
        {
          "output_type": "stream",
          "name": "stdout",
          "text": [
            "1\n",
            "2\n",
            "3\n",
            "4\n",
            "5\n",
            "6\n",
            "7\n",
            "8\n",
            "9\n",
            "10\n"
          ]
        }
      ]
    },
    {
      "cell_type": "markdown",
      "source": [
        "###Functions"
      ],
      "metadata": {
        "id": "CMj4qO3J75MF"
      }
    },
    {
      "cell_type": "markdown",
      "source": [
        "<h3>Function</h3>"
      ],
      "metadata": {
        "id": "64FrNQUv6ptA"
      }
    },
    {
      "cell_type": "code",
      "source": [
        "def f(a,b):\n",
        "    \n",
        "    return a*b"
      ],
      "metadata": {
        "id": "CBo3EPy86ptA"
      },
      "execution_count": 64,
      "outputs": []
    },
    {
      "cell_type": "code",
      "source": [
        "a=4\n",
        "b=2\n",
        "\n",
        "if a*b==f(a,b):   \n",
        "    print(\"Correct.\")   \n",
        "else:    \n",
        "    print(\"Incorrect.\")"
      ],
      "metadata": {
        "colab": {
          "base_uri": "https://localhost:8080/"
        },
        "id": "tAXh3B-H8TXt",
        "outputId": "b1bfc4a8-5283-42ae-e08b-aa01019cf0cd"
      },
      "execution_count": 65,
      "outputs": [
        {
          "output_type": "stream",
          "name": "stdout",
          "text": [
            "Correct.\n"
          ]
        }
      ]
    },
    {
      "cell_type": "markdown",
      "source": [
        "<h3> Complete the function g such that the input c is a list of integers and the output is the sum of all the elements in the list.</h3>"
      ],
      "metadata": {
        "id": "C22pR7wz6ptA"
      }
    },
    {
      "cell_type": "code",
      "source": [
        "def g(c):\n",
        "    \n",
        "    return sum(c)"
      ],
      "metadata": {
        "id": "EunBuLqj6ptA"
      },
      "execution_count": 66,
      "outputs": []
    },
    {
      "cell_type": "code",
      "source": [
        "c=[1,2,3,4,5]\n",
        "\n",
        "if sum(c)==g(c):   \n",
        "    print(\"Correct.\")   \n",
        "else:    \n",
        "    print(\"Incorrect.\")"
      ],
      "metadata": {
        "colab": {
          "base_uri": "https://localhost:8080/"
        },
        "id": "AhGh0saf9GYy",
        "outputId": "62e5e7e3-beb9-4bd6-b318-7f25e5c1b946"
      },
      "execution_count": 67,
      "outputs": [
        {
          "output_type": "stream",
          "name": "stdout",
          "text": [
            "Correct.\n"
          ]
        }
      ]
    },
    {
      "cell_type": "markdown",
      "source": [
        "<h3> What is the output of the following: </h3> "
      ],
      "metadata": {
        "id": "LEdbndb36ptB"
      }
    },
    {
      "cell_type": "code",
      "source": [
        "x='a'\n",
        "\n",
        "if(x!='a'):\n",
        "\n",
        "  print(\"This is not a.\")\n",
        "\n",
        "else:\n",
        "\n",
        "  print(\"This is a.\")\n"
      ],
      "metadata": {
        "colab": {
          "base_uri": "https://localhost:8080/"
        },
        "outputId": "19f09914-8a52-4b1f-b651-9172b9f4ec6f",
        "id": "iOtQQOju6ptB"
      },
      "execution_count": null,
      "outputs": [
        {
          "output_type": "stream",
          "name": "stdout",
          "text": [
            "This is a.\n"
          ]
        }
      ]
    },
    {
      "cell_type": "markdown",
      "source": [
        "<h3> What is the output of the following: </h3> "
      ],
      "metadata": {
        "id": "uaw32Pac9Y6k"
      }
    },
    {
      "cell_type": "code",
      "source": [
        "a=1\n",
        "\n",
        "def add(b):\n",
        "\n",
        "  return a+b\n",
        "\n",
        "c=add(10)\n",
        "\n"
      ],
      "metadata": {
        "id": "dNCxg6tM9Y6l"
      },
      "execution_count": 68,
      "outputs": []
    },
    {
      "cell_type": "code",
      "source": [
        "c"
      ],
      "metadata": {
        "colab": {
          "base_uri": "https://localhost:8080/"
        },
        "id": "eIinevkB9mXk",
        "outputId": "b694a26b-b5e3-4120-86bb-5257b12ae00b"
      },
      "execution_count": 69,
      "outputs": [
        {
          "output_type": "execute_result",
          "data": {
            "text/plain": [
              "11"
            ]
          },
          "metadata": {},
          "execution_count": 69
        }
      ]
    },
    {
      "cell_type": "markdown",
      "source": [
        "###Object and Classes"
      ],
      "metadata": {
        "id": "KSpgMrl3-0VI"
      }
    },
    {
      "cell_type": "markdown",
      "source": [
        "<h3>Create a Class </h3>"
      ],
      "metadata": {
        "id": "kS5tqPMHnnZ1"
      }
    },
    {
      "cell_type": "code",
      "source": [
        "class Car(object):\n",
        "    def __init__(self,make,model,color):\n",
        "        self.make=make;\n",
        "        self.model=model;\n",
        "        self.color=color;\n",
        "        self.owner_number=0 \n",
        "    def car_info(self):\n",
        "        print(\"make: \",self.make)\n",
        "        print(\"model:\", self.model)\n",
        "        print(\"color:\",self.color)\n",
        "        print(\"number of owners:\",self.owner_number)\n",
        "    def sell(self):\n",
        "        self.owner_number=self.owner_number+1"
      ],
      "metadata": {
        "id": "yJ2AJO3MnnZ2"
      },
      "execution_count": 75,
      "outputs": []
    },
    {
      "cell_type": "markdown",
      "source": [
        "<h3> Create a Car Object </h3>"
      ],
      "metadata": {
        "id": "xISA0BTYnnZ2"
      }
    },
    {
      "cell_type": "code",
      "source": [
        "make=\"BMW\"\n",
        "model=\"M3\"\n",
        "color=\"red\"\n",
        "my_car = Car(make,model,color)\n"
      ],
      "metadata": {
        "id": "X-76AgvBnnZ2"
      },
      "execution_count": 78,
      "outputs": []
    },
    {
      "cell_type": "markdown",
      "source": [
        "<h3>Data Attributes</h3>"
      ],
      "metadata": {
        "id": "i61WDM6NnnZ2"
      }
    },
    {
      "cell_type": "code",
      "source": [
        "my_car.car_info()"
      ],
      "metadata": {
        "colab": {
          "base_uri": "https://localhost:8080/"
        },
        "id": "VicKyAAUnnZ3",
        "outputId": "01edbc4b-5fa3-4af1-e694-59c8e8a484a1"
      },
      "execution_count": 79,
      "outputs": [
        {
          "output_type": "stream",
          "name": "stdout",
          "text": [
            "make:  BMW\n",
            "model: M3\n",
            "color: red\n",
            "number of owners: 0\n"
          ]
        }
      ]
    },
    {
      "cell_type": "markdown",
      "source": [
        "<h3> Methods</h3>"
      ],
      "metadata": {
        "id": "n1WAUb4snnZ3"
      }
    },
    {
      "cell_type": "code",
      "source": [
        "for i in range(5):\n",
        "    my_car.sell()\n",
        "    my_car.car_info()"
      ],
      "metadata": {
        "colab": {
          "base_uri": "https://localhost:8080/"
        },
        "outputId": "0a4af730-88fc-439f-e2d8-47e5dd0348b8",
        "id": "E8OlZB-BnnZ4"
      },
      "execution_count": 81,
      "outputs": [
        {
          "output_type": "stream",
          "name": "stdout",
          "text": [
            "make:  BMW\n",
            "model: M3\n",
            "color: red\n",
            "number of owners: 2\n",
            "make:  BMW\n",
            "model: M3\n",
            "color: red\n",
            "number of owners: 3\n",
            "make:  BMW\n",
            "model: M3\n",
            "color: red\n",
            "number of owners: 4\n",
            "make:  BMW\n",
            "model: M3\n",
            "color: red\n",
            "number of owners: 5\n",
            "make:  BMW\n",
            "model: M3\n",
            "color: red\n",
            "number of owners: 6\n"
          ]
        }
      ]
    },
    {
      "cell_type": "markdown",
      "source": [
        "###Exception Handling"
      ],
      "metadata": {
        "id": "3HzXoXdtCXBE"
      }
    },
    {
      "cell_type": "markdown",
      "source": [
        "<h3> Try Except Example </h3>"
      ],
      "metadata": {
        "id": "VrVk40jCDFts"
      }
    },
    {
      "cell_type": "code",
      "source": [
        "a = 1\n",
        "\n",
        "try:\n",
        "    b = int(input(\"Please enter a number to divide a\"))\n",
        "    a = a/b\n",
        "    print(\"Success a=\",a)\n",
        "except:\n",
        "    print(\"There was an error\")\n",
        "        \n"
      ],
      "metadata": {
        "colab": {
          "base_uri": "https://localhost:8080/"
        },
        "id": "l-n7P_33DFts",
        "outputId": "27c1de26-b7eb-45e4-db20-09f5fd9d7474"
      },
      "execution_count": 84,
      "outputs": [
        {
          "output_type": "stream",
          "name": "stdout",
          "text": [
            "Please enter a number to divide a0\n",
            "There was an error\n"
          ]
        }
      ]
    },
    {
      "cell_type": "markdown",
      "source": [
        "<h3>Try Except Specific Example</h3>"
      ],
      "metadata": {
        "id": "qOCZ3eyODFts"
      }
    },
    {
      "cell_type": "code",
      "source": [
        "a = 1\n",
        "\n",
        "try:\n",
        "    b = int(input(\"Please enter a number to divide a\"))\n",
        "    a = a/b\n",
        "    print(\"Success a=\",a)\n",
        "except ZeroDivisionError:\n",
        "    print(\"The number you provided cant divide 1 because it is 0\")\n",
        "except ValueError:\n",
        "    print(\"You did not provide a number\")\n",
        "except:\n",
        "    print(\"Something went wrong\")\n",
        "        \n"
      ],
      "metadata": {
        "colab": {
          "base_uri": "https://localhost:8080/"
        },
        "outputId": "9c209a05-824b-47c3-ee21-0d5d36e5d8c7",
        "id": "IqoVCHXBDFts"
      },
      "execution_count": 85,
      "outputs": [
        {
          "output_type": "stream",
          "name": "stdout",
          "text": [
            "Please enter a number to divide ad\n",
            "You did not provide a number\n"
          ]
        }
      ]
    },
    {
      "cell_type": "code",
      "source": [
        "a = 1\n",
        "\n",
        "try:\n",
        "    b = int(input(\"Please enter a number to divide a\"))\n",
        "    a = a/b\n",
        "    print(\"Success a=\",a)\n",
        "except ZeroDivisionError:\n",
        "    print(\"The number you provided cant divide 1 because it is 0\")\n",
        "except ValueError:\n",
        "    print(\"You did not provide a number\")\n",
        "except:\n",
        "    print(\"Something went wrong\")\n",
        "        \n"
      ],
      "metadata": {
        "colab": {
          "base_uri": "https://localhost:8080/"
        },
        "id": "l3ZMEQgKDywb",
        "outputId": "4614d287-50e0-424f-ad8f-d1a74c1b3a86"
      },
      "execution_count": 86,
      "outputs": [
        {
          "output_type": "stream",
          "name": "stdout",
          "text": [
            "Please enter a number to divide a0\n",
            "The number you provided cant divide 1 because it is 0\n"
          ]
        }
      ]
    },
    {
      "cell_type": "markdown",
      "source": [
        "<h3>Try Except Else and Finally Example</h3>"
      ],
      "metadata": {
        "id": "EECybDrFD-bt"
      }
    },
    {
      "cell_type": "code",
      "source": [
        "a = 1\n",
        "\n",
        "try:\n",
        "    b = int(input(\"Please enter a number to divide a\"))\n",
        "    a = a/b\n",
        "except ZeroDivisionError:\n",
        "    print(\"The number you provided cant divide 1 because it is 0\")\n",
        "except ValueError:\n",
        "    print(\"You did not provide a number\")\n",
        "except:\n",
        "    print(\"Something went wrong\")\n",
        "else:\n",
        "    print(\"success a=\",a)\n",
        "finally:\n",
        "    print(\"Processing Complete\")"
      ],
      "metadata": {
        "colab": {
          "base_uri": "https://localhost:8080/"
        },
        "id": "8SCOlaFvEBwY",
        "outputId": "3077d862-236f-438a-bc21-20992fea06e2"
      },
      "execution_count": 87,
      "outputs": [
        {
          "output_type": "stream",
          "name": "stdout",
          "text": [
            "Please enter a number to divide aa\n",
            "You did not provide a number\n",
            "Processing Complete\n"
          ]
        }
      ]
    },
    {
      "cell_type": "code",
      "source": [
        "a = 1\n",
        "\n",
        "try:\n",
        "    b = int(input(\"Please enter a number to divide a\"))\n",
        "    a = a/b\n",
        "except ZeroDivisionError:\n",
        "    print(\"The number you provided cant divide 1 because it is 0\")\n",
        "except ValueError:\n",
        "    print(\"You did not provide a number\")\n",
        "except:\n",
        "    print(\"Something went wrong\")\n",
        "else:\n",
        "    print(\"success a=\",a)\n",
        "finally:\n",
        "    print(\"Processing Complete\")\n",
        "    "
      ],
      "metadata": {
        "colab": {
          "base_uri": "https://localhost:8080/"
        },
        "id": "9Sfjhp6zEEy0",
        "outputId": "f0ecb91d-9045-4790-ff07-31e96e32908b"
      },
      "execution_count": 88,
      "outputs": [
        {
          "output_type": "stream",
          "name": "stdout",
          "text": [
            "Please enter a number to divide a0\n",
            "The number you provided cant divide 1 because it is 0\n",
            "Processing Complete\n"
          ]
        }
      ]
    },
    {
      "cell_type": "code",
      "source": [
        "a = 1\n",
        "\n",
        "try:\n",
        "    b = int(input(\"Please enter a number to divide a\"))\n",
        "    a = a/b\n",
        "except ZeroDivisionError:\n",
        "    print(\"The number you provided cant divide 1 because it is 0\")\n",
        "except ValueError:\n",
        "    print(\"You did not provide a number\")\n",
        "except:\n",
        "    print(\"Something went wrong\")\n",
        "else:\n",
        "    print(\"success a=\",a)\n",
        "finally:\n",
        "    print(\"Processing Complete\")\n",
        "    "
      ],
      "metadata": {
        "colab": {
          "base_uri": "https://localhost:8080/"
        },
        "id": "Uf0nrUV3EJQY",
        "outputId": "12223239-3b21-451a-cb84-35f735f4872a"
      },
      "execution_count": 89,
      "outputs": [
        {
          "output_type": "stream",
          "name": "stdout",
          "text": [
            "Please enter a number to divide a2\n",
            "success a= 0.5\n",
            "Processing Complete\n"
          ]
        }
      ]
    }
  ]
}