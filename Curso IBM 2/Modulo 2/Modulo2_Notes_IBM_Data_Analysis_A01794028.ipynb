{
  "cells": [
    {
      "cell_type": "markdown",
      "metadata": {
        "id": "view-in-github",
        "colab_type": "text"
      },
      "source": [
        "<a href=\"https://colab.research.google.com/github/PosgradoMNA/actividades-de-aprendizaje-diegolarte/blob/main/Curso%20IBM%202/Modulo%202/Modulo2_Notes_IBM_Data_Analysis_A01794028.ipynb\" target=\"_parent\"><img src=\"https://colab.research.google.com/assets/colab-badge.svg\" alt=\"Open In Colab\"/></a>"
      ]
    },
    {
      "cell_type": "markdown",
      "metadata": {
        "id": "7lsU4TK9noPZ"
      },
      "source": [
        "##Module 2 - Cleaning and Preparing the Data"
      ]
    },
    {
      "cell_type": "markdown",
      "metadata": {
        "id": "la-PARa8r0Cm"
      },
      "source": [
        "###Manejo de valores faltantes"
      ]
    },
    {
      "cell_type": "markdown",
      "metadata": {
        "id": "Yqxtb-W-duEF"
      },
      "source": [
        "Los valores nulos en el dataset pueden aparecer como: \\\n",
        " \"?\" , \"N/A\" , 0 O simplemente una celda en blanco"
      ]
    },
    {
      "cell_type": "markdown",
      "metadata": {
        "id": "2jakenASduEG"
      },
      "source": [
        "Como manejar los datos faltantes?\n",
        "1. Validar con la persona que recolecto los datos y ver si es posible encontrar el valor real\n",
        "2. Remover los registros con valores faltantes\n",
        "3. Remover toda la columna con valores faltantes \n",
        "4. Reemplazar los valores con el promedio (numericos)\n",
        "5. Reemplazar los valores con el valor mas comun (categoricos)\n",
        "6. Reemplazar el valor basado en otras funciones"
      ]
    },
    {
      "cell_type": "code",
      "execution_count": null,
      "metadata": {
        "id": "0uAkgq5wlbZ4"
      },
      "outputs": [],
      "source": [
        "import pandas as pd\n",
        "import numpy as np"
      ]
    },
    {
      "cell_type": "code",
      "execution_count": null,
      "metadata": {
        "id": "0NU41Dp5lbZ8"
      },
      "outputs": [],
      "source": [
        "filename = \"https://cf-courses-data.s3.us.cloud-object-storage.appdomain.cloud/IBMDeveloperSkillsNetwork-DA0101EN-SkillsNetwork/labs/Data%20files/auto.csv\""
      ]
    },
    {
      "cell_type": "code",
      "execution_count": null,
      "metadata": {
        "id": "wn4pvX3GlbZ-"
      },
      "outputs": [],
      "source": [
        "#Definir los encabezados de las columnas\n",
        "headers = [\"symboling\",\"normalized-losses\",\"make\",\"fuel-type\",\"aspiration\", \"num-of-doors\",\"body-style\",\n",
        "         \"drive-wheels\",\"engine-location\",\"wheel-base\", \"length\",\"width\",\"height\",\"curb-weight\",\"engine-type\",\n",
        "         \"num-of-cylinders\", \"engine-size\",\"fuel-system\",\"bore\",\"stroke\",\"compression-ratio\",\"horsepower\",\n",
        "         \"peak-rpm\",\"city-mpg\",\"highway-mpg\",\"price\"]"
      ]
    },
    {
      "cell_type": "code",
      "execution_count": null,
      "metadata": {
        "id": "pv1DpjEclbZ_"
      },
      "outputs": [],
      "source": [
        "df = pd.read_csv(filename, names = headers)"
      ]
    },
    {
      "cell_type": "code",
      "execution_count": null,
      "metadata": {
        "id": "20Q0nStulbaA",
        "outputId": "5b627b3f-c67f-430b-a9a5-5a4ed4d2a191"
      },
      "outputs": [
        {
          "data": {
            "text/html": [
              "<div>\n",
              "<style scoped>\n",
              "    .dataframe tbody tr th:only-of-type {\n",
              "        vertical-align: middle;\n",
              "    }\n",
              "\n",
              "    .dataframe tbody tr th {\n",
              "        vertical-align: top;\n",
              "    }\n",
              "\n",
              "    .dataframe thead th {\n",
              "        text-align: right;\n",
              "    }\n",
              "</style>\n",
              "<table border=\"1\" class=\"dataframe\">\n",
              "  <thead>\n",
              "    <tr style=\"text-align: right;\">\n",
              "      <th></th>\n",
              "      <th>symboling</th>\n",
              "      <th>normalized-losses</th>\n",
              "      <th>make</th>\n",
              "      <th>fuel-type</th>\n",
              "      <th>aspiration</th>\n",
              "      <th>num-of-doors</th>\n",
              "      <th>body-style</th>\n",
              "      <th>drive-wheels</th>\n",
              "      <th>engine-location</th>\n",
              "      <th>wheel-base</th>\n",
              "      <th>...</th>\n",
              "      <th>engine-size</th>\n",
              "      <th>fuel-system</th>\n",
              "      <th>bore</th>\n",
              "      <th>stroke</th>\n",
              "      <th>compression-ratio</th>\n",
              "      <th>horsepower</th>\n",
              "      <th>peak-rpm</th>\n",
              "      <th>city-mpg</th>\n",
              "      <th>highway-mpg</th>\n",
              "      <th>price</th>\n",
              "    </tr>\n",
              "  </thead>\n",
              "  <tbody>\n",
              "    <tr>\n",
              "      <th>0</th>\n",
              "      <td>3</td>\n",
              "      <td>?</td>\n",
              "      <td>alfa-romero</td>\n",
              "      <td>gas</td>\n",
              "      <td>std</td>\n",
              "      <td>two</td>\n",
              "      <td>convertible</td>\n",
              "      <td>rwd</td>\n",
              "      <td>front</td>\n",
              "      <td>88.6</td>\n",
              "      <td>...</td>\n",
              "      <td>130</td>\n",
              "      <td>mpfi</td>\n",
              "      <td>3.47</td>\n",
              "      <td>2.68</td>\n",
              "      <td>9.0</td>\n",
              "      <td>111</td>\n",
              "      <td>5000</td>\n",
              "      <td>21</td>\n",
              "      <td>27</td>\n",
              "      <td>13495</td>\n",
              "    </tr>\n",
              "    <tr>\n",
              "      <th>1</th>\n",
              "      <td>3</td>\n",
              "      <td>?</td>\n",
              "      <td>alfa-romero</td>\n",
              "      <td>gas</td>\n",
              "      <td>std</td>\n",
              "      <td>two</td>\n",
              "      <td>convertible</td>\n",
              "      <td>rwd</td>\n",
              "      <td>front</td>\n",
              "      <td>88.6</td>\n",
              "      <td>...</td>\n",
              "      <td>130</td>\n",
              "      <td>mpfi</td>\n",
              "      <td>3.47</td>\n",
              "      <td>2.68</td>\n",
              "      <td>9.0</td>\n",
              "      <td>111</td>\n",
              "      <td>5000</td>\n",
              "      <td>21</td>\n",
              "      <td>27</td>\n",
              "      <td>16500</td>\n",
              "    </tr>\n",
              "    <tr>\n",
              "      <th>2</th>\n",
              "      <td>1</td>\n",
              "      <td>?</td>\n",
              "      <td>alfa-romero</td>\n",
              "      <td>gas</td>\n",
              "      <td>std</td>\n",
              "      <td>two</td>\n",
              "      <td>hatchback</td>\n",
              "      <td>rwd</td>\n",
              "      <td>front</td>\n",
              "      <td>94.5</td>\n",
              "      <td>...</td>\n",
              "      <td>152</td>\n",
              "      <td>mpfi</td>\n",
              "      <td>2.68</td>\n",
              "      <td>3.47</td>\n",
              "      <td>9.0</td>\n",
              "      <td>154</td>\n",
              "      <td>5000</td>\n",
              "      <td>19</td>\n",
              "      <td>26</td>\n",
              "      <td>16500</td>\n",
              "    </tr>\n",
              "    <tr>\n",
              "      <th>3</th>\n",
              "      <td>2</td>\n",
              "      <td>164</td>\n",
              "      <td>audi</td>\n",
              "      <td>gas</td>\n",
              "      <td>std</td>\n",
              "      <td>four</td>\n",
              "      <td>sedan</td>\n",
              "      <td>fwd</td>\n",
              "      <td>front</td>\n",
              "      <td>99.8</td>\n",
              "      <td>...</td>\n",
              "      <td>109</td>\n",
              "      <td>mpfi</td>\n",
              "      <td>3.19</td>\n",
              "      <td>3.40</td>\n",
              "      <td>10.0</td>\n",
              "      <td>102</td>\n",
              "      <td>5500</td>\n",
              "      <td>24</td>\n",
              "      <td>30</td>\n",
              "      <td>13950</td>\n",
              "    </tr>\n",
              "    <tr>\n",
              "      <th>4</th>\n",
              "      <td>2</td>\n",
              "      <td>164</td>\n",
              "      <td>audi</td>\n",
              "      <td>gas</td>\n",
              "      <td>std</td>\n",
              "      <td>four</td>\n",
              "      <td>sedan</td>\n",
              "      <td>4wd</td>\n",
              "      <td>front</td>\n",
              "      <td>99.4</td>\n",
              "      <td>...</td>\n",
              "      <td>136</td>\n",
              "      <td>mpfi</td>\n",
              "      <td>3.19</td>\n",
              "      <td>3.40</td>\n",
              "      <td>8.0</td>\n",
              "      <td>115</td>\n",
              "      <td>5500</td>\n",
              "      <td>18</td>\n",
              "      <td>22</td>\n",
              "      <td>17450</td>\n",
              "    </tr>\n",
              "  </tbody>\n",
              "</table>\n",
              "<p>5 rows × 26 columns</p>\n",
              "</div>"
            ],
            "text/plain": [
              "   symboling normalized-losses         make fuel-type aspiration num-of-doors  \\\n",
              "0          3                 ?  alfa-romero       gas        std          two   \n",
              "1          3                 ?  alfa-romero       gas        std          two   \n",
              "2          1                 ?  alfa-romero       gas        std          two   \n",
              "3          2               164         audi       gas        std         four   \n",
              "4          2               164         audi       gas        std         four   \n",
              "\n",
              "    body-style drive-wheels engine-location  wheel-base  ...  engine-size  \\\n",
              "0  convertible          rwd           front        88.6  ...          130   \n",
              "1  convertible          rwd           front        88.6  ...          130   \n",
              "2    hatchback          rwd           front        94.5  ...          152   \n",
              "3        sedan          fwd           front        99.8  ...          109   \n",
              "4        sedan          4wd           front        99.4  ...          136   \n",
              "\n",
              "   fuel-system  bore  stroke compression-ratio horsepower  peak-rpm city-mpg  \\\n",
              "0         mpfi  3.47    2.68               9.0        111      5000       21   \n",
              "1         mpfi  3.47    2.68               9.0        111      5000       21   \n",
              "2         mpfi  2.68    3.47               9.0        154      5000       19   \n",
              "3         mpfi  3.19    3.40              10.0        102      5500       24   \n",
              "4         mpfi  3.19    3.40               8.0        115      5500       18   \n",
              "\n",
              "  highway-mpg  price  \n",
              "0          27  13495  \n",
              "1          27  16500  \n",
              "2          26  16500  \n",
              "3          30  13950  \n",
              "4          22  17450  \n",
              "\n",
              "[5 rows x 26 columns]"
            ]
          },
          "execution_count": 5,
          "metadata": {},
          "output_type": "execute_result"
        }
      ],
      "source": [
        "df.head()"
      ]
    },
    {
      "cell_type": "markdown",
      "metadata": {
        "id": "lt1PUTn8duEH"
      },
      "source": [
        "###Identificar valores faltantes"
      ]
    },
    {
      "cell_type": "code",
      "execution_count": null,
      "metadata": {
        "id": "kJEktUCblbaD",
        "outputId": "2f43398a-7caf-4a65-bd3c-78e943d6e3d5"
      },
      "outputs": [
        {
          "data": {
            "text/html": [
              "<div>\n",
              "<style scoped>\n",
              "    .dataframe tbody tr th:only-of-type {\n",
              "        vertical-align: middle;\n",
              "    }\n",
              "\n",
              "    .dataframe tbody tr th {\n",
              "        vertical-align: top;\n",
              "    }\n",
              "\n",
              "    .dataframe thead th {\n",
              "        text-align: right;\n",
              "    }\n",
              "</style>\n",
              "<table border=\"1\" class=\"dataframe\">\n",
              "  <thead>\n",
              "    <tr style=\"text-align: right;\">\n",
              "      <th></th>\n",
              "      <th>symboling</th>\n",
              "      <th>normalized-losses</th>\n",
              "      <th>make</th>\n",
              "      <th>fuel-type</th>\n",
              "      <th>aspiration</th>\n",
              "      <th>num-of-doors</th>\n",
              "      <th>body-style</th>\n",
              "      <th>drive-wheels</th>\n",
              "      <th>engine-location</th>\n",
              "      <th>wheel-base</th>\n",
              "      <th>...</th>\n",
              "      <th>engine-size</th>\n",
              "      <th>fuel-system</th>\n",
              "      <th>bore</th>\n",
              "      <th>stroke</th>\n",
              "      <th>compression-ratio</th>\n",
              "      <th>horsepower</th>\n",
              "      <th>peak-rpm</th>\n",
              "      <th>city-mpg</th>\n",
              "      <th>highway-mpg</th>\n",
              "      <th>price</th>\n",
              "    </tr>\n",
              "  </thead>\n",
              "  <tbody>\n",
              "    <tr>\n",
              "      <th>0</th>\n",
              "      <td>3</td>\n",
              "      <td>NaN</td>\n",
              "      <td>alfa-romero</td>\n",
              "      <td>gas</td>\n",
              "      <td>std</td>\n",
              "      <td>two</td>\n",
              "      <td>convertible</td>\n",
              "      <td>rwd</td>\n",
              "      <td>front</td>\n",
              "      <td>88.6</td>\n",
              "      <td>...</td>\n",
              "      <td>130</td>\n",
              "      <td>mpfi</td>\n",
              "      <td>3.47</td>\n",
              "      <td>2.68</td>\n",
              "      <td>9.0</td>\n",
              "      <td>111</td>\n",
              "      <td>5000</td>\n",
              "      <td>21</td>\n",
              "      <td>27</td>\n",
              "      <td>13495</td>\n",
              "    </tr>\n",
              "    <tr>\n",
              "      <th>1</th>\n",
              "      <td>3</td>\n",
              "      <td>NaN</td>\n",
              "      <td>alfa-romero</td>\n",
              "      <td>gas</td>\n",
              "      <td>std</td>\n",
              "      <td>two</td>\n",
              "      <td>convertible</td>\n",
              "      <td>rwd</td>\n",
              "      <td>front</td>\n",
              "      <td>88.6</td>\n",
              "      <td>...</td>\n",
              "      <td>130</td>\n",
              "      <td>mpfi</td>\n",
              "      <td>3.47</td>\n",
              "      <td>2.68</td>\n",
              "      <td>9.0</td>\n",
              "      <td>111</td>\n",
              "      <td>5000</td>\n",
              "      <td>21</td>\n",
              "      <td>27</td>\n",
              "      <td>16500</td>\n",
              "    </tr>\n",
              "    <tr>\n",
              "      <th>2</th>\n",
              "      <td>1</td>\n",
              "      <td>NaN</td>\n",
              "      <td>alfa-romero</td>\n",
              "      <td>gas</td>\n",
              "      <td>std</td>\n",
              "      <td>two</td>\n",
              "      <td>hatchback</td>\n",
              "      <td>rwd</td>\n",
              "      <td>front</td>\n",
              "      <td>94.5</td>\n",
              "      <td>...</td>\n",
              "      <td>152</td>\n",
              "      <td>mpfi</td>\n",
              "      <td>2.68</td>\n",
              "      <td>3.47</td>\n",
              "      <td>9.0</td>\n",
              "      <td>154</td>\n",
              "      <td>5000</td>\n",
              "      <td>19</td>\n",
              "      <td>26</td>\n",
              "      <td>16500</td>\n",
              "    </tr>\n",
              "    <tr>\n",
              "      <th>3</th>\n",
              "      <td>2</td>\n",
              "      <td>164</td>\n",
              "      <td>audi</td>\n",
              "      <td>gas</td>\n",
              "      <td>std</td>\n",
              "      <td>four</td>\n",
              "      <td>sedan</td>\n",
              "      <td>fwd</td>\n",
              "      <td>front</td>\n",
              "      <td>99.8</td>\n",
              "      <td>...</td>\n",
              "      <td>109</td>\n",
              "      <td>mpfi</td>\n",
              "      <td>3.19</td>\n",
              "      <td>3.40</td>\n",
              "      <td>10.0</td>\n",
              "      <td>102</td>\n",
              "      <td>5500</td>\n",
              "      <td>24</td>\n",
              "      <td>30</td>\n",
              "      <td>13950</td>\n",
              "    </tr>\n",
              "    <tr>\n",
              "      <th>4</th>\n",
              "      <td>2</td>\n",
              "      <td>164</td>\n",
              "      <td>audi</td>\n",
              "      <td>gas</td>\n",
              "      <td>std</td>\n",
              "      <td>four</td>\n",
              "      <td>sedan</td>\n",
              "      <td>4wd</td>\n",
              "      <td>front</td>\n",
              "      <td>99.4</td>\n",
              "      <td>...</td>\n",
              "      <td>136</td>\n",
              "      <td>mpfi</td>\n",
              "      <td>3.19</td>\n",
              "      <td>3.40</td>\n",
              "      <td>8.0</td>\n",
              "      <td>115</td>\n",
              "      <td>5500</td>\n",
              "      <td>18</td>\n",
              "      <td>22</td>\n",
              "      <td>17450</td>\n",
              "    </tr>\n",
              "  </tbody>\n",
              "</table>\n",
              "<p>5 rows × 26 columns</p>\n",
              "</div>"
            ],
            "text/plain": [
              "   symboling normalized-losses         make fuel-type aspiration num-of-doors  \\\n",
              "0          3               NaN  alfa-romero       gas        std          two   \n",
              "1          3               NaN  alfa-romero       gas        std          two   \n",
              "2          1               NaN  alfa-romero       gas        std          two   \n",
              "3          2               164         audi       gas        std         four   \n",
              "4          2               164         audi       gas        std         four   \n",
              "\n",
              "    body-style drive-wheels engine-location  wheel-base  ...  engine-size  \\\n",
              "0  convertible          rwd           front        88.6  ...          130   \n",
              "1  convertible          rwd           front        88.6  ...          130   \n",
              "2    hatchback          rwd           front        94.5  ...          152   \n",
              "3        sedan          fwd           front        99.8  ...          109   \n",
              "4        sedan          4wd           front        99.4  ...          136   \n",
              "\n",
              "   fuel-system  bore  stroke compression-ratio horsepower  peak-rpm city-mpg  \\\n",
              "0         mpfi  3.47    2.68               9.0        111      5000       21   \n",
              "1         mpfi  3.47    2.68               9.0        111      5000       21   \n",
              "2         mpfi  2.68    3.47               9.0        154      5000       19   \n",
              "3         mpfi  3.19    3.40              10.0        102      5500       24   \n",
              "4         mpfi  3.19    3.40               8.0        115      5500       18   \n",
              "\n",
              "  highway-mpg  price  \n",
              "0          27  13495  \n",
              "1          27  16500  \n",
              "2          26  16500  \n",
              "3          30  13950  \n",
              "4          22  17450  \n",
              "\n",
              "[5 rows x 26 columns]"
            ]
          },
          "execution_count": 7,
          "metadata": {},
          "output_type": "execute_result"
        }
      ],
      "source": [
        "#Reemplazar \"?\" por NaN\n",
        "df.replace(\"?\", np.nan, inplace = True)\n",
        "df.head(5)"
      ]
    },
    {
      "cell_type": "markdown",
      "metadata": {
        "id": "S_KtQtUHlbaF"
      },
      "source": [
        "Evaluar valores Nulos"
      ]
    },
    {
      "cell_type": "code",
      "execution_count": null,
      "metadata": {
        "id": "NXoDt9WGlbaG",
        "outputId": "a3d577ac-f1cd-413a-d2d3-1a0bd8391e35"
      },
      "outputs": [
        {
          "data": {
            "text/html": [
              "<div>\n",
              "<style scoped>\n",
              "    .dataframe tbody tr th:only-of-type {\n",
              "        vertical-align: middle;\n",
              "    }\n",
              "\n",
              "    .dataframe tbody tr th {\n",
              "        vertical-align: top;\n",
              "    }\n",
              "\n",
              "    .dataframe thead th {\n",
              "        text-align: right;\n",
              "    }\n",
              "</style>\n",
              "<table border=\"1\" class=\"dataframe\">\n",
              "  <thead>\n",
              "    <tr style=\"text-align: right;\">\n",
              "      <th></th>\n",
              "      <th>symboling</th>\n",
              "      <th>normalized-losses</th>\n",
              "      <th>make</th>\n",
              "      <th>fuel-type</th>\n",
              "      <th>aspiration</th>\n",
              "      <th>num-of-doors</th>\n",
              "      <th>body-style</th>\n",
              "      <th>drive-wheels</th>\n",
              "      <th>engine-location</th>\n",
              "      <th>wheel-base</th>\n",
              "      <th>...</th>\n",
              "      <th>engine-size</th>\n",
              "      <th>fuel-system</th>\n",
              "      <th>bore</th>\n",
              "      <th>stroke</th>\n",
              "      <th>compression-ratio</th>\n",
              "      <th>horsepower</th>\n",
              "      <th>peak-rpm</th>\n",
              "      <th>city-mpg</th>\n",
              "      <th>highway-mpg</th>\n",
              "      <th>price</th>\n",
              "    </tr>\n",
              "  </thead>\n",
              "  <tbody>\n",
              "    <tr>\n",
              "      <th>0</th>\n",
              "      <td>False</td>\n",
              "      <td>True</td>\n",
              "      <td>False</td>\n",
              "      <td>False</td>\n",
              "      <td>False</td>\n",
              "      <td>False</td>\n",
              "      <td>False</td>\n",
              "      <td>False</td>\n",
              "      <td>False</td>\n",
              "      <td>False</td>\n",
              "      <td>...</td>\n",
              "      <td>False</td>\n",
              "      <td>False</td>\n",
              "      <td>False</td>\n",
              "      <td>False</td>\n",
              "      <td>False</td>\n",
              "      <td>False</td>\n",
              "      <td>False</td>\n",
              "      <td>False</td>\n",
              "      <td>False</td>\n",
              "      <td>False</td>\n",
              "    </tr>\n",
              "    <tr>\n",
              "      <th>1</th>\n",
              "      <td>False</td>\n",
              "      <td>True</td>\n",
              "      <td>False</td>\n",
              "      <td>False</td>\n",
              "      <td>False</td>\n",
              "      <td>False</td>\n",
              "      <td>False</td>\n",
              "      <td>False</td>\n",
              "      <td>False</td>\n",
              "      <td>False</td>\n",
              "      <td>...</td>\n",
              "      <td>False</td>\n",
              "      <td>False</td>\n",
              "      <td>False</td>\n",
              "      <td>False</td>\n",
              "      <td>False</td>\n",
              "      <td>False</td>\n",
              "      <td>False</td>\n",
              "      <td>False</td>\n",
              "      <td>False</td>\n",
              "      <td>False</td>\n",
              "    </tr>\n",
              "    <tr>\n",
              "      <th>2</th>\n",
              "      <td>False</td>\n",
              "      <td>True</td>\n",
              "      <td>False</td>\n",
              "      <td>False</td>\n",
              "      <td>False</td>\n",
              "      <td>False</td>\n",
              "      <td>False</td>\n",
              "      <td>False</td>\n",
              "      <td>False</td>\n",
              "      <td>False</td>\n",
              "      <td>...</td>\n",
              "      <td>False</td>\n",
              "      <td>False</td>\n",
              "      <td>False</td>\n",
              "      <td>False</td>\n",
              "      <td>False</td>\n",
              "      <td>False</td>\n",
              "      <td>False</td>\n",
              "      <td>False</td>\n",
              "      <td>False</td>\n",
              "      <td>False</td>\n",
              "    </tr>\n",
              "    <tr>\n",
              "      <th>3</th>\n",
              "      <td>False</td>\n",
              "      <td>False</td>\n",
              "      <td>False</td>\n",
              "      <td>False</td>\n",
              "      <td>False</td>\n",
              "      <td>False</td>\n",
              "      <td>False</td>\n",
              "      <td>False</td>\n",
              "      <td>False</td>\n",
              "      <td>False</td>\n",
              "      <td>...</td>\n",
              "      <td>False</td>\n",
              "      <td>False</td>\n",
              "      <td>False</td>\n",
              "      <td>False</td>\n",
              "      <td>False</td>\n",
              "      <td>False</td>\n",
              "      <td>False</td>\n",
              "      <td>False</td>\n",
              "      <td>False</td>\n",
              "      <td>False</td>\n",
              "    </tr>\n",
              "    <tr>\n",
              "      <th>4</th>\n",
              "      <td>False</td>\n",
              "      <td>False</td>\n",
              "      <td>False</td>\n",
              "      <td>False</td>\n",
              "      <td>False</td>\n",
              "      <td>False</td>\n",
              "      <td>False</td>\n",
              "      <td>False</td>\n",
              "      <td>False</td>\n",
              "      <td>False</td>\n",
              "      <td>...</td>\n",
              "      <td>False</td>\n",
              "      <td>False</td>\n",
              "      <td>False</td>\n",
              "      <td>False</td>\n",
              "      <td>False</td>\n",
              "      <td>False</td>\n",
              "      <td>False</td>\n",
              "      <td>False</td>\n",
              "      <td>False</td>\n",
              "      <td>False</td>\n",
              "    </tr>\n",
              "  </tbody>\n",
              "</table>\n",
              "<p>5 rows × 26 columns</p>\n",
              "</div>"
            ],
            "text/plain": [
              "   symboling  normalized-losses   make  fuel-type  aspiration  num-of-doors  \\\n",
              "0      False               True  False      False       False         False   \n",
              "1      False               True  False      False       False         False   \n",
              "2      False               True  False      False       False         False   \n",
              "3      False              False  False      False       False         False   \n",
              "4      False              False  False      False       False         False   \n",
              "\n",
              "   body-style  drive-wheels  engine-location  wheel-base  ...  engine-size  \\\n",
              "0       False         False            False       False  ...        False   \n",
              "1       False         False            False       False  ...        False   \n",
              "2       False         False            False       False  ...        False   \n",
              "3       False         False            False       False  ...        False   \n",
              "4       False         False            False       False  ...        False   \n",
              "\n",
              "   fuel-system   bore  stroke  compression-ratio  horsepower  peak-rpm  \\\n",
              "0        False  False   False              False       False     False   \n",
              "1        False  False   False              False       False     False   \n",
              "2        False  False   False              False       False     False   \n",
              "3        False  False   False              False       False     False   \n",
              "4        False  False   False              False       False     False   \n",
              "\n",
              "   city-mpg  highway-mpg  price  \n",
              "0     False        False  False  \n",
              "1     False        False  False  \n",
              "2     False        False  False  \n",
              "3     False        False  False  \n",
              "4     False        False  False  \n",
              "\n",
              "[5 rows x 26 columns]"
            ]
          },
          "execution_count": 8,
          "metadata": {},
          "output_type": "execute_result"
        }
      ],
      "source": [
        "missing_data = df.isnull()\n",
        "missing_data.head(5)"
      ]
    },
    {
      "cell_type": "markdown",
      "metadata": {
        "id": "uEhXoJCjlbaI"
      },
      "source": [
        "Contar valores nulos por cada columna"
      ]
    },
    {
      "cell_type": "code",
      "execution_count": null,
      "metadata": {
        "id": "g5YiiQy0lbaI",
        "outputId": "c429f4f2-6661-4e42-a234-d95e34aacd3b"
      },
      "outputs": [
        {
          "name": "stdout",
          "output_type": "stream",
          "text": [
            "symboling\n",
            "False    205\n",
            "Name: symboling, dtype: int64\n",
            "\n",
            "normalized-losses\n",
            "False    164\n",
            "True      41\n",
            "Name: normalized-losses, dtype: int64\n",
            "\n",
            "make\n",
            "False    205\n",
            "Name: make, dtype: int64\n",
            "\n",
            "fuel-type\n",
            "False    205\n",
            "Name: fuel-type, dtype: int64\n",
            "\n",
            "aspiration\n",
            "False    205\n",
            "Name: aspiration, dtype: int64\n",
            "\n",
            "num-of-doors\n",
            "False    203\n",
            "True       2\n",
            "Name: num-of-doors, dtype: int64\n",
            "\n",
            "body-style\n",
            "False    205\n",
            "Name: body-style, dtype: int64\n",
            "\n",
            "drive-wheels\n",
            "False    205\n",
            "Name: drive-wheels, dtype: int64\n",
            "\n",
            "engine-location\n",
            "False    205\n",
            "Name: engine-location, dtype: int64\n",
            "\n",
            "wheel-base\n",
            "False    205\n",
            "Name: wheel-base, dtype: int64\n",
            "\n",
            "length\n",
            "False    205\n",
            "Name: length, dtype: int64\n",
            "\n",
            "width\n",
            "False    205\n",
            "Name: width, dtype: int64\n",
            "\n",
            "height\n",
            "False    205\n",
            "Name: height, dtype: int64\n",
            "\n",
            "curb-weight\n",
            "False    205\n",
            "Name: curb-weight, dtype: int64\n",
            "\n",
            "engine-type\n",
            "False    205\n",
            "Name: engine-type, dtype: int64\n",
            "\n",
            "num-of-cylinders\n",
            "False    205\n",
            "Name: num-of-cylinders, dtype: int64\n",
            "\n",
            "engine-size\n",
            "False    205\n",
            "Name: engine-size, dtype: int64\n",
            "\n",
            "fuel-system\n",
            "False    205\n",
            "Name: fuel-system, dtype: int64\n",
            "\n",
            "bore\n",
            "False    201\n",
            "True       4\n",
            "Name: bore, dtype: int64\n",
            "\n",
            "stroke\n",
            "False    201\n",
            "True       4\n",
            "Name: stroke, dtype: int64\n",
            "\n",
            "compression-ratio\n",
            "False    205\n",
            "Name: compression-ratio, dtype: int64\n",
            "\n",
            "horsepower\n",
            "False    203\n",
            "True       2\n",
            "Name: horsepower, dtype: int64\n",
            "\n",
            "peak-rpm\n",
            "False    203\n",
            "True       2\n",
            "Name: peak-rpm, dtype: int64\n",
            "\n",
            "city-mpg\n",
            "False    205\n",
            "Name: city-mpg, dtype: int64\n",
            "\n",
            "highway-mpg\n",
            "False    205\n",
            "Name: highway-mpg, dtype: int64\n",
            "\n",
            "price\n",
            "False    201\n",
            "True       4\n",
            "Name: price, dtype: int64\n",
            "\n"
          ]
        }
      ],
      "source": [
        "for column in missing_data.columns.values.tolist():\n",
        "    print(column)\n",
        "    print (missing_data[column].value_counts())\n",
        "    print(\"\")    "
      ]
    },
    {
      "cell_type": "markdown",
      "metadata": {
        "id": "zEiiqeDqlbaJ"
      },
      "source": [
        "Reemplazar los valores nulos por el promedio"
      ]
    },
    {
      "cell_type": "code",
      "execution_count": null,
      "metadata": {
        "id": "1UO8CNyalbaK",
        "outputId": "e27af4ed-d9b1-4aa0-922f-4e66e2ec8bbd"
      },
      "outputs": [
        {
          "name": "stdout",
          "output_type": "stream",
          "text": [
            "Average of normalized-losses: 122.0\n"
          ]
        }
      ],
      "source": [
        "avg_norm_loss = df[\"normalized-losses\"].astype(\"float\").mean(axis=0)\n",
        "print(\"Promedio de normalized-losses:\", avg_norm_loss)"
      ]
    },
    {
      "cell_type": "code",
      "execution_count": null,
      "metadata": {
        "id": "fzoFSr_mlbaM"
      },
      "outputs": [],
      "source": [
        "df[\"normalized-losses\"].replace(np.nan, avg_norm_loss, inplace=True)"
      ]
    },
    {
      "cell_type": "code",
      "execution_count": null,
      "metadata": {
        "id": "A0xZiIUOlbaN",
        "outputId": "37b12376-9f47-444b-a31f-101ffc1fe571"
      },
      "outputs": [
        {
          "name": "stdout",
          "output_type": "stream",
          "text": [
            "Promedio de bore: 3.3297512437810943\n"
          ]
        }
      ],
      "source": [
        "avg_bore=df['bore'].astype('float').mean(axis=0)\n",
        "print(\"Promedio de bore:\", avg_bore)"
      ]
    },
    {
      "cell_type": "code",
      "execution_count": null,
      "metadata": {
        "id": "2rkSF6CHlbaO"
      },
      "outputs": [],
      "source": [
        "df[\"bore\"].replace(np.nan, avg_bore, inplace=True)"
      ]
    },
    {
      "cell_type": "code",
      "execution_count": null,
      "metadata": {
        "id": "9nigMW9jlbaP",
        "outputId": "00d0240d-2562-4e17-a3c2-b777145cc085"
      },
      "outputs": [
        {
          "name": "stdout",
          "output_type": "stream",
          "text": [
            "Average horsepower: 103.39698492462311\n"
          ]
        }
      ],
      "source": [
        "avg_horsepower = df['horsepower'].astype('float').mean(axis=0)\n",
        "print(\"Average horsepower:\", avg_horsepower)\n",
        "df['horsepower'].replace(np.nan, avg_horsepower, inplace=True)"
      ]
    },
    {
      "cell_type": "markdown",
      "metadata": {
        "id": "aNj3LUtNlbaP"
      },
      "source": [
        "Reemplazar valores nulos por el valor mas comun en variables categoricas"
      ]
    },
    {
      "cell_type": "code",
      "execution_count": null,
      "metadata": {
        "id": "NBOGEFo6lbaQ",
        "outputId": "31f59ea4-5d08-44f0-b826-084a9d700a15"
      },
      "outputs": [
        {
          "name": "stdout",
          "output_type": "stream",
          "text": [
            "four\n"
          ]
        }
      ],
      "source": [
        "print(df['num-of-doors'].value_counts().idxmax())\n",
        "df[\"num-of-doors\"].replace(np.nan, \"four\", inplace=True)"
      ]
    },
    {
      "cell_type": "markdown",
      "metadata": {
        "id": "br4K8s28lbaQ"
      },
      "source": [
        "Remover registros con valores nulos "
      ]
    },
    {
      "cell_type": "code",
      "execution_count": null,
      "metadata": {
        "id": "OSVzBUhQlbaR"
      },
      "outputs": [],
      "source": [
        "df.dropna(subset=[\"price\"], axis=0, inplace=True)\n",
        "df.reset_index(drop=True, inplace=True)"
      ]
    },
    {
      "cell_type": "markdown",
      "metadata": {
        "id": "QHEacq8ZduEI"
      },
      "source": [
        "###Corregir tipos de dato"
      ]
    },
    {
      "cell_type": "markdown",
      "metadata": {
        "id": "gXyP22pWduEK"
      },
      "source": [
        "Mostrar tipos de dato de cada columna"
      ]
    },
    {
      "cell_type": "code",
      "execution_count": null,
      "metadata": {
        "id": "WvWmKloxduEN",
        "outputId": "e926b608-5ea7-4f9f-b792-67a9f4d78c50"
      },
      "outputs": [
        {
          "data": {
            "text/plain": [
              "symboling              int64\n",
              "normalized-losses     object\n",
              "make                  object\n",
              "fuel-type             object\n",
              "aspiration            object\n",
              "num-of-doors          object\n",
              "body-style            object\n",
              "drive-wheels          object\n",
              "engine-location       object\n",
              "wheel-base           float64\n",
              "length               float64\n",
              "width                float64\n",
              "height               float64\n",
              "curb-weight            int64\n",
              "engine-type           object\n",
              "num-of-cylinders      object\n",
              "engine-size            int64\n",
              "fuel-system           object\n",
              "bore                  object\n",
              "stroke                object\n",
              "compression-ratio    float64\n",
              "horsepower            object\n",
              "peak-rpm              object\n",
              "city-mpg               int64\n",
              "highway-mpg            int64\n",
              "price                 object\n",
              "dtype: object"
            ]
          },
          "execution_count": 18,
          "metadata": {},
          "output_type": "execute_result"
        }
      ],
      "source": [
        "df.dtypes"
      ]
    },
    {
      "cell_type": "markdown",
      "metadata": {
        "id": "DnEovBRGlbaT"
      },
      "source": [
        "Convertir tipos de dato al formato adecuado"
      ]
    },
    {
      "cell_type": "code",
      "execution_count": null,
      "metadata": {
        "id": "HBvo7oiMlbaT"
      },
      "outputs": [],
      "source": [
        "df[[\"bore\", \"stroke\"]] = df[[\"bore\", \"stroke\"]].astype(\"float\")\n",
        "df[[\"normalized-losses\"]] = df[[\"normalized-losses\"]].astype(\"int\")\n",
        "df[[\"price\"]] = df[[\"price\"]].astype(\"float\")\n",
        "df[[\"peak-rpm\"]] = df[[\"peak-rpm\"]].astype(\"float\")"
      ]
    },
    {
      "cell_type": "code",
      "execution_count": null,
      "metadata": {
        "id": "TE9hVqUJduEO",
        "outputId": "3fba1a3f-21fd-47ba-97e1-f517ddf25d64"
      },
      "outputs": [
        {
          "data": {
            "text/plain": [
              "symboling              int64\n",
              "normalized-losses      int32\n",
              "make                  object\n",
              "fuel-type             object\n",
              "aspiration            object\n",
              "num-of-doors          object\n",
              "body-style            object\n",
              "drive-wheels          object\n",
              "engine-location       object\n",
              "wheel-base           float64\n",
              "length               float64\n",
              "width                float64\n",
              "height               float64\n",
              "curb-weight            int64\n",
              "engine-type           object\n",
              "num-of-cylinders      object\n",
              "engine-size            int64\n",
              "fuel-system           object\n",
              "bore                 float64\n",
              "stroke               float64\n",
              "compression-ratio    float64\n",
              "horsepower            object\n",
              "peak-rpm             float64\n",
              "city-mpg               int64\n",
              "highway-mpg            int64\n",
              "price                float64\n",
              "dtype: object"
            ]
          },
          "execution_count": 20,
          "metadata": {},
          "output_type": "execute_result"
        }
      ],
      "source": [
        "df.dtypes"
      ]
    },
    {
      "cell_type": "markdown",
      "metadata": {
        "id": "-cgesMBRlbaU"
      },
      "source": [
        "###Estandarizar los datos"
      ]
    },
    {
      "cell_type": "markdown",
      "metadata": {
        "id": "IK6aggsblbaU"
      },
      "source": [
        "Transformar los datos con el fin de que tengan un formato en comun y las comparaciones entre variables tengan sentido"
      ]
    },
    {
      "cell_type": "markdown",
      "metadata": {
        "id": "3sFJQgxflbaV"
      },
      "source": [
        "Transformar mpg a L/100km"
      ]
    },
    {
      "cell_type": "code",
      "execution_count": null,
      "metadata": {
        "id": "6inT5FRwlbaV",
        "outputId": "73c972d1-256a-47fd-a625-a3f18d2607f5"
      },
      "outputs": [
        {
          "data": {
            "text/html": [
              "<div>\n",
              "<style scoped>\n",
              "    .dataframe tbody tr th:only-of-type {\n",
              "        vertical-align: middle;\n",
              "    }\n",
              "\n",
              "    .dataframe tbody tr th {\n",
              "        vertical-align: top;\n",
              "    }\n",
              "\n",
              "    .dataframe thead th {\n",
              "        text-align: right;\n",
              "    }\n",
              "</style>\n",
              "<table border=\"1\" class=\"dataframe\">\n",
              "  <thead>\n",
              "    <tr style=\"text-align: right;\">\n",
              "      <th></th>\n",
              "      <th>symboling</th>\n",
              "      <th>normalized-losses</th>\n",
              "      <th>make</th>\n",
              "      <th>fuel-type</th>\n",
              "      <th>aspiration</th>\n",
              "      <th>num-of-doors</th>\n",
              "      <th>body-style</th>\n",
              "      <th>drive-wheels</th>\n",
              "      <th>engine-location</th>\n",
              "      <th>wheel-base</th>\n",
              "      <th>...</th>\n",
              "      <th>fuel-system</th>\n",
              "      <th>bore</th>\n",
              "      <th>stroke</th>\n",
              "      <th>compression-ratio</th>\n",
              "      <th>horsepower</th>\n",
              "      <th>peak-rpm</th>\n",
              "      <th>city-mpg</th>\n",
              "      <th>highway-mpg</th>\n",
              "      <th>price</th>\n",
              "      <th>city-L/100km</th>\n",
              "    </tr>\n",
              "  </thead>\n",
              "  <tbody>\n",
              "    <tr>\n",
              "      <th>0</th>\n",
              "      <td>3</td>\n",
              "      <td>122</td>\n",
              "      <td>alfa-romero</td>\n",
              "      <td>gas</td>\n",
              "      <td>std</td>\n",
              "      <td>two</td>\n",
              "      <td>convertible</td>\n",
              "      <td>rwd</td>\n",
              "      <td>front</td>\n",
              "      <td>88.6</td>\n",
              "      <td>...</td>\n",
              "      <td>mpfi</td>\n",
              "      <td>3.47</td>\n",
              "      <td>2.68</td>\n",
              "      <td>9.0</td>\n",
              "      <td>111</td>\n",
              "      <td>5000.0</td>\n",
              "      <td>21</td>\n",
              "      <td>27</td>\n",
              "      <td>13495.0</td>\n",
              "      <td>11.190476</td>\n",
              "    </tr>\n",
              "    <tr>\n",
              "      <th>1</th>\n",
              "      <td>3</td>\n",
              "      <td>122</td>\n",
              "      <td>alfa-romero</td>\n",
              "      <td>gas</td>\n",
              "      <td>std</td>\n",
              "      <td>two</td>\n",
              "      <td>convertible</td>\n",
              "      <td>rwd</td>\n",
              "      <td>front</td>\n",
              "      <td>88.6</td>\n",
              "      <td>...</td>\n",
              "      <td>mpfi</td>\n",
              "      <td>3.47</td>\n",
              "      <td>2.68</td>\n",
              "      <td>9.0</td>\n",
              "      <td>111</td>\n",
              "      <td>5000.0</td>\n",
              "      <td>21</td>\n",
              "      <td>27</td>\n",
              "      <td>16500.0</td>\n",
              "      <td>11.190476</td>\n",
              "    </tr>\n",
              "    <tr>\n",
              "      <th>2</th>\n",
              "      <td>1</td>\n",
              "      <td>122</td>\n",
              "      <td>alfa-romero</td>\n",
              "      <td>gas</td>\n",
              "      <td>std</td>\n",
              "      <td>two</td>\n",
              "      <td>hatchback</td>\n",
              "      <td>rwd</td>\n",
              "      <td>front</td>\n",
              "      <td>94.5</td>\n",
              "      <td>...</td>\n",
              "      <td>mpfi</td>\n",
              "      <td>2.68</td>\n",
              "      <td>3.47</td>\n",
              "      <td>9.0</td>\n",
              "      <td>154</td>\n",
              "      <td>5000.0</td>\n",
              "      <td>19</td>\n",
              "      <td>26</td>\n",
              "      <td>16500.0</td>\n",
              "      <td>12.368421</td>\n",
              "    </tr>\n",
              "    <tr>\n",
              "      <th>3</th>\n",
              "      <td>2</td>\n",
              "      <td>164</td>\n",
              "      <td>audi</td>\n",
              "      <td>gas</td>\n",
              "      <td>std</td>\n",
              "      <td>four</td>\n",
              "      <td>sedan</td>\n",
              "      <td>fwd</td>\n",
              "      <td>front</td>\n",
              "      <td>99.8</td>\n",
              "      <td>...</td>\n",
              "      <td>mpfi</td>\n",
              "      <td>3.19</td>\n",
              "      <td>3.40</td>\n",
              "      <td>10.0</td>\n",
              "      <td>102</td>\n",
              "      <td>5500.0</td>\n",
              "      <td>24</td>\n",
              "      <td>30</td>\n",
              "      <td>13950.0</td>\n",
              "      <td>9.791667</td>\n",
              "    </tr>\n",
              "    <tr>\n",
              "      <th>4</th>\n",
              "      <td>2</td>\n",
              "      <td>164</td>\n",
              "      <td>audi</td>\n",
              "      <td>gas</td>\n",
              "      <td>std</td>\n",
              "      <td>four</td>\n",
              "      <td>sedan</td>\n",
              "      <td>4wd</td>\n",
              "      <td>front</td>\n",
              "      <td>99.4</td>\n",
              "      <td>...</td>\n",
              "      <td>mpfi</td>\n",
              "      <td>3.19</td>\n",
              "      <td>3.40</td>\n",
              "      <td>8.0</td>\n",
              "      <td>115</td>\n",
              "      <td>5500.0</td>\n",
              "      <td>18</td>\n",
              "      <td>22</td>\n",
              "      <td>17450.0</td>\n",
              "      <td>13.055556</td>\n",
              "    </tr>\n",
              "  </tbody>\n",
              "</table>\n",
              "<p>5 rows × 27 columns</p>\n",
              "</div>"
            ],
            "text/plain": [
              "   symboling  normalized-losses         make fuel-type aspiration  \\\n",
              "0          3                122  alfa-romero       gas        std   \n",
              "1          3                122  alfa-romero       gas        std   \n",
              "2          1                122  alfa-romero       gas        std   \n",
              "3          2                164         audi       gas        std   \n",
              "4          2                164         audi       gas        std   \n",
              "\n",
              "  num-of-doors   body-style drive-wheels engine-location  wheel-base  ...  \\\n",
              "0          two  convertible          rwd           front        88.6  ...   \n",
              "1          two  convertible          rwd           front        88.6  ...   \n",
              "2          two    hatchback          rwd           front        94.5  ...   \n",
              "3         four        sedan          fwd           front        99.8  ...   \n",
              "4         four        sedan          4wd           front        99.4  ...   \n",
              "\n",
              "   fuel-system  bore  stroke  compression-ratio horsepower peak-rpm  city-mpg  \\\n",
              "0         mpfi  3.47    2.68                9.0        111   5000.0        21   \n",
              "1         mpfi  3.47    2.68                9.0        111   5000.0        21   \n",
              "2         mpfi  2.68    3.47                9.0        154   5000.0        19   \n",
              "3         mpfi  3.19    3.40               10.0        102   5500.0        24   \n",
              "4         mpfi  3.19    3.40                8.0        115   5500.0        18   \n",
              "\n",
              "  highway-mpg    price  city-L/100km  \n",
              "0          27  13495.0     11.190476  \n",
              "1          27  16500.0     11.190476  \n",
              "2          26  16500.0     12.368421  \n",
              "3          30  13950.0      9.791667  \n",
              "4          22  17450.0     13.055556  \n",
              "\n",
              "[5 rows x 27 columns]"
            ]
          },
          "execution_count": 21,
          "metadata": {},
          "output_type": "execute_result"
        }
      ],
      "source": [
        "df['city-L/100km'] = 235/df[\"city-mpg\"]\n",
        "df.head()"
      ]
    },
    {
      "cell_type": "markdown",
      "metadata": {
        "id": "Ry8dv1GUlbaW"
      },
      "source": [
        "###Normalizacion de datos"
      ]
    },
    {
      "cell_type": "markdown",
      "metadata": {
        "id": "3iU9xoZ4lbaX"
      },
      "source": [
        "LLevar los valores de los datos a un mismo rango o una misma escala"
      ]
    },
    {
      "cell_type": "markdown",
      "metadata": {
        "id": "eD55g7edlbaX"
      },
      "source": [
        "Escalar los datos con el fin de llevarlos a una escala entre 0 y 1:"
      ]
    },
    {
      "cell_type": "code",
      "execution_count": null,
      "metadata": {
        "id": "blzEFi2ClbaY"
      },
      "outputs": [],
      "source": [
        "df['length'] = df['length']/df['length'].max()\n",
        "df['width'] = df['width']/df['width'].max()"
      ]
    },
    {
      "cell_type": "markdown",
      "metadata": {
        "id": "ueKlvDy1lbaY"
      },
      "source": [
        "###Binning"
      ]
    },
    {
      "cell_type": "markdown",
      "metadata": {
        "id": "MwvAKeIvlbaZ"
      },
      "source": [
        "Transformar variables continuas numerias a variables discretas categoricas en barras para analisis agrupado"
      ]
    },
    {
      "cell_type": "code",
      "execution_count": null,
      "metadata": {
        "id": "31uXV4kvlbaZ"
      },
      "outputs": [],
      "source": [
        "df[\"horsepower\"]=df[\"horsepower\"].astype(int, copy=True)"
      ]
    },
    {
      "cell_type": "markdown",
      "metadata": {
        "id": "Xb8yZvXClbaa"
      },
      "source": [
        "1. Crear un histograma para visualizar la distribucion de los datos"
      ]
    },
    {
      "cell_type": "code",
      "execution_count": null,
      "metadata": {
        "id": "b5hIDp6Ylbab",
        "outputId": "2d5e0f4e-8d4b-41e6-9851-f2947c7004db"
      },
      "outputs": [
        {
          "data": {
            "text/plain": [
              "Text(0.5, 1.0, 'horsepower bins')"
            ]
          },
          "execution_count": 27,
          "metadata": {},
          "output_type": "execute_result"
        },
        {
          "data": {
            "image/png": "[encoded data removed]",
            "text/plain": [
              "<Figure size 432x288 with 1 Axes>"
            ]
          },
          "metadata": {
            "needs_background": "light"
          },
          "output_type": "display_data"
        }
      ],
      "source": [
        "%matplotlib inline\n",
        "import matplotlib as plt\n",
        "from matplotlib import pyplot\n",
        "plt.pyplot.hist(df[\"horsepower\"])\n",
        "\n",
        "plt.pyplot.xlabel(\"horsepower\")\n",
        "plt.pyplot.ylabel(\"count\")\n",
        "plt.pyplot.title(\"horsepower bins\")"
      ]
    },
    {
      "cell_type": "markdown",
      "metadata": {
        "id": "QDsr_k6Vlbac"
      },
      "source": [
        "Agrupar los datos en 3 grupos"
      ]
    },
    {
      "cell_type": "code",
      "execution_count": null,
      "metadata": {
        "id": "ibEMqV0dlbac",
        "outputId": "5d6cea58-342f-451c-e7e4-4d5831a78938"
      },
      "outputs": [
        {
          "data": {
            "text/plain": [
              "array([ 48.        , 119.33333333, 190.66666667, 262.        ])"
            ]
          },
          "execution_count": 28,
          "metadata": {},
          "output_type": "execute_result"
        }
      ],
      "source": [
        "bins = np.linspace(min(df[\"horsepower\"]), max(df[\"horsepower\"]), 4)\n",
        "bins"
      ]
    },
    {
      "cell_type": "code",
      "execution_count": null,
      "metadata": {
        "id": "B-Ae3-SRlbad"
      },
      "outputs": [],
      "source": [
        "group_names = ['Low', 'Medium', 'High']"
      ]
    },
    {
      "cell_type": "code",
      "execution_count": null,
      "metadata": {
        "id": "33TLOAJ2lbae",
        "outputId": "97c07b86-ec31-4bab-b66c-c6b9999f625a"
      },
      "outputs": [
        {
          "data": {
            "text/html": [
              "<div>\n",
              "<style scoped>\n",
              "    .dataframe tbody tr th:only-of-type {\n",
              "        vertical-align: middle;\n",
              "    }\n",
              "\n",
              "    .dataframe tbody tr th {\n",
              "        vertical-align: top;\n",
              "    }\n",
              "\n",
              "    .dataframe thead th {\n",
              "        text-align: right;\n",
              "    }\n",
              "</style>\n",
              "<table border=\"1\" class=\"dataframe\">\n",
              "  <thead>\n",
              "    <tr style=\"text-align: right;\">\n",
              "      <th></th>\n",
              "      <th>horsepower</th>\n",
              "      <th>horsepower-binned</th>\n",
              "    </tr>\n",
              "  </thead>\n",
              "  <tbody>\n",
              "    <tr>\n",
              "      <th>0</th>\n",
              "      <td>111</td>\n",
              "      <td>Low</td>\n",
              "    </tr>\n",
              "    <tr>\n",
              "      <th>1</th>\n",
              "      <td>111</td>\n",
              "      <td>Low</td>\n",
              "    </tr>\n",
              "    <tr>\n",
              "      <th>2</th>\n",
              "      <td>154</td>\n",
              "      <td>Medium</td>\n",
              "    </tr>\n",
              "    <tr>\n",
              "      <th>3</th>\n",
              "      <td>102</td>\n",
              "      <td>Low</td>\n",
              "    </tr>\n",
              "    <tr>\n",
              "      <th>4</th>\n",
              "      <td>115</td>\n",
              "      <td>Low</td>\n",
              "    </tr>\n",
              "    <tr>\n",
              "      <th>5</th>\n",
              "      <td>110</td>\n",
              "      <td>Low</td>\n",
              "    </tr>\n",
              "    <tr>\n",
              "      <th>6</th>\n",
              "      <td>110</td>\n",
              "      <td>Low</td>\n",
              "    </tr>\n",
              "    <tr>\n",
              "      <th>7</th>\n",
              "      <td>110</td>\n",
              "      <td>Low</td>\n",
              "    </tr>\n",
              "    <tr>\n",
              "      <th>8</th>\n",
              "      <td>140</td>\n",
              "      <td>Medium</td>\n",
              "    </tr>\n",
              "    <tr>\n",
              "      <th>9</th>\n",
              "      <td>101</td>\n",
              "      <td>Low</td>\n",
              "    </tr>\n",
              "    <tr>\n",
              "      <th>10</th>\n",
              "      <td>101</td>\n",
              "      <td>Low</td>\n",
              "    </tr>\n",
              "    <tr>\n",
              "      <th>11</th>\n",
              "      <td>121</td>\n",
              "      <td>Medium</td>\n",
              "    </tr>\n",
              "    <tr>\n",
              "      <th>12</th>\n",
              "      <td>121</td>\n",
              "      <td>Medium</td>\n",
              "    </tr>\n",
              "    <tr>\n",
              "      <th>13</th>\n",
              "      <td>121</td>\n",
              "      <td>Medium</td>\n",
              "    </tr>\n",
              "    <tr>\n",
              "      <th>14</th>\n",
              "      <td>182</td>\n",
              "      <td>Medium</td>\n",
              "    </tr>\n",
              "    <tr>\n",
              "      <th>15</th>\n",
              "      <td>182</td>\n",
              "      <td>Medium</td>\n",
              "    </tr>\n",
              "    <tr>\n",
              "      <th>16</th>\n",
              "      <td>182</td>\n",
              "      <td>Medium</td>\n",
              "    </tr>\n",
              "    <tr>\n",
              "      <th>17</th>\n",
              "      <td>48</td>\n",
              "      <td>Low</td>\n",
              "    </tr>\n",
              "    <tr>\n",
              "      <th>18</th>\n",
              "      <td>70</td>\n",
              "      <td>Low</td>\n",
              "    </tr>\n",
              "    <tr>\n",
              "      <th>19</th>\n",
              "      <td>70</td>\n",
              "      <td>Low</td>\n",
              "    </tr>\n",
              "  </tbody>\n",
              "</table>\n",
              "</div>"
            ],
            "text/plain": [
              "    horsepower horsepower-binned\n",
              "0          111               Low\n",
              "1          111               Low\n",
              "2          154            Medium\n",
              "3          102               Low\n",
              "4          115               Low\n",
              "5          110               Low\n",
              "6          110               Low\n",
              "7          110               Low\n",
              "8          140            Medium\n",
              "9          101               Low\n",
              "10         101               Low\n",
              "11         121            Medium\n",
              "12         121            Medium\n",
              "13         121            Medium\n",
              "14         182            Medium\n",
              "15         182            Medium\n",
              "16         182            Medium\n",
              "17          48               Low\n",
              "18          70               Low\n",
              "19          70               Low"
            ]
          },
          "execution_count": 30,
          "metadata": {},
          "output_type": "execute_result"
        }
      ],
      "source": [
        "df['horsepower-binned'] = pd.cut(df['horsepower'], bins, labels=group_names, include_lowest=True )\n",
        "df[['horsepower','horsepower-binned']].head(20)"
      ]
    },
    {
      "cell_type": "code",
      "execution_count": null,
      "metadata": {
        "id": "VZcipc3slbaf",
        "outputId": "c9679d37-e3c6-4e90-fc43-3bf1dec38d52"
      },
      "outputs": [
        {
          "data": {
            "text/plain": [
              "Low       153\n",
              "Medium     43\n",
              "High        5\n",
              "Name: horsepower-binned, dtype: int64"
            ]
          },
          "execution_count": 31,
          "metadata": {},
          "output_type": "execute_result"
        }
      ],
      "source": [
        "df[\"horsepower-binned\"].value_counts()"
      ]
    },
    {
      "cell_type": "code",
      "execution_count": null,
      "metadata": {
        "id": "uxuTs8n8lbah",
        "outputId": "08215e7b-cee1-455f-a1eb-10da28045c02"
      },
      "outputs": [
        {
          "data": {
            "text/plain": [
              "Text(0.5, 1.0, 'horsepower bins')"
            ]
          },
          "execution_count": 32,
          "metadata": {},
          "output_type": "execute_result"
        },
        {
          "data": {
            "image/png": "[encoded data removed]",
            "text/plain": [
              "<Figure size 432x288 with 1 Axes>"
            ]
          },
          "metadata": {
            "needs_background": "light"
          },
          "output_type": "display_data"
        }
      ],
      "source": [
        "pyplot.bar(group_names, df[\"horsepower-binned\"].value_counts())\n",
        "\n",
        "plt.pyplot.xlabel(\"horsepower\")\n",
        "plt.pyplot.ylabel(\"count\")\n",
        "plt.pyplot.title(\"horsepower bins\")"
      ]
    },
    {
      "cell_type": "markdown",
      "metadata": {
        "id": "wHquD_6Albaj"
      },
      "source": [
        "###Evidencia Graded Review Questions"
      ]
    },
    {
      "cell_type": "markdown",
      "metadata": {
        "id": "gk9fQf_Ylbak"
      },
      "source": [
        "![imagen.png](data:image/png;base64,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)"
      ]
    },
    {
      "cell_type": "code",
      "source": [],
      "metadata": {
        "id": "9jMqC6HJllGs"
      },
      "execution_count": null,
      "outputs": []
    }
  ],
  "metadata": {
    "colab": {
      "provenance": [],
      "include_colab_link": true
    },
    "kernelspec": {
      "display_name": "Python 3.10.2 64-bit",
      "language": "python",
      "name": "python3"
    },
    "language_info": {
      "codemirror_mode": {
        "name": "ipython",
        "version": 3
      },
      "file_extension": ".py",
      "mimetype": "text/x-python",
      "name": "python",
      "nbconvert_exporter": "python",
      "pygments_lexer": "ipython3",
      "version": "3.10.2"
    },
    "orig_nbformat": 4,
    "vscode": {
      "interpreter": {
        "hash": "4dd15ac4cfe006e7770f1748318df5853f91b1709ffe23ecf86429a8a977c856"
      }
    }
  },
  "nbformat": 4,
  "nbformat_minor": 0
}