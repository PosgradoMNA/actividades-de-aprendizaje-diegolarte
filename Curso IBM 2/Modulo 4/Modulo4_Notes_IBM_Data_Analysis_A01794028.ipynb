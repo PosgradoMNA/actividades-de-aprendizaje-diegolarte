{
  "cells": [
    {
      "cell_type": "markdown",
      "metadata": {
        "id": "view-in-github",
        "colab_type": "text"
      },
      "source": [
        "<a href=\"https://colab.research.google.com/github/PosgradoMNA/actividades-de-aprendizaje-diegolarte/blob/main/Curso%20IBM%202/Modulo%204/Modulo4_Notes_IBM_Data_Analysis_A01794028.ipynb\" target=\"_parent\"><img src=\"https://colab.research.google.com/assets/colab-badge.svg\" alt=\"Open In Colab\"/></a>"
      ]
    },
    {
      "cell_type": "markdown",
      "metadata": {
        "id": "7lsU4TK9noPZ"
      },
      "source": [
        "##Module 4 - Model Development"
      ]
    },
    {
      "cell_type": "markdown",
      "metadata": {
        "id": "la-PARa8r0Cm"
      },
      "source": [
        "###Desarrollo del modelo"
      ]
    },
    {
      "cell_type": "markdown",
      "metadata": {
        "id": "2jakenASduEG"
      },
      "source": [
        "Un modelo puede ser visto como una ecuacion matematica usada para predecir un valor en base a uno o mas valores dados, relacionando una o mas variables independientes a variables dependientes\n",
        "1. Regresión lineal simple y multiple\n",
        "2. Evaluacion del modelo usando visualizacion\n",
        "3. Regresion polinomial y pipelines\n",
        "4. R-squared y MMSE para Evaluacion\n",
        "5. Prediccion y toma de desiciones"
      ]
    },
    {
      "cell_type": "markdown",
      "metadata": {
        "id": "28e2Maval5Nc"
      },
      "source": [
        "Pregunta de negocio:"
      ]
    },
    {
      "cell_type": "markdown",
      "metadata": {
        "id": "cHE9BTiPl5Nd"
      },
      "source": [
        "¿ Como se puede de terminar el valor justo de un carro usado?"
      ]
    },
    {
      "cell_type": "markdown",
      "metadata": {
        "id": "iDQnU-p0ZTya"
      },
      "source": [
        "### Regresión lineal"
      ]
    },
    {
      "cell_type": "markdown",
      "metadata": {
        "id": "isnInuXpZTyb"
      },
      "source": [
        "* Regresion lineal simple: Hace referencia a una variable independiente para hacer una predicción\n",
        "* Regresion lineal multiple: Hace referencia a multiples variables independientes para hacer una predicción\n"
      ]
    },
    {
      "cell_type": "markdown",
      "metadata": {
        "id": "9V1Jqyt4ZTyc"
      },
      "source": [
        "Entrenar un modelo estimador de regresion lineal simple"
      ]
    },
    {
      "cell_type": "code",
      "execution_count": null,
      "metadata": {
        "id": "0uAkgq5wlbZ4"
      },
      "outputs": [],
      "source": [
        "import pandas as pd\n",
        "from sklearn.linear_model import LinearRegression"
      ]
    },
    {
      "cell_type": "code",
      "execution_count": null,
      "metadata": {
        "id": "F4vB0bXwZTyf"
      },
      "outputs": [],
      "source": [
        "#Crear un objeto estimador de regresion lineal\n",
        "lm = LinearRegression()"
      ]
    },
    {
      "cell_type": "code",
      "execution_count": null,
      "metadata": {
        "id": "0NU41Dp5lbZ8"
      },
      "outputs": [],
      "source": [
        "filename = \"https://cf-courses-data.s3.us.cloud-object-storage.appdomain.cloud/IBMDeveloperSkillsNetwork-DA0101EN-SkillsNetwork/labs/Data%20files/automobileEDA.csv\""
      ]
    },
    {
      "cell_type": "code",
      "execution_count": null,
      "metadata": {
        "id": "CJ7RMObzl5Ng"
      },
      "outputs": [],
      "source": [
        "df = pd.read_csv(filename)"
      ]
    },
    {
      "cell_type": "markdown",
      "metadata": {
        "id": "1qt6nJWql5Nh"
      },
      "source": [
        "Definir la variable predictor(X) y la variable objetivo(Y)"
      ]
    },
    {
      "cell_type": "code",
      "execution_count": null,
      "metadata": {
        "id": "ERvHpy6XZTyi"
      },
      "outputs": [],
      "source": [
        "X = df[[\"highway-mpg\"]]\n",
        "Y = df['price']"
      ]
    },
    {
      "cell_type": "markdown",
      "metadata": {
        "id": "X4NaSskSZTyi"
      },
      "source": [
        "Entrenar el modelo lm con X y Y"
      ]
    },
    {
      "cell_type": "code",
      "execution_count": null,
      "metadata": {
        "id": "suQbkddFZTyj",
        "outputId": "c48c5715-573d-4b3c-cb09-681412e86621"
      },
      "outputs": [
        {
          "data": {
            "text/html": [
              "<style>#sk-container-id-1 {color: black;background-color: white;}#sk-container-id-1 pre{padding: 0;}#sk-container-id-1 div.sk-toggleable {background-color: white;}#sk-container-id-1 label.sk-toggleable__label {cursor: pointer;display: block;width: 100%;margin-bottom: 0;padding: 0.3em;box-sizing: border-box;text-align: center;}#sk-container-id-1 label.sk-toggleable__label-arrow:before {content: \"▸\";float: left;margin-right: 0.25em;color: #696969;}#sk-container-id-1 label.sk-toggleable__label-arrow:hover:before {color: black;}#sk-container-id-1 div.sk-estimator:hover label.sk-toggleable__label-arrow:before {color: black;}#sk-container-id-1 div.sk-toggleable__content {max-height: 0;max-width: 0;overflow: hidden;text-align: left;background-color: #f0f8ff;}#sk-container-id-1 div.sk-toggleable__content pre {margin: 0.2em;color: black;border-radius: 0.25em;background-color: #f0f8ff;}#sk-container-id-1 input.sk-toggleable__control:checked~div.sk-toggleable__content {max-height: 200px;max-width: 100%;overflow: auto;}#sk-container-id-1 input.sk-toggleable__control:checked~label.sk-toggleable__label-arrow:before {content: \"▾\";}#sk-container-id-1 div.sk-estimator input.sk-toggleable__control:checked~label.sk-toggleable__label {background-color: #d4ebff;}#sk-container-id-1 div.sk-label input.sk-toggleable__control:checked~label.sk-toggleable__label {background-color: #d4ebff;}#sk-container-id-1 input.sk-hidden--visually {border: 0;clip: rect(1px 1px 1px 1px);clip: rect(1px, 1px, 1px, 1px);height: 1px;margin: -1px;overflow: hidden;padding: 0;position: absolute;width: 1px;}#sk-container-id-1 div.sk-estimator {font-family: monospace;background-color: #f0f8ff;border: 1px dotted black;border-radius: 0.25em;box-sizing: border-box;margin-bottom: 0.5em;}#sk-container-id-1 div.sk-estimator:hover {background-color: #d4ebff;}#sk-container-id-1 div.sk-parallel-item::after {content: \"\";width: 100%;border-bottom: 1px solid gray;flex-grow: 1;}#sk-container-id-1 div.sk-label:hover label.sk-toggleable__label {background-color: #d4ebff;}#sk-container-id-1 div.sk-serial::before {content: \"\";position: absolute;border-left: 1px solid gray;box-sizing: border-box;top: 0;bottom: 0;left: 50%;z-index: 0;}#sk-container-id-1 div.sk-serial {display: flex;flex-direction: column;align-items: center;background-color: white;padding-right: 0.2em;padding-left: 0.2em;position: relative;}#sk-container-id-1 div.sk-item {position: relative;z-index: 1;}#sk-container-id-1 div.sk-parallel {display: flex;align-items: stretch;justify-content: center;background-color: white;position: relative;}#sk-container-id-1 div.sk-item::before, #sk-container-id-1 div.sk-parallel-item::before {content: \"\";position: absolute;border-left: 1px solid gray;box-sizing: border-box;top: 0;bottom: 0;left: 50%;z-index: -1;}#sk-container-id-1 div.sk-parallel-item {display: flex;flex-direction: column;z-index: 1;position: relative;background-color: white;}#sk-container-id-1 div.sk-parallel-item:first-child::after {align-self: flex-end;width: 50%;}#sk-container-id-1 div.sk-parallel-item:last-child::after {align-self: flex-start;width: 50%;}#sk-container-id-1 div.sk-parallel-item:only-child::after {width: 0;}#sk-container-id-1 div.sk-dashed-wrapped {border: 1px dashed gray;margin: 0 0.4em 0.5em 0.4em;box-sizing: border-box;padding-bottom: 0.4em;background-color: white;}#sk-container-id-1 div.sk-label label {font-family: monospace;font-weight: bold;display: inline-block;line-height: 1.2em;}#sk-container-id-1 div.sk-label-container {text-align: center;}#sk-container-id-1 div.sk-container {/* jupyter's `normalize.less` sets `[hidden] { display: none; }` but bootstrap.min.css set `[hidden] { display: none !important; }` so we also need the `!important` here to be able to override the default hidden behavior on the sphinx rendered scikit-learn.org. See: https://github.com/scikit-learn/scikit-learn/issues/21755 */display: inline-block !important;position: relative;}#sk-container-id-1 div.sk-text-repr-fallback {display: none;}</style><div id=\"sk-container-id-1\" class=\"sk-top-container\"><div class=\"sk-text-repr-fallback\"><pre>LinearRegression()</pre><b>In a Jupyter environment, please rerun this cell to show the HTML representation or trust the notebook. <br />On GitHub, the HTML representation is unable to render, please try loading this page with nbviewer.org.</b></div><div class=\"sk-container\" hidden><div class=\"sk-item\"><div class=\"sk-estimator sk-toggleable\"><input class=\"sk-toggleable__control sk-hidden--visually\" id=\"sk-estimator-id-1\" type=\"checkbox\" checked><label for=\"sk-estimator-id-1\" class=\"sk-toggleable__label sk-toggleable__label-arrow\">LinearRegression</label><div class=\"sk-toggleable__content\"><pre>LinearRegression()</pre></div></div></div></div></div>"
            ],
            "text/plain": [
              "LinearRegression()"
            ]
          },
          "execution_count": 11,
          "metadata": {},
          "output_type": "execute_result"
        }
      ],
      "source": [
        "lm.fit(X , Y)"
      ]
    },
    {
      "cell_type": "markdown",
      "metadata": {
        "id": "qXHyQiH8ZTyk"
      },
      "source": [
        "Obtener una prediccion"
      ]
    },
    {
      "cell_type": "code",
      "execution_count": null,
      "metadata": {
        "id": "tuNy6HFfl5Nj"
      },
      "outputs": [],
      "source": [
        "yhat = lm.predict(X)"
      ]
    },
    {
      "cell_type": "code",
      "execution_count": null,
      "metadata": {
        "id": "LXlBj4zxZTyl",
        "outputId": "eae2781a-ea3e-41fd-963b-f8c043a80339"
      },
      "outputs": [
        {
          "data": {
            "text/plain": [
              "array([16236.50464347, 16236.50464347, 17058.23802179, 13771.3045085 ,\n",
              "       20345.17153508, 17879.97140011, 17879.97140011, 17879.97140011,\n",
              "       21988.63829172, 14593.03788682, 14593.03788682, 15414.77126514,\n",
              "       15414.77126514, 17879.97140011, 20345.17153508, 20345.17153508,\n",
              "       21988.63829172, -5128.5631929 ,  3088.77059031,  3088.77059031,\n",
              "        4732.23734696,  7197.43748192, 13771.3045085 ,  7197.43748192,\n",
              "        7197.43748192,  7197.43748192, 13771.3045085 , 13771.3045085 ,\n",
              "       18701.70477843, -5950.29657123,  7197.43748192,  3910.50396864,\n",
              "       10484.37099521, 10484.37099521, 10484.37099521, 10484.37099521,\n",
              "       11306.10437353, 11306.10437353, 11306.10437353, 11306.10437353,\n",
              "       15414.77126514, 12949.57113018, 14593.03788682, 14593.03788682,\n",
              "       22810.37167004, 22810.37167004, 24453.83842668, 12949.57113018,\n",
              "        7197.43748192,  7197.43748192,  7197.43748192,  7197.43748192,\n",
              "       19523.43815675, 19523.43815675, 19523.43815675, 19523.43815675,\n",
              "       12127.83775186, 12127.83775186, 12127.83775186, 12127.83775186,\n",
              "        3910.50396864, 12127.83775186, 16236.50464347,  6375.7041036 ,\n",
              "       17879.97140011, 17879.97140011, 17879.97140011, 17879.97140011,\n",
              "       23632.10504836, 23632.10504836, 25275.57180501, 25275.57180501,\n",
              "       18701.70477843,  4732.23734696,  7197.43748192,  7197.43748192,\n",
              "       13771.3045085 , 13771.3045085 , 12127.83775186, 18701.70477843,\n",
              "       18701.70477843, 18701.70477843, 12127.83775186, 12127.83775186,\n",
              "       13771.3045085 , 13771.3045085 ,  8019.17086025, -2663.36305794,\n",
              "        8019.17086025,  8019.17086025,  8019.17086025,  8019.17086025,\n",
              "        8019.17086025,  8019.17086025,  8019.17086025,  8019.17086025,\n",
              "       10484.37099521, 10484.37099521, 20345.17153508, 20345.17153508,\n",
              "       17879.97140011, 17879.97140011, 19523.43815675, 17879.97140011,\n",
              "       18701.70477843, 11306.10437353, 18701.70477843, 17879.97140011,\n",
              "       18701.70477843, 11306.10437353, 18701.70477843, 17879.97140011,\n",
              "       18701.70477843, 11306.10437353, 18701.70477843,  4732.23734696,\n",
              "       13771.3045085 ,  7197.43748192,  7197.43748192,  7197.43748192,\n",
              "       13771.3045085 , 18701.70477843, 16236.50464347, 17879.97140011,\n",
              "       17879.97140011, 17879.97140011, 12949.57113018, 12949.57113018,\n",
              "       15414.77126514, 15414.77126514, 15414.77126514, 15414.77126514,\n",
              "       17058.23802179, 17058.23802179,  8840.90423857, 12949.57113018,\n",
              "       12949.57113018,  8019.17086025, 11306.10437353, 12127.83775186,\n",
              "       17879.97140011, 14593.03788682, 12127.83775186, 12949.57113018,\n",
              "       14593.03788682, 19523.43815675,  6375.7041036 ,  7197.43748192,\n",
              "        7197.43748192,  8019.17086025, 12127.83775186, 12127.83775186,\n",
              "        8019.17086025,  8019.17086025,  8840.90423857,  -198.16292297,\n",
              "        -198.16292297, 10484.37099521, 10484.37099521, 10484.37099521,\n",
              "       10484.37099521, 14593.03788682, 14593.03788682, 13771.3045085 ,\n",
              "       13771.3045085 , 13771.3045085 , 13771.3045085 , 13771.3045085 ,\n",
              "       13771.3045085 , 10484.37099521, 11306.10437353, 12127.83775186,\n",
              "       12127.83775186, 12127.83775186, 18701.70477843, 18701.70477843,\n",
              "       18701.70477843, 18701.70477843,   623.57045535, 10484.37099521,\n",
              "         623.57045535, 10484.37099521, 10484.37099521,  3910.50396864,\n",
              "       12127.83775186, 14593.03788682, 14593.03788682, 18701.70477843,\n",
              "        7197.43748192, 12949.57113018, 15414.77126514, 15414.77126514,\n",
              "       15414.77126514, 15414.77126514, 20345.17153508, 20345.17153508,\n",
              "       15414.77126514, 17879.97140011, 19523.43815675, 16236.50464347,\n",
              "       17879.97140011])"
            ]
          },
          "execution_count": 13,
          "metadata": {},
          "output_type": "execute_result"
        }
      ],
      "source": [
        "#La salida es un arreglo con la prediccion de la variable Y\n",
        "yhat"
      ]
    },
    {
      "cell_type": "markdown",
      "metadata": {
        "id": "BFNYXSB6l5Nm"
      },
      "source": [
        "Visualizar la intersección y la pendiente"
      ]
    },
    {
      "cell_type": "code",
      "execution_count": null,
      "metadata": {
        "id": "eAAvi-u9l5No",
        "outputId": "749d067d-1eb8-44f8-c066-f67651037889"
      },
      "outputs": [
        {
          "name": "stdout",
          "output_type": "stream",
          "text": [
            "38423.3058581574\n",
            "[-821.73337832]\n"
          ]
        }
      ],
      "source": [
        "print(lm.intercept_)\n",
        "print(lm.coef_)\n"
      ]
    },
    {
      "cell_type": "markdown",
      "metadata": {
        "id": "E4-rBH3JZTym"
      },
      "source": [
        "#La relacion entre Price y Highway MPG esta dada por la siguiente ecuacion\n",
        "\n",
        "Price = 38423.31 - 821.73 * highway-mpg"
      ]
    },
    {
      "cell_type": "markdown",
      "metadata": {
        "id": "Vx4xitzEZTyn"
      },
      "source": [
        "Entrenar un modelo estimador de regresion lineal Multiple:\n",
        "\n",
        "* Una variable objetivo (Y) continua \n",
        "* Dos o mas predictores (X)"
      ]
    },
    {
      "cell_type": "markdown",
      "metadata": {
        "id": "jLDNHFiNZTyo"
      },
      "source": [
        "Extraer las 4 variables predictoras y almacenarlas en una variable Z"
      ]
    },
    {
      "cell_type": "code",
      "execution_count": null,
      "metadata": {
        "id": "xA7jrnCWl5Nq"
      },
      "outputs": [],
      "source": [
        "Z = df[[\"horsepower\",\"curb-weight\",\"engine-size\",\"highway-mpg\"]]"
      ]
    },
    {
      "cell_type": "markdown",
      "metadata": {
        "id": "Uye2zYecZTyp"
      },
      "source": [
        "Entrenar el modelo con Z y Y"
      ]
    },
    {
      "cell_type": "code",
      "execution_count": null,
      "metadata": {
        "id": "1qQr51ucZTyq",
        "outputId": "d96cb15e-ec58-4621-e24b-8489da51b158"
      },
      "outputs": [
        {
          "data": {
            "text/html": [
              "<style>#sk-container-id-2 {color: black;background-color: white;}#sk-container-id-2 pre{padding: 0;}#sk-container-id-2 div.sk-toggleable {background-color: white;}#sk-container-id-2 label.sk-toggleable__label {cursor: pointer;display: block;width: 100%;margin-bottom: 0;padding: 0.3em;box-sizing: border-box;text-align: center;}#sk-container-id-2 label.sk-toggleable__label-arrow:before {content: \"▸\";float: left;margin-right: 0.25em;color: #696969;}#sk-container-id-2 label.sk-toggleable__label-arrow:hover:before {color: black;}#sk-container-id-2 div.sk-estimator:hover label.sk-toggleable__label-arrow:before {color: black;}#sk-container-id-2 div.sk-toggleable__content {max-height: 0;max-width: 0;overflow: hidden;text-align: left;background-color: #f0f8ff;}#sk-container-id-2 div.sk-toggleable__content pre {margin: 0.2em;color: black;border-radius: 0.25em;background-color: #f0f8ff;}#sk-container-id-2 input.sk-toggleable__control:checked~div.sk-toggleable__content {max-height: 200px;max-width: 100%;overflow: auto;}#sk-container-id-2 input.sk-toggleable__control:checked~label.sk-toggleable__label-arrow:before {content: \"▾\";}#sk-container-id-2 div.sk-estimator input.sk-toggleable__control:checked~label.sk-toggleable__label {background-color: #d4ebff;}#sk-container-id-2 div.sk-label input.sk-toggleable__control:checked~label.sk-toggleable__label {background-color: #d4ebff;}#sk-container-id-2 input.sk-hidden--visually {border: 0;clip: rect(1px 1px 1px 1px);clip: rect(1px, 1px, 1px, 1px);height: 1px;margin: -1px;overflow: hidden;padding: 0;position: absolute;width: 1px;}#sk-container-id-2 div.sk-estimator {font-family: monospace;background-color: #f0f8ff;border: 1px dotted black;border-radius: 0.25em;box-sizing: border-box;margin-bottom: 0.5em;}#sk-container-id-2 div.sk-estimator:hover {background-color: #d4ebff;}#sk-container-id-2 div.sk-parallel-item::after {content: \"\";width: 100%;border-bottom: 1px solid gray;flex-grow: 1;}#sk-container-id-2 div.sk-label:hover label.sk-toggleable__label {background-color: #d4ebff;}#sk-container-id-2 div.sk-serial::before {content: \"\";position: absolute;border-left: 1px solid gray;box-sizing: border-box;top: 0;bottom: 0;left: 50%;z-index: 0;}#sk-container-id-2 div.sk-serial {display: flex;flex-direction: column;align-items: center;background-color: white;padding-right: 0.2em;padding-left: 0.2em;position: relative;}#sk-container-id-2 div.sk-item {position: relative;z-index: 1;}#sk-container-id-2 div.sk-parallel {display: flex;align-items: stretch;justify-content: center;background-color: white;position: relative;}#sk-container-id-2 div.sk-item::before, #sk-container-id-2 div.sk-parallel-item::before {content: \"\";position: absolute;border-left: 1px solid gray;box-sizing: border-box;top: 0;bottom: 0;left: 50%;z-index: -1;}#sk-container-id-2 div.sk-parallel-item {display: flex;flex-direction: column;z-index: 1;position: relative;background-color: white;}#sk-container-id-2 div.sk-parallel-item:first-child::after {align-self: flex-end;width: 50%;}#sk-container-id-2 div.sk-parallel-item:last-child::after {align-self: flex-start;width: 50%;}#sk-container-id-2 div.sk-parallel-item:only-child::after {width: 0;}#sk-container-id-2 div.sk-dashed-wrapped {border: 1px dashed gray;margin: 0 0.4em 0.5em 0.4em;box-sizing: border-box;padding-bottom: 0.4em;background-color: white;}#sk-container-id-2 div.sk-label label {font-family: monospace;font-weight: bold;display: inline-block;line-height: 1.2em;}#sk-container-id-2 div.sk-label-container {text-align: center;}#sk-container-id-2 div.sk-container {/* jupyter's `normalize.less` sets `[hidden] { display: none; }` but bootstrap.min.css set `[hidden] { display: none !important; }` so we also need the `!important` here to be able to override the default hidden behavior on the sphinx rendered scikit-learn.org. See: https://github.com/scikit-learn/scikit-learn/issues/21755 */display: inline-block !important;position: relative;}#sk-container-id-2 div.sk-text-repr-fallback {display: none;}</style><div id=\"sk-container-id-2\" class=\"sk-top-container\"><div class=\"sk-text-repr-fallback\"><pre>LinearRegression()</pre><b>In a Jupyter environment, please rerun this cell to show the HTML representation or trust the notebook. <br />On GitHub, the HTML representation is unable to render, please try loading this page with nbviewer.org.</b></div><div class=\"sk-container\" hidden><div class=\"sk-item\"><div class=\"sk-estimator sk-toggleable\"><input class=\"sk-toggleable__control sk-hidden--visually\" id=\"sk-estimator-id-2\" type=\"checkbox\" checked><label for=\"sk-estimator-id-2\" class=\"sk-toggleable__label sk-toggleable__label-arrow\">LinearRegression</label><div class=\"sk-toggleable__content\"><pre>LinearRegression()</pre></div></div></div></div></div>"
            ],
            "text/plain": [
              "LinearRegression()"
            ]
          },
          "execution_count": 18,
          "metadata": {},
          "output_type": "execute_result"
        }
      ],
      "source": [
        "lm.fit(Z, df['price'])"
      ]
    },
    {
      "cell_type": "markdown",
      "metadata": {
        "id": "jNUMm-tGZTyq"
      },
      "source": [
        "Obtener la prediccion"
      ]
    },
    {
      "cell_type": "code",
      "execution_count": null,
      "metadata": {
        "id": "xgqGTghrZTyr"
      },
      "outputs": [],
      "source": [
        "yhat = lm.predict(Z)"
      ]
    },
    {
      "cell_type": "markdown",
      "metadata": {
        "id": "92stQ5wpZTyr"
      },
      "source": [
        "Encontrar la intersección y la pendiente"
      ]
    },
    {
      "cell_type": "code",
      "execution_count": null,
      "metadata": {
        "id": "x8-RDtkLZTys",
        "outputId": "7c8be674-943e-4d7d-b7d3-3f38a170ede0"
      },
      "outputs": [
        {
          "name": "stdout",
          "output_type": "stream",
          "text": [
            "-15806.62462632923\n",
            "[53.49574423  4.70770099 81.53026382 36.05748882]\n"
          ]
        }
      ],
      "source": [
        "print(lm.intercept_)\n",
        "print(lm.coef_)"
      ]
    },
    {
      "cell_type": "markdown",
      "metadata": {
        "id": "LmWGgYl6ZTys"
      },
      "source": [
        "#La relacion entre Price y las 4 variables predictoras esta dada por la siguiente ecuacion\n",
        "\n",
        "Price = -15806.62 + (53.49) * horsepower + (4.70) * curb-weight + (81.53) * engine-size + (36.05) * highway-mpg"
      ]
    },
    {
      "cell_type": "markdown",
      "metadata": {
        "id": "6mLLG3R_ZTys"
      },
      "source": [
        "### Evaluación del modelo usando visualización"
      ]
    },
    {
      "cell_type": "markdown",
      "metadata": {
        "id": "WCk9GapTZTyt"
      },
      "source": [
        "Gráfico de regresión:\n",
        "Nos da una buena estimación de:\n",
        "* La relación entre dos variables\n",
        "* La fortaleza en la correlacion\n",
        "* La dirección de la relacion (Positiva o Negativa) "
      ]
    },
    {
      "cell_type": "markdown",
      "metadata": {
        "id": "HljD48icZTyu"
      },
      "source": [
        "Regression Plot"
      ]
    },
    {
      "cell_type": "code",
      "execution_count": null,
      "metadata": {
        "id": "3faofeyuZTyu"
      },
      "outputs": [],
      "source": [
        "import seaborn as sns\n",
        "import matplotlib.pyplot as plt"
      ]
    },
    {
      "cell_type": "code",
      "execution_count": null,
      "metadata": {
        "id": "euF039CWZTyv",
        "outputId": "f299cc30-0d31-4fed-bc7a-969eb994f4f4"
      },
      "outputs": [
        {
          "data": {
            "text/plain": [
              "(0.0, 48185.214487412886)"
            ]
          },
          "execution_count": 29,
          "metadata": {},
          "output_type": "execute_result"
        },
        {
          "data": {
            "image/png": "[encoded data removed]",
            "text/plain": [
              "<Figure size 432x288 with 1 Axes>"
            ]
          },
          "metadata": {
            "needs_background": "light"
          },
          "output_type": "display_data"
        }
      ],
      "source": [
        "sns.regplot(x=\"highway-mpg\", y=\"price\", data=df)\n",
        "plt.ylim(0,)"
      ]
    },
    {
      "cell_type": "markdown",
      "metadata": {
        "id": "QsFyogL2ZTyw"
      },
      "source": [
        "Residual Plot:\n",
        "\n",
        "Representa el error entre los valores reales, examinando la diferencia entre los valores predecidos y los reales"
      ]
    },
    {
      "cell_type": "markdown",
      "metadata": {
        "id": "sU34HL2lZTyx"
      },
      "source": [
        "* Se esperan ver resultados con media cero"
      ]
    },
    {
      "cell_type": "code",
      "execution_count": null,
      "metadata": {
        "id": "6kMPWQscZTyx",
        "outputId": "20de9e56-68d6-4ae0-e778-9c484acf0417"
      },
      "outputs": [
        {
          "name": "stderr",
          "output_type": "stream",
          "text": [
            "c:\\Users\\Diego Olarte\\AppData\\Local\\Programs\\Python\\Python310\\lib\\site-packages\\seaborn\\_decorators.py:36: FutureWarning: Pass the following variables as keyword args: x, y. From version 0.12, the only valid positional argument will be `data`, and passing other arguments without an explicit keyword will result in an error or misinterpretation.\n",
            "  warnings.warn(\n"
          ]
        },
        {
          "data": {
            "text/plain": [
              "<AxesSubplot:xlabel='highway-mpg', ylabel='price'>"
            ]
          },
          "execution_count": 30,
          "metadata": {},
          "output_type": "execute_result"
        },
        {
          "data": {
            "image/png": "[encoded data removed]",
            "text/plain": [
              "<Figure size 432x288 with 1 Axes>"
            ]
          },
          "metadata": {
            "needs_background": "light"
          },
          "output_type": "display_data"
        }
      ],
      "source": [
        "sns.residplot(df[\"highway-mpg\"], df[\"price\"])"
      ]
    },
    {
      "cell_type": "markdown",
      "metadata": {
        "id": "ApGAJzW4ZTyy"
      },
      "source": [
        "Distribution Plot:\n",
        "* Estos gráficos son muy utiles para visualizar modelos con mas de una variable independiente\n"
      ]
    },
    {
      "cell_type": "code",
      "execution_count": null,
      "metadata": {
        "id": "Erzwi77nZTyy",
        "outputId": "1cfe91b3-cc0a-4b0c-8a2e-a858dd65f7ab"
      },
      "outputs": [
        {
          "name": "stderr",
          "output_type": "stream",
          "text": [
            "c:\\Users\\Diego Olarte\\AppData\\Local\\Programs\\Python\\Python310\\lib\\site-packages\\seaborn\\distributions.py:2619: FutureWarning: `distplot` is a deprecated function and will be removed in a future version. Please adapt your code to use either `displot` (a figure-level function with similar flexibility) or `kdeplot` (an axes-level function for kernel density plots).\n",
            "  warnings.warn(msg, FutureWarning)\n",
            "c:\\Users\\Diego Olarte\\AppData\\Local\\Programs\\Python\\Python310\\lib\\site-packages\\seaborn\\distributions.py:2619: FutureWarning: `distplot` is a deprecated function and will be removed in a future version. Please adapt your code to use either `displot` (a figure-level function with similar flexibility) or `kdeplot` (an axes-level function for kernel density plots).\n",
            "  warnings.warn(msg, FutureWarning)\n"
          ]
        },
        {
          "data": {
            "text/plain": [
              "<AxesSubplot:xlabel='price', ylabel='Density'>"
            ]
          },
          "execution_count": 31,
          "metadata": {},
          "output_type": "execute_result"
        },
        {
          "data": {
            "image/png": "[encoded data removed]",
            "text/plain": [
              "<Figure size 432x288 with 1 Axes>"
            ]
          },
          "metadata": {
            "needs_background": "light"
          },
          "output_type": "display_data"
        }
      ],
      "source": [
        "ax1 = sns.distplot(df[\"price\"], hist=False, color=\"r\", label=\"Actual Value\")\n",
        "sns.distplot(yhat, hist=False, color=\"b\", label=\"Fitted Values\", ax=ax1)"
      ]
    },
    {
      "cell_type": "markdown",
      "metadata": {
        "id": "HQIgfoxBZTyy"
      },
      "source": [
        "### Regresión Polinómica y Pipelines"
      ]
    },
    {
      "cell_type": "markdown",
      "metadata": {
        "id": "HUgWJAKKZTyz"
      },
      "source": [
        "* Es un caso especial del modelo de regresion lineal general\n",
        "* Es util para describir relaciones curvilineas"
      ]
    },
    {
      "cell_type": "code",
      "execution_count": null,
      "metadata": {
        "id": "-sVs2AX9ZTyz"
      },
      "outputs": [],
      "source": [
        "import numpy as np"
      ]
    },
    {
      "cell_type": "code",
      "execution_count": null,
      "metadata": {
        "id": "spZz27D2ZTyz"
      },
      "outputs": [],
      "source": [
        "#Calcular polinomio de 3er orden\n",
        "f= np.polyfit(df[\"highway-mpg\"], df[\"price\"],3)\n",
        "p = np.poly1d(f)"
      ]
    },
    {
      "cell_type": "code",
      "execution_count": null,
      "metadata": {
        "id": "FaERg8raZTy0",
        "outputId": "501259d1-46dd-4353-adf9-04e8fac23d1a"
      },
      "outputs": [
        {
          "name": "stdout",
          "output_type": "stream",
          "text": [
            "        3         2\n",
            "-1.557 x + 204.8 x - 8965 x + 1.379e+05\n"
          ]
        }
      ],
      "source": [
        "print(p)"
      ]
    },
    {
      "cell_type": "markdown",
      "metadata": {
        "id": "kbD_GwoCZTy0"
      },
      "source": [
        "Regresion Polinomica con mas de una dimension"
      ]
    },
    {
      "cell_type": "code",
      "execution_count": null,
      "metadata": {
        "id": "auq3m19JZTy0"
      },
      "outputs": [],
      "source": [
        "from sklearn.preprocessing import PolynomialFeatures\n",
        "pr=PolynomialFeatures(degree=2, include_bias=False)"
      ]
    },
    {
      "cell_type": "code",
      "execution_count": null,
      "metadata": {
        "id": "hvzoJW91ZTy1",
        "outputId": "86334aa0-4dbb-46cc-df23-a72f0411951f"
      },
      "outputs": [
        {
          "data": {
            "text/plain": [
              "array([[1.1100000e+02, 2.5480000e+03, 1.2321000e+04, 2.8282800e+05,\n",
              "        6.4923040e+06],\n",
              "       [1.1100000e+02, 2.5480000e+03, 1.2321000e+04, 2.8282800e+05,\n",
              "        6.4923040e+06],\n",
              "       [1.5400000e+02, 2.8230000e+03, 2.3716000e+04, 4.3474200e+05,\n",
              "        7.9693290e+06],\n",
              "       ...,\n",
              "       [1.3400000e+02, 3.0120000e+03, 1.7956000e+04, 4.0360800e+05,\n",
              "        9.0721440e+06],\n",
              "       [1.0600000e+02, 3.2170000e+03, 1.1236000e+04, 3.4100200e+05,\n",
              "        1.0349089e+07],\n",
              "       [1.1400000e+02, 3.0620000e+03, 1.2996000e+04, 3.4906800e+05,\n",
              "        9.3758440e+06]])"
            ]
          },
          "execution_count": 45,
          "metadata": {},
          "output_type": "execute_result"
        }
      ],
      "source": [
        "x_polly= pr.fit_transform(df[[\"horsepower\",\"curb-weight\"]])\n",
        "x_polly"
      ]
    },
    {
      "cell_type": "markdown",
      "metadata": {
        "id": "K_2UKLeAZTy2"
      },
      "source": [
        "Pre-procesamiento"
      ]
    },
    {
      "cell_type": "code",
      "execution_count": null,
      "metadata": {
        "id": "Ygay92BRZTy2"
      },
      "outputs": [],
      "source": [
        "from sklearn.preprocessing import StandardScaler\n",
        "\n",
        "SCALE = StandardScaler()\n",
        "SCALE.fit(df[[\"horsepower\",\"highway-mpg\"]])\n",
        "\n",
        "x_scale = SCALE.transform(df[[\"horsepower\",\"highway-mpg\"]])"
      ]
    },
    {
      "cell_type": "markdown",
      "metadata": {
        "id": "8h6LedcdZTy2"
      },
      "source": [
        "Pipelines"
      ]
    },
    {
      "cell_type": "code",
      "execution_count": null,
      "metadata": {
        "id": "Msfee1kSZTy2"
      },
      "outputs": [],
      "source": [
        "from sklearn.pipeline import Pipeline"
      ]
    },
    {
      "cell_type": "code",
      "execution_count": null,
      "metadata": {
        "id": "BKuYMgKQZTy2"
      },
      "outputs": [],
      "source": [
        "Input=[('scale',StandardScaler()), ('polynomial', PolynomialFeatures(degree=2)), ('model',LinearRegression())]"
      ]
    },
    {
      "cell_type": "code",
      "execution_count": null,
      "metadata": {
        "id": "FYY0rFS0ZTy3",
        "outputId": "b6a4e711-bf7a-4f36-ea2c-68dbdba6c6d3"
      },
      "outputs": [
        {
          "data": {
            "text/html": [
              "<style>#sk-container-id-8 {color: black;background-color: white;}#sk-container-id-8 pre{padding: 0;}#sk-container-id-8 div.sk-toggleable {background-color: white;}#sk-container-id-8 label.sk-toggleable__label {cursor: pointer;display: block;width: 100%;margin-bottom: 0;padding: 0.3em;box-sizing: border-box;text-align: center;}#sk-container-id-8 label.sk-toggleable__label-arrow:before {content: \"▸\";float: left;margin-right: 0.25em;color: #696969;}#sk-container-id-8 label.sk-toggleable__label-arrow:hover:before {color: black;}#sk-container-id-8 div.sk-estimator:hover label.sk-toggleable__label-arrow:before {color: black;}#sk-container-id-8 div.sk-toggleable__content {max-height: 0;max-width: 0;overflow: hidden;text-align: left;background-color: #f0f8ff;}#sk-container-id-8 div.sk-toggleable__content pre {margin: 0.2em;color: black;border-radius: 0.25em;background-color: #f0f8ff;}#sk-container-id-8 input.sk-toggleable__control:checked~div.sk-toggleable__content {max-height: 200px;max-width: 100%;overflow: auto;}#sk-container-id-8 input.sk-toggleable__control:checked~label.sk-toggleable__label-arrow:before {content: \"▾\";}#sk-container-id-8 div.sk-estimator input.sk-toggleable__control:checked~label.sk-toggleable__label {background-color: #d4ebff;}#sk-container-id-8 div.sk-label input.sk-toggleable__control:checked~label.sk-toggleable__label {background-color: #d4ebff;}#sk-container-id-8 input.sk-hidden--visually {border: 0;clip: rect(1px 1px 1px 1px);clip: rect(1px, 1px, 1px, 1px);height: 1px;margin: -1px;overflow: hidden;padding: 0;position: absolute;width: 1px;}#sk-container-id-8 div.sk-estimator {font-family: monospace;background-color: #f0f8ff;border: 1px dotted black;border-radius: 0.25em;box-sizing: border-box;margin-bottom: 0.5em;}#sk-container-id-8 div.sk-estimator:hover {background-color: #d4ebff;}#sk-container-id-8 div.sk-parallel-item::after {content: \"\";width: 100%;border-bottom: 1px solid gray;flex-grow: 1;}#sk-container-id-8 div.sk-label:hover label.sk-toggleable__label {background-color: #d4ebff;}#sk-container-id-8 div.sk-serial::before {content: \"\";position: absolute;border-left: 1px solid gray;box-sizing: border-box;top: 0;bottom: 0;left: 50%;z-index: 0;}#sk-container-id-8 div.sk-serial {display: flex;flex-direction: column;align-items: center;background-color: white;padding-right: 0.2em;padding-left: 0.2em;position: relative;}#sk-container-id-8 div.sk-item {position: relative;z-index: 1;}#sk-container-id-8 div.sk-parallel {display: flex;align-items: stretch;justify-content: center;background-color: white;position: relative;}#sk-container-id-8 div.sk-item::before, #sk-container-id-8 div.sk-parallel-item::before {content: \"\";position: absolute;border-left: 1px solid gray;box-sizing: border-box;top: 0;bottom: 0;left: 50%;z-index: -1;}#sk-container-id-8 div.sk-parallel-item {display: flex;flex-direction: column;z-index: 1;position: relative;background-color: white;}#sk-container-id-8 div.sk-parallel-item:first-child::after {align-self: flex-end;width: 50%;}#sk-container-id-8 div.sk-parallel-item:last-child::after {align-self: flex-start;width: 50%;}#sk-container-id-8 div.sk-parallel-item:only-child::after {width: 0;}#sk-container-id-8 div.sk-dashed-wrapped {border: 1px dashed gray;margin: 0 0.4em 0.5em 0.4em;box-sizing: border-box;padding-bottom: 0.4em;background-color: white;}#sk-container-id-8 div.sk-label label {font-family: monospace;font-weight: bold;display: inline-block;line-height: 1.2em;}#sk-container-id-8 div.sk-label-container {text-align: center;}#sk-container-id-8 div.sk-container {/* jupyter's `normalize.less` sets `[hidden] { display: none; }` but bootstrap.min.css set `[hidden] { display: none !important; }` so we also need the `!important` here to be able to override the default hidden behavior on the sphinx rendered scikit-learn.org. See: https://github.com/scikit-learn/scikit-learn/issues/21755 */display: inline-block !important;position: relative;}#sk-container-id-8 div.sk-text-repr-fallback {display: none;}</style><div id=\"sk-container-id-8\" class=\"sk-top-container\"><div class=\"sk-text-repr-fallback\"><pre>Pipeline(steps=[(&#x27;scale&#x27;, StandardScaler()),\n",
              "                (&#x27;polynomial&#x27;, PolynomialFeatures()),\n",
              "                (&#x27;model&#x27;, LinearRegression())])</pre><b>In a Jupyter environment, please rerun this cell to show the HTML representation or trust the notebook. <br />On GitHub, the HTML representation is unable to render, please try loading this page with nbviewer.org.</b></div><div class=\"sk-container\" hidden><div class=\"sk-item sk-dashed-wrapped\"><div class=\"sk-label-container\"><div class=\"sk-label sk-toggleable\"><input class=\"sk-toggleable__control sk-hidden--visually\" id=\"sk-estimator-id-20\" type=\"checkbox\" ><label for=\"sk-estimator-id-20\" class=\"sk-toggleable__label sk-toggleable__label-arrow\">Pipeline</label><div class=\"sk-toggleable__content\"><pre>Pipeline(steps=[(&#x27;scale&#x27;, StandardScaler()),\n",
              "                (&#x27;polynomial&#x27;, PolynomialFeatures()),\n",
              "                (&#x27;model&#x27;, LinearRegression())])</pre></div></div></div><div class=\"sk-serial\"><div class=\"sk-item\"><div class=\"sk-estimator sk-toggleable\"><input class=\"sk-toggleable__control sk-hidden--visually\" id=\"sk-estimator-id-21\" type=\"checkbox\" ><label for=\"sk-estimator-id-21\" class=\"sk-toggleable__label sk-toggleable__label-arrow\">StandardScaler</label><div class=\"sk-toggleable__content\"><pre>StandardScaler()</pre></div></div></div><div class=\"sk-item\"><div class=\"sk-estimator sk-toggleable\"><input class=\"sk-toggleable__control sk-hidden--visually\" id=\"sk-estimator-id-22\" type=\"checkbox\" ><label for=\"sk-estimator-id-22\" class=\"sk-toggleable__label sk-toggleable__label-arrow\">PolynomialFeatures</label><div class=\"sk-toggleable__content\"><pre>PolynomialFeatures()</pre></div></div></div><div class=\"sk-item\"><div class=\"sk-estimator sk-toggleable\"><input class=\"sk-toggleable__control sk-hidden--visually\" id=\"sk-estimator-id-23\" type=\"checkbox\" ><label for=\"sk-estimator-id-23\" class=\"sk-toggleable__label sk-toggleable__label-arrow\">LinearRegression</label><div class=\"sk-toggleable__content\"><pre>LinearRegression()</pre></div></div></div></div></div></div></div>"
            ],
            "text/plain": [
              "Pipeline(steps=[('scale', StandardScaler()),\n",
              "                ('polynomial', PolynomialFeatures()),\n",
              "                ('model', LinearRegression())])"
            ]
          },
          "execution_count": 77,
          "metadata": {},
          "output_type": "execute_result"
        }
      ],
      "source": [
        "pipe = Pipeline(Input)\n",
        "pipe"
      ]
    },
    {
      "cell_type": "code",
      "execution_count": null,
      "metadata": {
        "id": "VwW3IlnRZTy3"
      },
      "outputs": [],
      "source": [
        "Z = Z.astype(float)"
      ]
    },
    {
      "cell_type": "code",
      "execution_count": null,
      "metadata": {
        "id": "oXdwtTBiZTy4"
      },
      "outputs": [],
      "source": [
        "pipe.fit(Z,Y)\n",
        "yhat = pipe.predict(Z)"
      ]
    },
    {
      "cell_type": "code",
      "execution_count": null,
      "metadata": {
        "id": "op-fwg56ZTy5",
        "outputId": "951ec134-a5c2-4538-a6f9-fd80cb600c72"
      },
      "outputs": [
        {
          "data": {
            "text/plain": [
              "array([13102.74784201, 13102.74784201, 18225.54572197, 10390.29636555])"
            ]
          },
          "execution_count": 82,
          "metadata": {},
          "output_type": "execute_result"
        }
      ],
      "source": [
        "yhat[0:4]"
      ]
    },
    {
      "cell_type": "markdown",
      "metadata": {
        "id": "NFbT9qlYZTy6"
      },
      "source": [
        "### Predicción y toma de decision"
      ]
    },
    {
      "cell_type": "markdown",
      "metadata": {
        "id": "FQJl87DnZTy7"
      },
      "source": [
        "Para determinar el mejor modelo, se debe revisar la combinacion de los siguientes items:\n",
        "* Los valores predecidos tienen sentido\n",
        "* Visualizacion\n",
        "* Metricas para evaluacion\n",
        "* Comparando modelos"
      ]
    },
    {
      "cell_type": "code",
      "execution_count": null,
      "metadata": {
        "id": "YA8ykFFZZTy7",
        "outputId": "165346b0-d3a0-4416-f226-fe703b0b5807"
      },
      "outputs": [
        {
          "data": {
            "text/html": [
              "<style>#sk-container-id-10 {color: black;background-color: white;}#sk-container-id-10 pre{padding: 0;}#sk-container-id-10 div.sk-toggleable {background-color: white;}#sk-container-id-10 label.sk-toggleable__label {cursor: pointer;display: block;width: 100%;margin-bottom: 0;padding: 0.3em;box-sizing: border-box;text-align: center;}#sk-container-id-10 label.sk-toggleable__label-arrow:before {content: \"▸\";float: left;margin-right: 0.25em;color: #696969;}#sk-container-id-10 label.sk-toggleable__label-arrow:hover:before {color: black;}#sk-container-id-10 div.sk-estimator:hover label.sk-toggleable__label-arrow:before {color: black;}#sk-container-id-10 div.sk-toggleable__content {max-height: 0;max-width: 0;overflow: hidden;text-align: left;background-color: #f0f8ff;}#sk-container-id-10 div.sk-toggleable__content pre {margin: 0.2em;color: black;border-radius: 0.25em;background-color: #f0f8ff;}#sk-container-id-10 input.sk-toggleable__control:checked~div.sk-toggleable__content {max-height: 200px;max-width: 100%;overflow: auto;}#sk-container-id-10 input.sk-toggleable__control:checked~label.sk-toggleable__label-arrow:before {content: \"▾\";}#sk-container-id-10 div.sk-estimator input.sk-toggleable__control:checked~label.sk-toggleable__label {background-color: #d4ebff;}#sk-container-id-10 div.sk-label input.sk-toggleable__control:checked~label.sk-toggleable__label {background-color: #d4ebff;}#sk-container-id-10 input.sk-hidden--visually {border: 0;clip: rect(1px 1px 1px 1px);clip: rect(1px, 1px, 1px, 1px);height: 1px;margin: -1px;overflow: hidden;padding: 0;position: absolute;width: 1px;}#sk-container-id-10 div.sk-estimator {font-family: monospace;background-color: #f0f8ff;border: 1px dotted black;border-radius: 0.25em;box-sizing: border-box;margin-bottom: 0.5em;}#sk-container-id-10 div.sk-estimator:hover {background-color: #d4ebff;}#sk-container-id-10 div.sk-parallel-item::after {content: \"\";width: 100%;border-bottom: 1px solid gray;flex-grow: 1;}#sk-container-id-10 div.sk-label:hover label.sk-toggleable__label {background-color: #d4ebff;}#sk-container-id-10 div.sk-serial::before {content: \"\";position: absolute;border-left: 1px solid gray;box-sizing: border-box;top: 0;bottom: 0;left: 50%;z-index: 0;}#sk-container-id-10 div.sk-serial {display: flex;flex-direction: column;align-items: center;background-color: white;padding-right: 0.2em;padding-left: 0.2em;position: relative;}#sk-container-id-10 div.sk-item {position: relative;z-index: 1;}#sk-container-id-10 div.sk-parallel {display: flex;align-items: stretch;justify-content: center;background-color: white;position: relative;}#sk-container-id-10 div.sk-item::before, #sk-container-id-10 div.sk-parallel-item::before {content: \"\";position: absolute;border-left: 1px solid gray;box-sizing: border-box;top: 0;bottom: 0;left: 50%;z-index: -1;}#sk-container-id-10 div.sk-parallel-item {display: flex;flex-direction: column;z-index: 1;position: relative;background-color: white;}#sk-container-id-10 div.sk-parallel-item:first-child::after {align-self: flex-end;width: 50%;}#sk-container-id-10 div.sk-parallel-item:last-child::after {align-self: flex-start;width: 50%;}#sk-container-id-10 div.sk-parallel-item:only-child::after {width: 0;}#sk-container-id-10 div.sk-dashed-wrapped {border: 1px dashed gray;margin: 0 0.4em 0.5em 0.4em;box-sizing: border-box;padding-bottom: 0.4em;background-color: white;}#sk-container-id-10 div.sk-label label {font-family: monospace;font-weight: bold;display: inline-block;line-height: 1.2em;}#sk-container-id-10 div.sk-label-container {text-align: center;}#sk-container-id-10 div.sk-container {/* jupyter's `normalize.less` sets `[hidden] { display: none; }` but bootstrap.min.css set `[hidden] { display: none !important; }` so we also need the `!important` here to be able to override the default hidden behavior on the sphinx rendered scikit-learn.org. See: https://github.com/scikit-learn/scikit-learn/issues/21755 */display: inline-block !important;position: relative;}#sk-container-id-10 div.sk-text-repr-fallback {display: none;}</style><div id=\"sk-container-id-10\" class=\"sk-top-container\"><div class=\"sk-text-repr-fallback\"><pre>LinearRegression()</pre><b>In a Jupyter environment, please rerun this cell to show the HTML representation or trust the notebook. <br />On GitHub, the HTML representation is unable to render, please try loading this page with nbviewer.org.</b></div><div class=\"sk-container\" hidden><div class=\"sk-item\"><div class=\"sk-estimator sk-toggleable\"><input class=\"sk-toggleable__control sk-hidden--visually\" id=\"sk-estimator-id-28\" type=\"checkbox\" checked><label for=\"sk-estimator-id-28\" class=\"sk-toggleable__label sk-toggleable__label-arrow\">LinearRegression</label><div class=\"sk-toggleable__content\"><pre>LinearRegression()</pre></div></div></div></div></div>"
            ],
            "text/plain": [
              "LinearRegression()"
            ]
          },
          "execution_count": 89,
          "metadata": {},
          "output_type": "execute_result"
        }
      ],
      "source": [
        "#entrenar el modelo\n",
        "X = df[[\"highway-mpg\"]]\n",
        "lm.fit(X,df[\"price\"])"
      ]
    },
    {
      "cell_type": "code",
      "execution_count": null,
      "metadata": {
        "id": "6GDniWw4ZTy8",
        "outputId": "32ae808d-fcb4-4fb8-8213-a501697854f9"
      },
      "outputs": [
        {
          "name": "stderr",
          "output_type": "stream",
          "text": [
            "c:\\Users\\Diego Olarte\\AppData\\Local\\Programs\\Python\\Python310\\lib\\site-packages\\sklearn\\base.py:450: UserWarning: X does not have valid feature names, but LinearRegression was fitted with feature names\n",
            "  warnings.warn(\n"
          ]
        },
        {
          "data": {
            "text/plain": [
              "array([13771.3045085])"
            ]
          },
          "execution_count": 93,
          "metadata": {},
          "output_type": "execute_result"
        }
      ],
      "source": [
        "#predecir el precio de un carro con 30 highway-mpg\n",
        "lm.predict(np.array(30).reshape(-1, 1))"
      ]
    },
    {
      "cell_type": "code",
      "execution_count": null,
      "metadata": {
        "id": "dW0ZF8zxZTy8",
        "outputId": "be85139f-5c5f-4b49-cbe3-8c77bc098749"
      },
      "outputs": [
        {
          "data": {
            "text/plain": [
              "array([-821.73337832])"
            ]
          },
          "execution_count": 94,
          "metadata": {},
          "output_type": "execute_result"
        }
      ],
      "source": [
        "lm.coef_"
      ]
    },
    {
      "cell_type": "markdown",
      "metadata": {
        "id": "lwtByW4XZTy9"
      },
      "source": [
        "La pendiente indica que por cada unidad que se incrementa a highway-mpg el valor del carro decae en 821 dolares, lo cual tiene sentido"
      ]
    },
    {
      "cell_type": "code",
      "execution_count": null,
      "metadata": {
        "id": "6AnECIGKZTy9",
        "outputId": "151374b1-9ca7-4c17-846a-2dfc99565975"
      },
      "outputs": [
        {
          "data": {
            "text/plain": [
              "array([[  1],\n",
              "       [  2],\n",
              "       [  3],\n",
              "       [  4],\n",
              "       [  5],\n",
              "       [  6],\n",
              "       [  7],\n",
              "       [  8],\n",
              "       [  9],\n",
              "       [ 10],\n",
              "       [ 11],\n",
              "       [ 12],\n",
              "       [ 13],\n",
              "       [ 14],\n",
              "       [ 15],\n",
              "       [ 16],\n",
              "       [ 17],\n",
              "       [ 18],\n",
              "       [ 19],\n",
              "       [ 20],\n",
              "       [ 21],\n",
              "       [ 22],\n",
              "       [ 23],\n",
              "       [ 24],\n",
              "       [ 25],\n",
              "       [ 26],\n",
              "       [ 27],\n",
              "       [ 28],\n",
              "       [ 29],\n",
              "       [ 30],\n",
              "       [ 31],\n",
              "       [ 32],\n",
              "       [ 33],\n",
              "       [ 34],\n",
              "       [ 35],\n",
              "       [ 36],\n",
              "       [ 37],\n",
              "       [ 38],\n",
              "       [ 39],\n",
              "       [ 40],\n",
              "       [ 41],\n",
              "       [ 42],\n",
              "       [ 43],\n",
              "       [ 44],\n",
              "       [ 45],\n",
              "       [ 46],\n",
              "       [ 47],\n",
              "       [ 48],\n",
              "       [ 49],\n",
              "       [ 50],\n",
              "       [ 51],\n",
              "       [ 52],\n",
              "       [ 53],\n",
              "       [ 54],\n",
              "       [ 55],\n",
              "       [ 56],\n",
              "       [ 57],\n",
              "       [ 58],\n",
              "       [ 59],\n",
              "       [ 60],\n",
              "       [ 61],\n",
              "       [ 62],\n",
              "       [ 63],\n",
              "       [ 64],\n",
              "       [ 65],\n",
              "       [ 66],\n",
              "       [ 67],\n",
              "       [ 68],\n",
              "       [ 69],\n",
              "       [ 70],\n",
              "       [ 71],\n",
              "       [ 72],\n",
              "       [ 73],\n",
              "       [ 74],\n",
              "       [ 75],\n",
              "       [ 76],\n",
              "       [ 77],\n",
              "       [ 78],\n",
              "       [ 79],\n",
              "       [ 80],\n",
              "       [ 81],\n",
              "       [ 82],\n",
              "       [ 83],\n",
              "       [ 84],\n",
              "       [ 85],\n",
              "       [ 86],\n",
              "       [ 87],\n",
              "       [ 88],\n",
              "       [ 89],\n",
              "       [ 90],\n",
              "       [ 91],\n",
              "       [ 92],\n",
              "       [ 93],\n",
              "       [ 94],\n",
              "       [ 95],\n",
              "       [ 96],\n",
              "       [ 97],\n",
              "       [ 98],\n",
              "       [ 99],\n",
              "       [100]])"
            ]
          },
          "execution_count": 97,
          "metadata": {},
          "output_type": "execute_result"
        }
      ],
      "source": [
        "#Generar una secuencia desde 1 hasta 100\n",
        "new_input = np.arange(1,101,1).reshape(-1,1)\n",
        "new_input"
      ]
    },
    {
      "cell_type": "code",
      "execution_count": null,
      "metadata": {
        "id": "2NxDNUw0ZTy-",
        "outputId": "297a508a-33f1-494e-ee40-59ae6c6570a3"
      },
      "outputs": [
        {
          "name": "stderr",
          "output_type": "stream",
          "text": [
            "c:\\Users\\Diego Olarte\\AppData\\Local\\Programs\\Python\\Python310\\lib\\site-packages\\sklearn\\base.py:450: UserWarning: X does not have valid feature names, but LinearRegression was fitted with feature names\n",
            "  warnings.warn(\n"
          ]
        },
        {
          "data": {
            "text/plain": [
              "array([ 37601.57247984,  36779.83910151,  35958.10572319,  35136.37234487,\n",
              "        34314.63896655,  33492.90558823,  32671.1722099 ,  31849.43883158,\n",
              "        31027.70545326,  30205.97207494,  29384.23869662,  28562.50531829,\n",
              "        27740.77193997,  26919.03856165,  26097.30518333,  25275.57180501,\n",
              "        24453.83842668,  23632.10504836,  22810.37167004,  21988.63829172,\n",
              "        21166.9049134 ,  20345.17153508,  19523.43815675,  18701.70477843,\n",
              "        17879.97140011,  17058.23802179,  16236.50464347,  15414.77126514,\n",
              "        14593.03788682,  13771.3045085 ,  12949.57113018,  12127.83775186,\n",
              "        11306.10437353,  10484.37099521,   9662.63761689,   8840.90423857,\n",
              "         8019.17086025,   7197.43748192,   6375.7041036 ,   5553.97072528,\n",
              "         4732.23734696,   3910.50396864,   3088.77059031,   2267.03721199,\n",
              "         1445.30383367,    623.57045535,   -198.16292297,  -1019.8963013 ,\n",
              "        -1841.62967962,  -2663.36305794,  -3485.09643626,  -4306.82981458,\n",
              "        -5128.5631929 ,  -5950.29657123,  -6772.02994955,  -7593.76332787,\n",
              "        -8415.49670619,  -9237.23008451, -10058.96346284, -10880.69684116,\n",
              "       -11702.43021948, -12524.1635978 , -13345.89697612, -14167.63035445,\n",
              "       -14989.36373277, -15811.09711109, -16632.83048941, -17454.56386773,\n",
              "       -18276.29724606, -19098.03062438, -19919.7640027 , -20741.49738102,\n",
              "       -21563.23075934, -22384.96413767, -23206.69751599, -24028.43089431,\n",
              "       -24850.16427263, -25671.89765095, -26493.63102927, -27315.3644076 ,\n",
              "       -28137.09778592, -28958.83116424, -29780.56454256, -30602.29792088,\n",
              "       -31424.03129921, -32245.76467753, -33067.49805585, -33889.23143417,\n",
              "       -34710.96481249, -35532.69819082, -36354.43156914, -37176.16494746,\n",
              "       -37997.89832578, -38819.6317041 , -39641.36508243, -40463.09846075,\n",
              "       -41284.83183907, -42106.56521739, -42928.29859571, -43750.03197404])"
            ]
          },
          "execution_count": 99,
          "metadata": {},
          "output_type": "execute_result"
        }
      ],
      "source": [
        "#Predecir nuevos valores\n",
        "yhat = lm.predict(new_input)\n",
        "yhat"
      ]
    },
    {
      "cell_type": "markdown",
      "metadata": {
        "id": "bDe0tmMpZTy-"
      },
      "source": [
        "Al ver que hay algunos valores negativos, se procede a visualizar los datos con una regresion"
      ]
    },
    {
      "cell_type": "code",
      "execution_count": null,
      "metadata": {
        "id": "8Vt-E03qZTy_",
        "outputId": "d26edbc3-5b61-4ae4-c02d-88baa95ef91b"
      },
      "outputs": [
        {
          "data": {
            "text/plain": [
              "(0.0, 48180.5333125337)"
            ]
          },
          "execution_count": 101,
          "metadata": {},
          "output_type": "execute_result"
        },
        {
          "data": {
            "image/png": "[encoded data removed]",
            "text/plain": [
              "<Figure size 432x288 with 1 Axes>"
            ]
          },
          "metadata": {
            "needs_background": "light"
          },
          "output_type": "display_data"
        }
      ],
      "source": [
        "sns.regplot(x=\"highway-mpg\", y=\"price\", data=df)\n",
        "plt.ylim(0,)"
      ]
    },
    {
      "cell_type": "markdown",
      "metadata": {
        "id": "cIJPEFGlZTy_"
      },
      "source": [
        "Los datos tienen a bajar mientras la variable dependiente incrementa, se procede a visualizar los residuos"
      ]
    },
    {
      "cell_type": "code",
      "execution_count": null,
      "metadata": {
        "id": "3NQiKn50ZTy_",
        "outputId": "7fe68910-6eb2-4079-d601-7ab42d029ee4"
      },
      "outputs": [
        {
          "name": "stderr",
          "output_type": "stream",
          "text": [
            "c:\\Users\\Diego Olarte\\AppData\\Local\\Programs\\Python\\Python310\\lib\\site-packages\\seaborn\\_decorators.py:36: FutureWarning: Pass the following variables as keyword args: x, y. From version 0.12, the only valid positional argument will be `data`, and passing other arguments without an explicit keyword will result in an error or misinterpretation.\n",
            "  warnings.warn(\n"
          ]
        },
        {
          "data": {
            "text/plain": [
              "<AxesSubplot:xlabel='highway-mpg', ylabel='price'>"
            ]
          },
          "execution_count": 102,
          "metadata": {},
          "output_type": "execute_result"
        },
        {
          "data": {
            "image/png": "[encoded data removed]",
            "text/plain": [
              "<Figure size 432x288 with 1 Axes>"
            ]
          },
          "metadata": {
            "needs_background": "light"
          },
          "output_type": "display_data"
        }
      ],
      "source": [
        "sns.residplot(df[\"highway-mpg\"], df[\"price\"])"
      ]
    },
    {
      "cell_type": "markdown",
      "metadata": {
        "id": "TrSY57aMZTzA"
      },
      "source": [
        "Los residuos tienen una curvatura, sugiriendo una regresion no lineal, un distribution plot es un buen metodo para regresion lineal multiple"
      ]
    },
    {
      "cell_type": "markdown",
      "metadata": {
        "id": "49mvQ5UpZTzA"
      },
      "source": [
        "### Comparando MLR y SLR"
      ]
    },
    {
      "cell_type": "markdown",
      "metadata": {
        "id": "IF66mTEqZTzB"
      },
      "source": [
        "* Un bajo valor en MSE siempre implica un mejor modelo?\n",
        "  - No necesariamente\n",
        "* MSE para un modelo de regresion multiple va a ser mas bajo que MSE para un modelo de regresion lineal simple, ya que los errores de los datos van a decrecer cuando se incluyen mas variables en el modelo\n",
        "* Regresion polinomial tambien va a tener un valor mas bajo en MSE que una regresion regular\n",
        "* Una relacion inversa a estos items se mantiene para la metrica de R2"
      ]
    },
    {
      "cell_type": "markdown",
      "metadata": {
        "id": "SYxaduOgZTzB"
      },
      "source": [
        "### Evidencia Graded Review Questions"
      ]
    },
    {
      "cell_type": "markdown",
      "source": [
        "![imagen.png](data:image/png;base64,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)"
      ],
      "metadata": {
        "id": "9AXvvlNcZpT9"
      }
    }
  ],
  "metadata": {
    "colab": {
      "provenance": [],
      "include_colab_link": true
    },
    "kernelspec": {
      "display_name": "Python 3.10.2 64-bit",
      "language": "python",
      "name": "python3"
    },
    "language_info": {
      "codemirror_mode": {
        "name": "ipython",
        "version": 3
      },
      "file_extension": ".py",
      "mimetype": "text/x-python",
      "name": "python",
      "nbconvert_exporter": "python",
      "pygments_lexer": "ipython3",
      "version": "3.10.2"
    },
    "orig_nbformat": 4,
    "vscode": {
      "interpreter": {
        "hash": "4dd15ac4cfe006e7770f1748318df5853f91b1709ffe23ecf86429a8a977c856"
      }
    }
  },
  "nbformat": 4,
  "nbformat_minor": 0
}