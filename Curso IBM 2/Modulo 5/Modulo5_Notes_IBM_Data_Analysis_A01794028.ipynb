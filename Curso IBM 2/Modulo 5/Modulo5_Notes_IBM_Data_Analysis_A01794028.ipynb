{
  "cells": [
    {
      "cell_type": "markdown",
      "metadata": {
        "id": "view-in-github",
        "colab_type": "text"
      },
      "source": [
        "<a href=\"https://colab.research.google.com/github/PosgradoMNA/actividades-de-aprendizaje-diegolarte/blob/main/Curso%20IBM%202/Modulo%205/Modulo5_Notes_IBM_Data_Analysis_A01794028.ipynb\" target=\"_parent\"><img src=\"https://colab.research.google.com/assets/colab-badge.svg\" alt=\"Open In Colab\"/></a>"
      ]
    },
    {
      "cell_type": "markdown",
      "metadata": {
        "id": "7lsU4TK9noPZ"
      },
      "source": [
        "## Module 5 - Model Evaluation"
      ]
    },
    {
      "cell_type": "markdown",
      "metadata": {
        "id": "la-PARa8r0Cm"
      },
      "source": [
        "### Evaluacion del modelo"
      ]
    },
    {
      "cell_type": "markdown",
      "metadata": {
        "id": "2jakenASduEG"
      },
      "source": [
        "\n",
        "1. Evaluacion del modelo\n",
        "2. Overfitting, Underfitting y seleccion del modelo\n",
        "3. Ridge Regression\n",
        "4. Grid Search\n",
        "5. Prediccion y toma de desiciones"
      ]
    },
    {
      "cell_type": "markdown",
      "metadata": {
        "id": "28e2Maval5Nc"
      },
      "source": [
        "Pregunta de negocio:"
      ]
    },
    {
      "cell_type": "markdown",
      "metadata": {
        "id": "cHE9BTiPl5Nd"
      },
      "source": [
        "¿ Como se puede estar seguro de que el modelo trabaja en el mundo real y funciona de manera optima?"
      ]
    },
    {
      "cell_type": "markdown",
      "metadata": {
        "id": "iDQnU-p0ZTya"
      },
      "source": [
        "### Training/Testing Sets"
      ]
    },
    {
      "cell_type": "markdown",
      "metadata": {
        "id": "isnInuXpZTyb"
      },
      "source": [
        "* Separar los datos entre un set de entrenamiento y un set de prueba\n",
        "* la mayor parte se asigna al conjunto de entrenamiento\n",
        "* El conjunto de entrenamiento se usa para construir el modelo y descubrir relaciones predictivas\n",
        "* El conjunto de prueba se usa para tener una idea de como el modelo va a funcionar en el mundo real\n"
      ]
    },
    {
      "cell_type": "markdown",
      "metadata": {
        "id": "9V1Jqyt4ZTyc"
      },
      "source": [
        "Entrenar un modelo estimador de regresion lineal simple"
      ]
    },
    {
      "cell_type": "code",
      "execution_count": null,
      "metadata": {
        "id": "0uAkgq5wlbZ4"
      },
      "outputs": [],
      "source": [
        "import pandas as pd\n",
        "from sklearn.linear_model import LinearRegression\n",
        "from sklearn.model_selection import train_test_split\n",
        "from sklearn.model_selection import cross_val_score, cross_val_predict\n",
        "from sklearn.preprocessing import PolynomialFeatures\n",
        "from sklearn.linear_model import Ridge\n",
        "from sklearn.model_selection import GridSearchCV"
      ]
    },
    {
      "cell_type": "code",
      "execution_count": null,
      "metadata": {
        "id": "0NU41Dp5lbZ8"
      },
      "outputs": [],
      "source": [
        "filename = \"https://cf-courses-data.s3.us.cloud-object-storage.appdomain.cloud/IBMDeveloperSkillsNetwork-DA0101EN-SkillsNetwork/labs/Data%20files/automobileEDA.csv\""
      ]
    },
    {
      "cell_type": "code",
      "execution_count": null,
      "metadata": {
        "id": "CJ7RMObzl5Ng"
      },
      "outputs": [],
      "source": [
        "df = pd.read_csv(filename)"
      ]
    },
    {
      "cell_type": "markdown",
      "metadata": {
        "id": "1qt6nJWql5Nh"
      },
      "source": [
        "Definir la variable predictor(X) y la variable objetivo(Y)"
      ]
    },
    {
      "cell_type": "code",
      "execution_count": null,
      "metadata": {
        "id": "-fu78MMmjRLV"
      },
      "outputs": [],
      "source": [
        "X = df.loc(axis=1)[df.columns != \"price\"]\n",
        "Z = df[[\"horsepower\",\"curb-weight\",\"engine-size\",\"highway-mpg\"]]\n",
        "Y = df[\"price\"]"
      ]
    },
    {
      "cell_type": "markdown",
      "metadata": {
        "id": "X4NaSskSZTyi"
      },
      "source": [
        "Separar la data en conjuntos aleatorios de entrenamiento y prueba"
      ]
    },
    {
      "cell_type": "code",
      "execution_count": null,
      "metadata": {
        "id": "suQbkddFZTyj"
      },
      "outputs": [],
      "source": [
        "x_train,x_test,y_train,y_test = train_test_split(Z,Y,test_size=0.3,random_state=0)"
      ]
    },
    {
      "cell_type": "code",
      "execution_count": null,
      "metadata": {
        "id": "QjUgJai2jRLX",
        "outputId": "f7e7ea98-a5b4-4283-cbeb-11c4c9203c32"
      },
      "outputs": [
        {
          "name": "stdout",
          "output_type": "stream",
          "text": [
            "(140, 4)\n",
            "(61, 4)\n",
            "(140,)\n",
            "(61,)\n"
          ]
        }
      ],
      "source": [
        "print(x_train.shape)\n",
        "print(x_test.shape)\n",
        "print(y_train.shape)\n",
        "print(y_test.shape)"
      ]
    },
    {
      "cell_type": "markdown",
      "metadata": {
        "id": "qXHyQiH8ZTyk"
      },
      "source": [
        "### Generalizacion"
      ]
    },
    {
      "cell_type": "markdown",
      "metadata": {
        "id": "qGXZqDeEjRLa"
      },
      "source": [
        "Error de generalizacion es una medida de que tan bien el modelo trabaja prediciendo data nunca antes vista:\n",
        "* El error que obtenemos usando nuestra data de prueba es una aproximacion de este error"
      ]
    },
    {
      "cell_type": "markdown",
      "metadata": {
        "id": "BFNYXSB6l5Nm"
      },
      "source": [
        "### Cross validation"
      ]
    },
    {
      "cell_type": "markdown",
      "metadata": {
        "id": "pco6AnKdjRLc"
      },
      "source": [
        "* Es la metrica mas comun de evaluacion fuera de muestra\n",
        "* Es una estrategia mas efectiva de usar los datos ya que cada observacon es usada tanto para entrenamiento y prueba"
      ]
    },
    {
      "cell_type": "code",
      "execution_count": null,
      "metadata": {
        "id": "cgbIwqrvjRLc"
      },
      "outputs": [],
      "source": [
        "#Crear un objeto estimador de regresion lineal\n",
        "lr = LinearRegression()"
      ]
    },
    {
      "cell_type": "code",
      "execution_count": null,
      "metadata": {
        "id": "eAAvi-u9l5No"
      },
      "outputs": [],
      "source": [
        "scores = cross_val_score(lr,x_train,y_train,cv=3)\n"
      ]
    },
    {
      "cell_type": "code",
      "execution_count": null,
      "metadata": {
        "id": "AnMB9PcSjRLd",
        "outputId": "bd7831c6-bb9e-4350-8028-10eef0ff6b3b"
      },
      "outputs": [
        {
          "data": {
            "text/plain": [
              "array([0.83796883, 0.74905543, 0.76091441])"
            ]
          },
          "execution_count": 45,
          "metadata": {},
          "output_type": "execute_result"
        }
      ],
      "source": [
        "scores"
      ]
    },
    {
      "cell_type": "markdown",
      "metadata": {
        "id": "Yzcw6DMEjRLe"
      },
      "source": [
        "Funcion cross_val_predict()\n",
        "* retorna la prediccion que fue obtenida por cada elemento cuando estaba en el conjunto de prueba"
      ]
    },
    {
      "cell_type": "code",
      "execution_count": null,
      "metadata": {
        "id": "xA7jrnCWl5Nq"
      },
      "outputs": [],
      "source": [
        "yhat = cross_val_predict(lr,x_train,y_train,cv=3)\n"
      ]
    },
    {
      "cell_type": "markdown",
      "metadata": {
        "id": "Uye2zYecZTyp"
      },
      "source": [
        "### Overfitting, Underfitting y seleccion del modelo"
      ]
    },
    {
      "cell_type": "markdown",
      "metadata": {
        "id": "EP3QaDJijRLf"
      },
      "source": [
        "Entrenar el modelo con diferentes ordenes polinomiales para ver cual se ajusta mejor a los datos calculando R2"
      ]
    },
    {
      "cell_type": "code",
      "execution_count": null,
      "metadata": {
        "id": "1qQr51ucZTyq"
      },
      "outputs": [],
      "source": [
        "order = [1,2,3,4]\n",
        "Rsqu_test = []\n",
        "for n in order:\n",
        "    pr = PolynomialFeatures(degree=n)\n",
        "    x_train_pr = pr.fit_transform(x_train[['horsepower']])\n",
        "    x_test_pr = pr.fit_transform(x_test[['horsepower']])\n",
        "\n",
        "    lr.fit(x_train_pr,y_train)\n",
        "    Rsqu_test.append(lr.score(x_test_pr,y_test))"
      ]
    },
    {
      "cell_type": "code",
      "execution_count": null,
      "metadata": {
        "id": "CPYsE0ZyjRLg",
        "outputId": "44d17c83-2824-4e03-85de-81208cfe2b03"
      },
      "outputs": [
        {
          "data": {
            "text/plain": [
              "[0.6958976563016213,\n",
              " 0.6970750162486514,\n",
              " 0.7038601610036697,\n",
              " 0.7047465788514722]"
            ]
          },
          "execution_count": 53,
          "metadata": {},
          "output_type": "execute_result"
        }
      ],
      "source": [
        "#Visualizar cual iteracion se ajusto a un mejor resultado del R2\n",
        "Rsqu_test"
      ]
    },
    {
      "cell_type": "markdown",
      "metadata": {
        "id": "jNUMm-tGZTyq"
      },
      "source": [
        "### Ridge Regression"
      ]
    },
    {
      "cell_type": "markdown",
      "metadata": {
        "id": "vaM4n7rUjRLh"
      },
      "source": [
        "* Este metodo ayuda a controlar el overfitting\n",
        "* Cuando se tienen polinomios de ordenes muy grandes, ayuda a reducir la magnitud de estos por medio de un parametro llamado alpha\n",
        "* Para seleccionar el mejor alpha, se usa cross validation"
      ]
    },
    {
      "cell_type": "code",
      "execution_count": null,
      "metadata": {
        "id": "xgqGTghrZTyr"
      },
      "outputs": [],
      "source": [
        "RidgeModel = Ridge(alpha=0.1)\n",
        "RidgeModel.fit(x_train,y_train)\n",
        "\n",
        "yhat = RidgeModel.predict(x_train)\n"
      ]
    },
    {
      "cell_type": "markdown",
      "metadata": {
        "id": "92stQ5wpZTyr"
      },
      "source": [
        "### Grid Search"
      ]
    },
    {
      "cell_type": "markdown",
      "metadata": {
        "id": "SrlvFx59jRLi"
      },
      "source": [
        "* sklearn tiene una estrategia para iterar automaticamente sobre los hiperparametros del modelo usando cross-validation, esto se llama grid search"
      ]
    },
    {
      "cell_type": "code",
      "execution_count": null,
      "metadata": {
        "id": "x8-RDtkLZTys",
        "outputId": "7c8be674-943e-4d7d-b7d3-3f38a170ede0"
      },
      "outputs": [
        {
          "data": {
            "text/html": [
              "<style>#sk-container-id-1 {color: black;background-color: white;}#sk-container-id-1 pre{padding: 0;}#sk-container-id-1 div.sk-toggleable {background-color: white;}#sk-container-id-1 label.sk-toggleable__label {cursor: pointer;display: block;width: 100%;margin-bottom: 0;padding: 0.3em;box-sizing: border-box;text-align: center;}#sk-container-id-1 label.sk-toggleable__label-arrow:before {content: \"▸\";float: left;margin-right: 0.25em;color: #696969;}#sk-container-id-1 label.sk-toggleable__label-arrow:hover:before {color: black;}#sk-container-id-1 div.sk-estimator:hover label.sk-toggleable__label-arrow:before {color: black;}#sk-container-id-1 div.sk-toggleable__content {max-height: 0;max-width: 0;overflow: hidden;text-align: left;background-color: #f0f8ff;}#sk-container-id-1 div.sk-toggleable__content pre {margin: 0.2em;color: black;border-radius: 0.25em;background-color: #f0f8ff;}#sk-container-id-1 input.sk-toggleable__control:checked~div.sk-toggleable__content {max-height: 200px;max-width: 100%;overflow: auto;}#sk-container-id-1 input.sk-toggleable__control:checked~label.sk-toggleable__label-arrow:before {content: \"▾\";}#sk-container-id-1 div.sk-estimator input.sk-toggleable__control:checked~label.sk-toggleable__label {background-color: #d4ebff;}#sk-container-id-1 div.sk-label input.sk-toggleable__control:checked~label.sk-toggleable__label {background-color: #d4ebff;}#sk-container-id-1 input.sk-hidden--visually {border: 0;clip: rect(1px 1px 1px 1px);clip: rect(1px, 1px, 1px, 1px);height: 1px;margin: -1px;overflow: hidden;padding: 0;position: absolute;width: 1px;}#sk-container-id-1 div.sk-estimator {font-family: monospace;background-color: #f0f8ff;border: 1px dotted black;border-radius: 0.25em;box-sizing: border-box;margin-bottom: 0.5em;}#sk-container-id-1 div.sk-estimator:hover {background-color: #d4ebff;}#sk-container-id-1 div.sk-parallel-item::after {content: \"\";width: 100%;border-bottom: 1px solid gray;flex-grow: 1;}#sk-container-id-1 div.sk-label:hover label.sk-toggleable__label {background-color: #d4ebff;}#sk-container-id-1 div.sk-serial::before {content: \"\";position: absolute;border-left: 1px solid gray;box-sizing: border-box;top: 0;bottom: 0;left: 50%;z-index: 0;}#sk-container-id-1 div.sk-serial {display: flex;flex-direction: column;align-items: center;background-color: white;padding-right: 0.2em;padding-left: 0.2em;position: relative;}#sk-container-id-1 div.sk-item {position: relative;z-index: 1;}#sk-container-id-1 div.sk-parallel {display: flex;align-items: stretch;justify-content: center;background-color: white;position: relative;}#sk-container-id-1 div.sk-item::before, #sk-container-id-1 div.sk-parallel-item::before {content: \"\";position: absolute;border-left: 1px solid gray;box-sizing: border-box;top: 0;bottom: 0;left: 50%;z-index: -1;}#sk-container-id-1 div.sk-parallel-item {display: flex;flex-direction: column;z-index: 1;position: relative;background-color: white;}#sk-container-id-1 div.sk-parallel-item:first-child::after {align-self: flex-end;width: 50%;}#sk-container-id-1 div.sk-parallel-item:last-child::after {align-self: flex-start;width: 50%;}#sk-container-id-1 div.sk-parallel-item:only-child::after {width: 0;}#sk-container-id-1 div.sk-dashed-wrapped {border: 1px dashed gray;margin: 0 0.4em 0.5em 0.4em;box-sizing: border-box;padding-bottom: 0.4em;background-color: white;}#sk-container-id-1 div.sk-label label {font-family: monospace;font-weight: bold;display: inline-block;line-height: 1.2em;}#sk-container-id-1 div.sk-label-container {text-align: center;}#sk-container-id-1 div.sk-container {/* jupyter's `normalize.less` sets `[hidden] { display: none; }` but bootstrap.min.css set `[hidden] { display: none !important; }` so we also need the `!important` here to be able to override the default hidden behavior on the sphinx rendered scikit-learn.org. See: https://github.com/scikit-learn/scikit-learn/issues/21755 */display: inline-block !important;position: relative;}#sk-container-id-1 div.sk-text-repr-fallback {display: none;}</style><div id=\"sk-container-id-1\" class=\"sk-top-container\"><div class=\"sk-text-repr-fallback\"><pre>GridSearchCV(cv=4, estimator=Ridge(),\n",
              "             param_grid=[{&#x27;alpha&#x27;: [0.001, 0.1, 1, 10, 100, 1000, 10000, 100000,\n",
              "                                    1000000]}])</pre><b>In a Jupyter environment, please rerun this cell to show the HTML representation or trust the notebook. <br />On GitHub, the HTML representation is unable to render, please try loading this page with nbviewer.org.</b></div><div class=\"sk-container\" hidden><div class=\"sk-item sk-dashed-wrapped\"><div class=\"sk-label-container\"><div class=\"sk-label sk-toggleable\"><input class=\"sk-toggleable__control sk-hidden--visually\" id=\"sk-estimator-id-1\" type=\"checkbox\" ><label for=\"sk-estimator-id-1\" class=\"sk-toggleable__label sk-toggleable__label-arrow\">GridSearchCV</label><div class=\"sk-toggleable__content\"><pre>GridSearchCV(cv=4, estimator=Ridge(),\n",
              "             param_grid=[{&#x27;alpha&#x27;: [0.001, 0.1, 1, 10, 100, 1000, 10000, 100000,\n",
              "                                    1000000]}])</pre></div></div></div><div class=\"sk-parallel\"><div class=\"sk-parallel-item\"><div class=\"sk-item\"><div class=\"sk-label-container\"><div class=\"sk-label sk-toggleable\"><input class=\"sk-toggleable__control sk-hidden--visually\" id=\"sk-estimator-id-2\" type=\"checkbox\" ><label for=\"sk-estimator-id-2\" class=\"sk-toggleable__label sk-toggleable__label-arrow\">estimator: Ridge</label><div class=\"sk-toggleable__content\"><pre>Ridge()</pre></div></div></div><div class=\"sk-serial\"><div class=\"sk-item\"><div class=\"sk-estimator sk-toggleable\"><input class=\"sk-toggleable__control sk-hidden--visually\" id=\"sk-estimator-id-3\" type=\"checkbox\" ><label for=\"sk-estimator-id-3\" class=\"sk-toggleable__label sk-toggleable__label-arrow\">Ridge</label><div class=\"sk-toggleable__content\"><pre>Ridge()</pre></div></div></div></div></div></div></div></div></div></div>"
            ],
            "text/plain": [
              "GridSearchCV(cv=4, estimator=Ridge(),\n",
              "             param_grid=[{'alpha': [0.001, 0.1, 1, 10, 100, 1000, 10000, 100000,\n",
              "                                    1000000]}])"
            ]
          },
          "execution_count": 58,
          "metadata": {},
          "output_type": "execute_result"
        }
      ],
      "source": [
        "parameters1 = [\n",
        "    {'alpha':[0.001,0.1,1,10,100,1000,10000,100000,1000000]}\n",
        "]\n",
        "\n",
        "RR = Ridge()\n",
        "\n",
        "Grid1 = GridSearchCV(RR,parameters1,cv=4) #El metodo por defecto de scoring es R2\n",
        "\n",
        "Grid1.fit(x_train,y_train)\n",
        "\n"
      ]
    },
    {
      "cell_type": "markdown",
      "metadata": {
        "id": "GdjzAwp1jRLj"
      },
      "source": [
        "Obtener mejor estimador con el mejor parametro alpha encontrado"
      ]
    },
    {
      "cell_type": "code",
      "execution_count": null,
      "metadata": {
        "id": "RZhNXR5mjRLk",
        "outputId": "572a27b1-cfac-4f60-96d3-4bb4ef897bf4"
      },
      "outputs": [
        {
          "data": {
            "text/html": [
              "<style>#sk-container-id-2 {color: black;background-color: white;}#sk-container-id-2 pre{padding: 0;}#sk-container-id-2 div.sk-toggleable {background-color: white;}#sk-container-id-2 label.sk-toggleable__label {cursor: pointer;display: block;width: 100%;margin-bottom: 0;padding: 0.3em;box-sizing: border-box;text-align: center;}#sk-container-id-2 label.sk-toggleable__label-arrow:before {content: \"▸\";float: left;margin-right: 0.25em;color: #696969;}#sk-container-id-2 label.sk-toggleable__label-arrow:hover:before {color: black;}#sk-container-id-2 div.sk-estimator:hover label.sk-toggleable__label-arrow:before {color: black;}#sk-container-id-2 div.sk-toggleable__content {max-height: 0;max-width: 0;overflow: hidden;text-align: left;background-color: #f0f8ff;}#sk-container-id-2 div.sk-toggleable__content pre {margin: 0.2em;color: black;border-radius: 0.25em;background-color: #f0f8ff;}#sk-container-id-2 input.sk-toggleable__control:checked~div.sk-toggleable__content {max-height: 200px;max-width: 100%;overflow: auto;}#sk-container-id-2 input.sk-toggleable__control:checked~label.sk-toggleable__label-arrow:before {content: \"▾\";}#sk-container-id-2 div.sk-estimator input.sk-toggleable__control:checked~label.sk-toggleable__label {background-color: #d4ebff;}#sk-container-id-2 div.sk-label input.sk-toggleable__control:checked~label.sk-toggleable__label {background-color: #d4ebff;}#sk-container-id-2 input.sk-hidden--visually {border: 0;clip: rect(1px 1px 1px 1px);clip: rect(1px, 1px, 1px, 1px);height: 1px;margin: -1px;overflow: hidden;padding: 0;position: absolute;width: 1px;}#sk-container-id-2 div.sk-estimator {font-family: monospace;background-color: #f0f8ff;border: 1px dotted black;border-radius: 0.25em;box-sizing: border-box;margin-bottom: 0.5em;}#sk-container-id-2 div.sk-estimator:hover {background-color: #d4ebff;}#sk-container-id-2 div.sk-parallel-item::after {content: \"\";width: 100%;border-bottom: 1px solid gray;flex-grow: 1;}#sk-container-id-2 div.sk-label:hover label.sk-toggleable__label {background-color: #d4ebff;}#sk-container-id-2 div.sk-serial::before {content: \"\";position: absolute;border-left: 1px solid gray;box-sizing: border-box;top: 0;bottom: 0;left: 50%;z-index: 0;}#sk-container-id-2 div.sk-serial {display: flex;flex-direction: column;align-items: center;background-color: white;padding-right: 0.2em;padding-left: 0.2em;position: relative;}#sk-container-id-2 div.sk-item {position: relative;z-index: 1;}#sk-container-id-2 div.sk-parallel {display: flex;align-items: stretch;justify-content: center;background-color: white;position: relative;}#sk-container-id-2 div.sk-item::before, #sk-container-id-2 div.sk-parallel-item::before {content: \"\";position: absolute;border-left: 1px solid gray;box-sizing: border-box;top: 0;bottom: 0;left: 50%;z-index: -1;}#sk-container-id-2 div.sk-parallel-item {display: flex;flex-direction: column;z-index: 1;position: relative;background-color: white;}#sk-container-id-2 div.sk-parallel-item:first-child::after {align-self: flex-end;width: 50%;}#sk-container-id-2 div.sk-parallel-item:last-child::after {align-self: flex-start;width: 50%;}#sk-container-id-2 div.sk-parallel-item:only-child::after {width: 0;}#sk-container-id-2 div.sk-dashed-wrapped {border: 1px dashed gray;margin: 0 0.4em 0.5em 0.4em;box-sizing: border-box;padding-bottom: 0.4em;background-color: white;}#sk-container-id-2 div.sk-label label {font-family: monospace;font-weight: bold;display: inline-block;line-height: 1.2em;}#sk-container-id-2 div.sk-label-container {text-align: center;}#sk-container-id-2 div.sk-container {/* jupyter's `normalize.less` sets `[hidden] { display: none; }` but bootstrap.min.css set `[hidden] { display: none !important; }` so we also need the `!important` here to be able to override the default hidden behavior on the sphinx rendered scikit-learn.org. See: https://github.com/scikit-learn/scikit-learn/issues/21755 */display: inline-block !important;position: relative;}#sk-container-id-2 div.sk-text-repr-fallback {display: none;}</style><div id=\"sk-container-id-2\" class=\"sk-top-container\"><div class=\"sk-text-repr-fallback\"><pre>Ridge(alpha=10000)</pre><b>In a Jupyter environment, please rerun this cell to show the HTML representation or trust the notebook. <br />On GitHub, the HTML representation is unable to render, please try loading this page with nbviewer.org.</b></div><div class=\"sk-container\" hidden><div class=\"sk-item\"><div class=\"sk-estimator sk-toggleable\"><input class=\"sk-toggleable__control sk-hidden--visually\" id=\"sk-estimator-id-4\" type=\"checkbox\" checked><label for=\"sk-estimator-id-4\" class=\"sk-toggleable__label sk-toggleable__label-arrow\">Ridge</label><div class=\"sk-toggleable__content\"><pre>Ridge(alpha=10000)</pre></div></div></div></div></div>"
            ],
            "text/plain": [
              "Ridge(alpha=10000)"
            ]
          },
          "execution_count": 59,
          "metadata": {},
          "output_type": "execute_result"
        }
      ],
      "source": [
        "Grid1.best_estimator_\n"
      ]
    },
    {
      "cell_type": "markdown",
      "metadata": {
        "id": "Pki19sskjRLk"
      },
      "source": [
        "Obtener scores de cada una de las iteraciones de alpha"
      ]
    },
    {
      "cell_type": "code",
      "execution_count": null,
      "metadata": {
        "id": "IpVWZK9-jRLl",
        "outputId": "36173408-860a-4093-ff73-69f4c5cf9bd1"
      },
      "outputs": [
        {
          "data": {
            "text/plain": [
              "array([0.78948114, 0.78948134, 0.7894831 , 0.78950062, 0.78966216,\n",
              "       0.79060737, 0.79251935, 0.78021059, 0.75876238])"
            ]
          },
          "execution_count": 60,
          "metadata": {},
          "output_type": "execute_result"
        }
      ],
      "source": [
        "scores = Grid1.cv_results_\n",
        "\n",
        "scores['mean_test_score']"
      ]
    },
    {
      "cell_type": "markdown",
      "metadata": {
        "id": "ZkBhSdqDjRLl"
      },
      "source": [
        "Incluir Mas hyperparametros al grid search"
      ]
    },
    {
      "cell_type": "code",
      "execution_count": null,
      "metadata": {
        "id": "KTUSvkcrjRLm",
        "outputId": "c5219fb8-2bb5-423a-eb0f-91b3101ad065"
      },
      "outputs": [
        {
          "name": "stderr",
          "output_type": "stream",
          "text": [
            "c:\\Users\\Diego Olarte\\AppData\\Local\\Programs\\Python\\Python310\\lib\\site-packages\\sklearn\\linear_model\\_base.py:141: FutureWarning: 'normalize' was deprecated in version 1.0 and will be removed in 1.2.\n",
            "If you wish to scale the data, use Pipeline with a StandardScaler in a preprocessing stage. To reproduce the previous behavior:\n",
            "\n",
            "from sklearn.pipeline import make_pipeline\n",
            "\n",
            "model = make_pipeline(StandardScaler(with_mean=False), Ridge())\n",
            "\n",
            "If you wish to pass a sample_weight parameter, you need to pass it as a fit parameter to each step of the pipeline as follows:\n",
            "\n",
            "kwargs = {s[0] + '__sample_weight': sample_weight for s in model.steps}\n",
            "model.fit(X, y, **kwargs)\n",
            "\n",
            "Set parameter alpha to: original_alpha * n_samples. \n",
            "  warnings.warn(\n",
            "c:\\Users\\Diego Olarte\\AppData\\Local\\Programs\\Python\\Python310\\lib\\site-packages\\sklearn\\linear_model\\_base.py:141: FutureWarning: 'normalize' was deprecated in version 1.0 and will be removed in 1.2.\n",
            "If you wish to scale the data, use Pipeline with a StandardScaler in a preprocessing stage. To reproduce the previous behavior:\n",
            "\n",
            "from sklearn.pipeline import make_pipeline\n",
            "\n",
            "model = make_pipeline(StandardScaler(with_mean=False), Ridge())\n",
            "\n",
            "If you wish to pass a sample_weight parameter, you need to pass it as a fit parameter to each step of the pipeline as follows:\n",
            "\n",
            "kwargs = {s[0] + '__sample_weight': sample_weight for s in model.steps}\n",
            "model.fit(X, y, **kwargs)\n",
            "\n",
            "Set parameter alpha to: original_alpha * n_samples. \n",
            "  warnings.warn(\n",
            "c:\\Users\\Diego Olarte\\AppData\\Local\\Programs\\Python\\Python310\\lib\\site-packages\\sklearn\\linear_model\\_base.py:141: FutureWarning: 'normalize' was deprecated in version 1.0 and will be removed in 1.2.\n",
            "If you wish to scale the data, use Pipeline with a StandardScaler in a preprocessing stage. To reproduce the previous behavior:\n",
            "\n",
            "from sklearn.pipeline import make_pipeline\n",
            "\n",
            "model = make_pipeline(StandardScaler(with_mean=False), Ridge())\n",
            "\n",
            "If you wish to pass a sample_weight parameter, you need to pass it as a fit parameter to each step of the pipeline as follows:\n",
            "\n",
            "kwargs = {s[0] + '__sample_weight': sample_weight for s in model.steps}\n",
            "model.fit(X, y, **kwargs)\n",
            "\n",
            "Set parameter alpha to: original_alpha * n_samples. \n",
            "  warnings.warn(\n",
            "c:\\Users\\Diego Olarte\\AppData\\Local\\Programs\\Python\\Python310\\lib\\site-packages\\sklearn\\linear_model\\_base.py:141: FutureWarning: 'normalize' was deprecated in version 1.0 and will be removed in 1.2.\n",
            "If you wish to scale the data, use Pipeline with a StandardScaler in a preprocessing stage. To reproduce the previous behavior:\n",
            "\n",
            "from sklearn.pipeline import make_pipeline\n",
            "\n",
            "model = make_pipeline(StandardScaler(with_mean=False), Ridge())\n",
            "\n",
            "If you wish to pass a sample_weight parameter, you need to pass it as a fit parameter to each step of the pipeline as follows:\n",
            "\n",
            "kwargs = {s[0] + '__sample_weight': sample_weight for s in model.steps}\n",
            "model.fit(X, y, **kwargs)\n",
            "\n",
            "Set parameter alpha to: original_alpha * n_samples. \n",
            "  warnings.warn(\n",
            "c:\\Users\\Diego Olarte\\AppData\\Local\\Programs\\Python\\Python310\\lib\\site-packages\\sklearn\\linear_model\\_base.py:148: FutureWarning: 'normalize' was deprecated in version 1.0 and will be removed in 1.2. Please leave the normalize parameter to its default value to silence this warning. The default behavior of this estimator is to not do any normalization. If normalization is needed please use sklearn.preprocessing.StandardScaler instead.\n",
            "  warnings.warn(\n",
            "c:\\Users\\Diego Olarte\\AppData\\Local\\Programs\\Python\\Python310\\lib\\site-packages\\sklearn\\linear_model\\_base.py:148: FutureWarning: 'normalize' was deprecated in version 1.0 and will be removed in 1.2. Please leave the normalize parameter to its default value to silence this warning. The default behavior of this estimator is to not do any normalization. If normalization is needed please use sklearn.preprocessing.StandardScaler instead.\n",
            "  warnings.warn(\n",
            "c:\\Users\\Diego Olarte\\AppData\\Local\\Programs\\Python\\Python310\\lib\\site-packages\\sklearn\\linear_model\\_base.py:148: FutureWarning: 'normalize' was deprecated in version 1.0 and will be removed in 1.2. Please leave the normalize parameter to its default value to silence this warning. The default behavior of this estimator is to not do any normalization. If normalization is needed please use sklearn.preprocessing.StandardScaler instead.\n",
            "  warnings.warn(\n",
            "c:\\Users\\Diego Olarte\\AppData\\Local\\Programs\\Python\\Python310\\lib\\site-packages\\sklearn\\linear_model\\_base.py:148: FutureWarning: 'normalize' was deprecated in version 1.0 and will be removed in 1.2. Please leave the normalize parameter to its default value to silence this warning. The default behavior of this estimator is to not do any normalization. If normalization is needed please use sklearn.preprocessing.StandardScaler instead.\n",
            "  warnings.warn(\n",
            "c:\\Users\\Diego Olarte\\AppData\\Local\\Programs\\Python\\Python310\\lib\\site-packages\\sklearn\\linear_model\\_base.py:141: FutureWarning: 'normalize' was deprecated in version 1.0 and will be removed in 1.2.\n",
            "If you wish to scale the data, use Pipeline with a StandardScaler in a preprocessing stage. To reproduce the previous behavior:\n",
            "\n",
            "from sklearn.pipeline import make_pipeline\n",
            "\n",
            "model = make_pipeline(StandardScaler(with_mean=False), Ridge())\n",
            "\n",
            "If you wish to pass a sample_weight parameter, you need to pass it as a fit parameter to each step of the pipeline as follows:\n",
            "\n",
            "kwargs = {s[0] + '__sample_weight': sample_weight for s in model.steps}\n",
            "model.fit(X, y, **kwargs)\n",
            "\n",
            "Set parameter alpha to: original_alpha * n_samples. \n",
            "  warnings.warn(\n",
            "c:\\Users\\Diego Olarte\\AppData\\Local\\Programs\\Python\\Python310\\lib\\site-packages\\sklearn\\linear_model\\_base.py:141: FutureWarning: 'normalize' was deprecated in version 1.0 and will be removed in 1.2.\n",
            "If you wish to scale the data, use Pipeline with a StandardScaler in a preprocessing stage. To reproduce the previous behavior:\n",
            "\n",
            "from sklearn.pipeline import make_pipeline\n",
            "\n",
            "model = make_pipeline(StandardScaler(with_mean=False), Ridge())\n",
            "\n",
            "If you wish to pass a sample_weight parameter, you need to pass it as a fit parameter to each step of the pipeline as follows:\n",
            "\n",
            "kwargs = {s[0] + '__sample_weight': sample_weight for s in model.steps}\n",
            "model.fit(X, y, **kwargs)\n",
            "\n",
            "Set parameter alpha to: original_alpha * n_samples. \n",
            "  warnings.warn(\n",
            "c:\\Users\\Diego Olarte\\AppData\\Local\\Programs\\Python\\Python310\\lib\\site-packages\\sklearn\\linear_model\\_base.py:141: FutureWarning: 'normalize' was deprecated in version 1.0 and will be removed in 1.2.\n",
            "If you wish to scale the data, use Pipeline with a StandardScaler in a preprocessing stage. To reproduce the previous behavior:\n",
            "\n",
            "from sklearn.pipeline import make_pipeline\n",
            "\n",
            "model = make_pipeline(StandardScaler(with_mean=False), Ridge())\n",
            "\n",
            "If you wish to pass a sample_weight parameter, you need to pass it as a fit parameter to each step of the pipeline as follows:\n",
            "\n",
            "kwargs = {s[0] + '__sample_weight': sample_weight for s in model.steps}\n",
            "model.fit(X, y, **kwargs)\n",
            "\n",
            "Set parameter alpha to: original_alpha * n_samples. \n",
            "  warnings.warn(\n",
            "c:\\Users\\Diego Olarte\\AppData\\Local\\Programs\\Python\\Python310\\lib\\site-packages\\sklearn\\linear_model\\_base.py:141: FutureWarning: 'normalize' was deprecated in version 1.0 and will be removed in 1.2.\n",
            "If you wish to scale the data, use Pipeline with a StandardScaler in a preprocessing stage. To reproduce the previous behavior:\n",
            "\n",
            "from sklearn.pipeline import make_pipeline\n",
            "\n",
            "model = make_pipeline(StandardScaler(with_mean=False), Ridge())\n",
            "\n",
            "If you wish to pass a sample_weight parameter, you need to pass it as a fit parameter to each step of the pipeline as follows:\n",
            "\n",
            "kwargs = {s[0] + '__sample_weight': sample_weight for s in model.steps}\n",
            "model.fit(X, y, **kwargs)\n",
            "\n",
            "Set parameter alpha to: original_alpha * n_samples. \n",
            "  warnings.warn(\n",
            "c:\\Users\\Diego Olarte\\AppData\\Local\\Programs\\Python\\Python310\\lib\\site-packages\\sklearn\\linear_model\\_base.py:148: FutureWarning: 'normalize' was deprecated in version 1.0 and will be removed in 1.2. Please leave the normalize parameter to its default value to silence this warning. The default behavior of this estimator is to not do any normalization. If normalization is needed please use sklearn.preprocessing.StandardScaler instead.\n",
            "  warnings.warn(\n",
            "c:\\Users\\Diego Olarte\\AppData\\Local\\Programs\\Python\\Python310\\lib\\site-packages\\sklearn\\linear_model\\_base.py:148: FutureWarning: 'normalize' was deprecated in version 1.0 and will be removed in 1.2. Please leave the normalize parameter to its default value to silence this warning. The default behavior of this estimator is to not do any normalization. If normalization is needed please use sklearn.preprocessing.StandardScaler instead.\n",
            "  warnings.warn(\n",
            "c:\\Users\\Diego Olarte\\AppData\\Local\\Programs\\Python\\Python310\\lib\\site-packages\\sklearn\\linear_model\\_base.py:148: FutureWarning: 'normalize' was deprecated in version 1.0 and will be removed in 1.2. Please leave the normalize parameter to its default value to silence this warning. The default behavior of this estimator is to not do any normalization. If normalization is needed please use sklearn.preprocessing.StandardScaler instead.\n",
            "  warnings.warn(\n",
            "c:\\Users\\Diego Olarte\\AppData\\Local\\Programs\\Python\\Python310\\lib\\site-packages\\sklearn\\linear_model\\_base.py:148: FutureWarning: 'normalize' was deprecated in version 1.0 and will be removed in 1.2. Please leave the normalize parameter to its default value to silence this warning. The default behavior of this estimator is to not do any normalization. If normalization is needed please use sklearn.preprocessing.StandardScaler instead.\n",
            "  warnings.warn(\n",
            "c:\\Users\\Diego Olarte\\AppData\\Local\\Programs\\Python\\Python310\\lib\\site-packages\\sklearn\\linear_model\\_base.py:141: FutureWarning: 'normalize' was deprecated in version 1.0 and will be removed in 1.2.\n",
            "If you wish to scale the data, use Pipeline with a StandardScaler in a preprocessing stage. To reproduce the previous behavior:\n",
            "\n",
            "from sklearn.pipeline import make_pipeline\n",
            "\n",
            "model = make_pipeline(StandardScaler(with_mean=False), Ridge())\n",
            "\n",
            "If you wish to pass a sample_weight parameter, you need to pass it as a fit parameter to each step of the pipeline as follows:\n",
            "\n",
            "kwargs = {s[0] + '__sample_weight': sample_weight for s in model.steps}\n",
            "model.fit(X, y, **kwargs)\n",
            "\n",
            "Set parameter alpha to: original_alpha * n_samples. \n",
            "  warnings.warn(\n",
            "c:\\Users\\Diego Olarte\\AppData\\Local\\Programs\\Python\\Python310\\lib\\site-packages\\sklearn\\linear_model\\_base.py:141: FutureWarning: 'normalize' was deprecated in version 1.0 and will be removed in 1.2.\n",
            "If you wish to scale the data, use Pipeline with a StandardScaler in a preprocessing stage. To reproduce the previous behavior:\n",
            "\n",
            "from sklearn.pipeline import make_pipeline\n",
            "\n",
            "model = make_pipeline(StandardScaler(with_mean=False), Ridge())\n",
            "\n",
            "If you wish to pass a sample_weight parameter, you need to pass it as a fit parameter to each step of the pipeline as follows:\n",
            "\n",
            "kwargs = {s[0] + '__sample_weight': sample_weight for s in model.steps}\n",
            "model.fit(X, y, **kwargs)\n",
            "\n",
            "Set parameter alpha to: original_alpha * n_samples. \n",
            "  warnings.warn(\n",
            "c:\\Users\\Diego Olarte\\AppData\\Local\\Programs\\Python\\Python310\\lib\\site-packages\\sklearn\\linear_model\\_base.py:141: FutureWarning: 'normalize' was deprecated in version 1.0 and will be removed in 1.2.\n",
            "If you wish to scale the data, use Pipeline with a StandardScaler in a preprocessing stage. To reproduce the previous behavior:\n",
            "\n",
            "from sklearn.pipeline import make_pipeline\n",
            "\n",
            "model = make_pipeline(StandardScaler(with_mean=False), Ridge())\n",
            "\n",
            "If you wish to pass a sample_weight parameter, you need to pass it as a fit parameter to each step of the pipeline as follows:\n",
            "\n",
            "kwargs = {s[0] + '__sample_weight': sample_weight for s in model.steps}\n",
            "model.fit(X, y, **kwargs)\n",
            "\n",
            "Set parameter alpha to: original_alpha * n_samples. \n",
            "  warnings.warn(\n",
            "c:\\Users\\Diego Olarte\\AppData\\Local\\Programs\\Python\\Python310\\lib\\site-packages\\sklearn\\linear_model\\_base.py:141: FutureWarning: 'normalize' was deprecated in version 1.0 and will be removed in 1.2.\n",
            "If you wish to scale the data, use Pipeline with a StandardScaler in a preprocessing stage. To reproduce the previous behavior:\n",
            "\n",
            "from sklearn.pipeline import make_pipeline\n",
            "\n",
            "model = make_pipeline(StandardScaler(with_mean=False), Ridge())\n",
            "\n",
            "If you wish to pass a sample_weight parameter, you need to pass it as a fit parameter to each step of the pipeline as follows:\n",
            "\n",
            "kwargs = {s[0] + '__sample_weight': sample_weight for s in model.steps}\n",
            "model.fit(X, y, **kwargs)\n",
            "\n",
            "Set parameter alpha to: original_alpha * n_samples. \n",
            "  warnings.warn(\n",
            "c:\\Users\\Diego Olarte\\AppData\\Local\\Programs\\Python\\Python310\\lib\\site-packages\\sklearn\\linear_model\\_base.py:148: FutureWarning: 'normalize' was deprecated in version 1.0 and will be removed in 1.2. Please leave the normalize parameter to its default value to silence this warning. The default behavior of this estimator is to not do any normalization. If normalization is needed please use sklearn.preprocessing.StandardScaler instead.\n",
            "  warnings.warn(\n",
            "c:\\Users\\Diego Olarte\\AppData\\Local\\Programs\\Python\\Python310\\lib\\site-packages\\sklearn\\linear_model\\_base.py:148: FutureWarning: 'normalize' was deprecated in version 1.0 and will be removed in 1.2. Please leave the normalize parameter to its default value to silence this warning. The default behavior of this estimator is to not do any normalization. If normalization is needed please use sklearn.preprocessing.StandardScaler instead.\n",
            "  warnings.warn(\n",
            "c:\\Users\\Diego Olarte\\AppData\\Local\\Programs\\Python\\Python310\\lib\\site-packages\\sklearn\\linear_model\\_base.py:148: FutureWarning: 'normalize' was deprecated in version 1.0 and will be removed in 1.2. Please leave the normalize parameter to its default value to silence this warning. The default behavior of this estimator is to not do any normalization. If normalization is needed please use sklearn.preprocessing.StandardScaler instead.\n",
            "  warnings.warn(\n",
            "c:\\Users\\Diego Olarte\\AppData\\Local\\Programs\\Python\\Python310\\lib\\site-packages\\sklearn\\linear_model\\_base.py:148: FutureWarning: 'normalize' was deprecated in version 1.0 and will be removed in 1.2. Please leave the normalize parameter to its default value to silence this warning. The default behavior of this estimator is to not do any normalization. If normalization is needed please use sklearn.preprocessing.StandardScaler instead.\n",
            "  warnings.warn(\n",
            "c:\\Users\\Diego Olarte\\AppData\\Local\\Programs\\Python\\Python310\\lib\\site-packages\\sklearn\\linear_model\\_base.py:141: FutureWarning: 'normalize' was deprecated in version 1.0 and will be removed in 1.2.\n",
            "If you wish to scale the data, use Pipeline with a StandardScaler in a preprocessing stage. To reproduce the previous behavior:\n",
            "\n",
            "from sklearn.pipeline import make_pipeline\n",
            "\n",
            "model = make_pipeline(StandardScaler(with_mean=False), Ridge())\n",
            "\n",
            "If you wish to pass a sample_weight parameter, you need to pass it as a fit parameter to each step of the pipeline as follows:\n",
            "\n",
            "kwargs = {s[0] + '__sample_weight': sample_weight for s in model.steps}\n",
            "model.fit(X, y, **kwargs)\n",
            "\n",
            "Set parameter alpha to: original_alpha * n_samples. \n",
            "  warnings.warn(\n",
            "c:\\Users\\Diego Olarte\\AppData\\Local\\Programs\\Python\\Python310\\lib\\site-packages\\sklearn\\linear_model\\_base.py:141: FutureWarning: 'normalize' was deprecated in version 1.0 and will be removed in 1.2.\n",
            "If you wish to scale the data, use Pipeline with a StandardScaler in a preprocessing stage. To reproduce the previous behavior:\n",
            "\n",
            "from sklearn.pipeline import make_pipeline\n",
            "\n",
            "model = make_pipeline(StandardScaler(with_mean=False), Ridge())\n",
            "\n",
            "If you wish to pass a sample_weight parameter, you need to pass it as a fit parameter to each step of the pipeline as follows:\n",
            "\n",
            "kwargs = {s[0] + '__sample_weight': sample_weight for s in model.steps}\n",
            "model.fit(X, y, **kwargs)\n",
            "\n",
            "Set parameter alpha to: original_alpha * n_samples. \n",
            "  warnings.warn(\n",
            "c:\\Users\\Diego Olarte\\AppData\\Local\\Programs\\Python\\Python310\\lib\\site-packages\\sklearn\\linear_model\\_base.py:141: FutureWarning: 'normalize' was deprecated in version 1.0 and will be removed in 1.2.\n",
            "If you wish to scale the data, use Pipeline with a StandardScaler in a preprocessing stage. To reproduce the previous behavior:\n",
            "\n",
            "from sklearn.pipeline import make_pipeline\n",
            "\n",
            "model = make_pipeline(StandardScaler(with_mean=False), Ridge())\n",
            "\n",
            "If you wish to pass a sample_weight parameter, you need to pass it as a fit parameter to each step of the pipeline as follows:\n",
            "\n",
            "kwargs = {s[0] + '__sample_weight': sample_weight for s in model.steps}\n",
            "model.fit(X, y, **kwargs)\n",
            "\n",
            "Set parameter alpha to: original_alpha * n_samples. \n",
            "  warnings.warn(\n",
            "c:\\Users\\Diego Olarte\\AppData\\Local\\Programs\\Python\\Python310\\lib\\site-packages\\sklearn\\linear_model\\_base.py:141: FutureWarning: 'normalize' was deprecated in version 1.0 and will be removed in 1.2.\n",
            "If you wish to scale the data, use Pipeline with a StandardScaler in a preprocessing stage. To reproduce the previous behavior:\n",
            "\n",
            "from sklearn.pipeline import make_pipeline\n",
            "\n",
            "model = make_pipeline(StandardScaler(with_mean=False), Ridge())\n",
            "\n",
            "If you wish to pass a sample_weight parameter, you need to pass it as a fit parameter to each step of the pipeline as follows:\n",
            "\n",
            "kwargs = {s[0] + '__sample_weight': sample_weight for s in model.steps}\n",
            "model.fit(X, y, **kwargs)\n",
            "\n",
            "Set parameter alpha to: original_alpha * n_samples. \n",
            "  warnings.warn(\n",
            "c:\\Users\\Diego Olarte\\AppData\\Local\\Programs\\Python\\Python310\\lib\\site-packages\\sklearn\\linear_model\\_base.py:148: FutureWarning: 'normalize' was deprecated in version 1.0 and will be removed in 1.2. Please leave the normalize parameter to its default value to silence this warning. The default behavior of this estimator is to not do any normalization. If normalization is needed please use sklearn.preprocessing.StandardScaler instead.\n",
            "  warnings.warn(\n",
            "c:\\Users\\Diego Olarte\\AppData\\Local\\Programs\\Python\\Python310\\lib\\site-packages\\sklearn\\linear_model\\_base.py:148: FutureWarning: 'normalize' was deprecated in version 1.0 and will be removed in 1.2. Please leave the normalize parameter to its default value to silence this warning. The default behavior of this estimator is to not do any normalization. If normalization is needed please use sklearn.preprocessing.StandardScaler instead.\n",
            "  warnings.warn(\n",
            "c:\\Users\\Diego Olarte\\AppData\\Local\\Programs\\Python\\Python310\\lib\\site-packages\\sklearn\\linear_model\\_base.py:148: FutureWarning: 'normalize' was deprecated in version 1.0 and will be removed in 1.2. Please leave the normalize parameter to its default value to silence this warning. The default behavior of this estimator is to not do any normalization. If normalization is needed please use sklearn.preprocessing.StandardScaler instead.\n",
            "  warnings.warn(\n",
            "c:\\Users\\Diego Olarte\\AppData\\Local\\Programs\\Python\\Python310\\lib\\site-packages\\sklearn\\linear_model\\_base.py:148: FutureWarning: 'normalize' was deprecated in version 1.0 and will be removed in 1.2. Please leave the normalize parameter to its default value to silence this warning. The default behavior of this estimator is to not do any normalization. If normalization is needed please use sklearn.preprocessing.StandardScaler instead.\n",
            "  warnings.warn(\n",
            "c:\\Users\\Diego Olarte\\AppData\\Local\\Programs\\Python\\Python310\\lib\\site-packages\\sklearn\\linear_model\\_base.py:148: FutureWarning: 'normalize' was deprecated in version 1.0 and will be removed in 1.2. Please leave the normalize parameter to its default value to silence this warning. The default behavior of this estimator is to not do any normalization. If normalization is needed please use sklearn.preprocessing.StandardScaler instead.\n",
            "  warnings.warn(\n"
          ]
        },
        {
          "data": {
            "text/html": [
              "<style>#sk-container-id-3 {color: black;background-color: white;}#sk-container-id-3 pre{padding: 0;}#sk-container-id-3 div.sk-toggleable {background-color: white;}#sk-container-id-3 label.sk-toggleable__label {cursor: pointer;display: block;width: 100%;margin-bottom: 0;padding: 0.3em;box-sizing: border-box;text-align: center;}#sk-container-id-3 label.sk-toggleable__label-arrow:before {content: \"▸\";float: left;margin-right: 0.25em;color: #696969;}#sk-container-id-3 label.sk-toggleable__label-arrow:hover:before {color: black;}#sk-container-id-3 div.sk-estimator:hover label.sk-toggleable__label-arrow:before {color: black;}#sk-container-id-3 div.sk-toggleable__content {max-height: 0;max-width: 0;overflow: hidden;text-align: left;background-color: #f0f8ff;}#sk-container-id-3 div.sk-toggleable__content pre {margin: 0.2em;color: black;border-radius: 0.25em;background-color: #f0f8ff;}#sk-container-id-3 input.sk-toggleable__control:checked~div.sk-toggleable__content {max-height: 200px;max-width: 100%;overflow: auto;}#sk-container-id-3 input.sk-toggleable__control:checked~label.sk-toggleable__label-arrow:before {content: \"▾\";}#sk-container-id-3 div.sk-estimator input.sk-toggleable__control:checked~label.sk-toggleable__label {background-color: #d4ebff;}#sk-container-id-3 div.sk-label input.sk-toggleable__control:checked~label.sk-toggleable__label {background-color: #d4ebff;}#sk-container-id-3 input.sk-hidden--visually {border: 0;clip: rect(1px 1px 1px 1px);clip: rect(1px, 1px, 1px, 1px);height: 1px;margin: -1px;overflow: hidden;padding: 0;position: absolute;width: 1px;}#sk-container-id-3 div.sk-estimator {font-family: monospace;background-color: #f0f8ff;border: 1px dotted black;border-radius: 0.25em;box-sizing: border-box;margin-bottom: 0.5em;}#sk-container-id-3 div.sk-estimator:hover {background-color: #d4ebff;}#sk-container-id-3 div.sk-parallel-item::after {content: \"\";width: 100%;border-bottom: 1px solid gray;flex-grow: 1;}#sk-container-id-3 div.sk-label:hover label.sk-toggleable__label {background-color: #d4ebff;}#sk-container-id-3 div.sk-serial::before {content: \"\";position: absolute;border-left: 1px solid gray;box-sizing: border-box;top: 0;bottom: 0;left: 50%;z-index: 0;}#sk-container-id-3 div.sk-serial {display: flex;flex-direction: column;align-items: center;background-color: white;padding-right: 0.2em;padding-left: 0.2em;position: relative;}#sk-container-id-3 div.sk-item {position: relative;z-index: 1;}#sk-container-id-3 div.sk-parallel {display: flex;align-items: stretch;justify-content: center;background-color: white;position: relative;}#sk-container-id-3 div.sk-item::before, #sk-container-id-3 div.sk-parallel-item::before {content: \"\";position: absolute;border-left: 1px solid gray;box-sizing: border-box;top: 0;bottom: 0;left: 50%;z-index: -1;}#sk-container-id-3 div.sk-parallel-item {display: flex;flex-direction: column;z-index: 1;position: relative;background-color: white;}#sk-container-id-3 div.sk-parallel-item:first-child::after {align-self: flex-end;width: 50%;}#sk-container-id-3 div.sk-parallel-item:last-child::after {align-self: flex-start;width: 50%;}#sk-container-id-3 div.sk-parallel-item:only-child::after {width: 0;}#sk-container-id-3 div.sk-dashed-wrapped {border: 1px dashed gray;margin: 0 0.4em 0.5em 0.4em;box-sizing: border-box;padding-bottom: 0.4em;background-color: white;}#sk-container-id-3 div.sk-label label {font-family: monospace;font-weight: bold;display: inline-block;line-height: 1.2em;}#sk-container-id-3 div.sk-label-container {text-align: center;}#sk-container-id-3 div.sk-container {/* jupyter's `normalize.less` sets `[hidden] { display: none; }` but bootstrap.min.css set `[hidden] { display: none !important; }` so we also need the `!important` here to be able to override the default hidden behavior on the sphinx rendered scikit-learn.org. See: https://github.com/scikit-learn/scikit-learn/issues/21755 */display: inline-block !important;position: relative;}#sk-container-id-3 div.sk-text-repr-fallback {display: none;}</style><div id=\"sk-container-id-3\" class=\"sk-top-container\"><div class=\"sk-text-repr-fallback\"><pre>GridSearchCV(cv=4, estimator=Ridge(),\n",
              "             param_grid=[{&#x27;alpha&#x27;: [1, 10, 100, 1000],\n",
              "                          &#x27;normalize&#x27;: [True, False]}])</pre><b>In a Jupyter environment, please rerun this cell to show the HTML representation or trust the notebook. <br />On GitHub, the HTML representation is unable to render, please try loading this page with nbviewer.org.</b></div><div class=\"sk-container\" hidden><div class=\"sk-item sk-dashed-wrapped\"><div class=\"sk-label-container\"><div class=\"sk-label sk-toggleable\"><input class=\"sk-toggleable__control sk-hidden--visually\" id=\"sk-estimator-id-5\" type=\"checkbox\" ><label for=\"sk-estimator-id-5\" class=\"sk-toggleable__label sk-toggleable__label-arrow\">GridSearchCV</label><div class=\"sk-toggleable__content\"><pre>GridSearchCV(cv=4, estimator=Ridge(),\n",
              "             param_grid=[{&#x27;alpha&#x27;: [1, 10, 100, 1000],\n",
              "                          &#x27;normalize&#x27;: [True, False]}])</pre></div></div></div><div class=\"sk-parallel\"><div class=\"sk-parallel-item\"><div class=\"sk-item\"><div class=\"sk-label-container\"><div class=\"sk-label sk-toggleable\"><input class=\"sk-toggleable__control sk-hidden--visually\" id=\"sk-estimator-id-6\" type=\"checkbox\" ><label for=\"sk-estimator-id-6\" class=\"sk-toggleable__label sk-toggleable__label-arrow\">estimator: Ridge</label><div class=\"sk-toggleable__content\"><pre>Ridge()</pre></div></div></div><div class=\"sk-serial\"><div class=\"sk-item\"><div class=\"sk-estimator sk-toggleable\"><input class=\"sk-toggleable__control sk-hidden--visually\" id=\"sk-estimator-id-7\" type=\"checkbox\" ><label for=\"sk-estimator-id-7\" class=\"sk-toggleable__label sk-toggleable__label-arrow\">Ridge</label><div class=\"sk-toggleable__content\"><pre>Ridge()</pre></div></div></div></div></div></div></div></div></div></div>"
            ],
            "text/plain": [
              "GridSearchCV(cv=4, estimator=Ridge(),\n",
              "             param_grid=[{'alpha': [1, 10, 100, 1000],\n",
              "                          'normalize': [True, False]}])"
            ]
          },
          "execution_count": 61,
          "metadata": {},
          "output_type": "execute_result"
        }
      ],
      "source": [
        "parameters1 = [\n",
        "    {'alpha':[1,10,100,1000],\n",
        "     'normalize': [True,False]\n",
        "    }\n",
        "]\n",
        "\n",
        "RR = Ridge()\n",
        "\n",
        "Grid1 = GridSearchCV(RR,parameters1,cv=4) #El metodo por defecto de scoring es R2\n",
        "\n",
        "Grid1.fit(x_train,y_train)"
      ]
    },
    {
      "cell_type": "markdown",
      "metadata": {
        "id": "frIQwqh6jRLm"
      },
      "source": [
        "Obtener mejor estimador con los mejores parametro alpha y normalize encontrados"
      ]
    },
    {
      "cell_type": "code",
      "execution_count": null,
      "metadata": {
        "id": "dKzB8DrEjRLn",
        "outputId": "8b61c783-a62d-4144-9a58-033ae337147f"
      },
      "outputs": [
        {
          "data": {
            "text/html": [
              "<style>#sk-container-id-4 {color: black;background-color: white;}#sk-container-id-4 pre{padding: 0;}#sk-container-id-4 div.sk-toggleable {background-color: white;}#sk-container-id-4 label.sk-toggleable__label {cursor: pointer;display: block;width: 100%;margin-bottom: 0;padding: 0.3em;box-sizing: border-box;text-align: center;}#sk-container-id-4 label.sk-toggleable__label-arrow:before {content: \"▸\";float: left;margin-right: 0.25em;color: #696969;}#sk-container-id-4 label.sk-toggleable__label-arrow:hover:before {color: black;}#sk-container-id-4 div.sk-estimator:hover label.sk-toggleable__label-arrow:before {color: black;}#sk-container-id-4 div.sk-toggleable__content {max-height: 0;max-width: 0;overflow: hidden;text-align: left;background-color: #f0f8ff;}#sk-container-id-4 div.sk-toggleable__content pre {margin: 0.2em;color: black;border-radius: 0.25em;background-color: #f0f8ff;}#sk-container-id-4 input.sk-toggleable__control:checked~div.sk-toggleable__content {max-height: 200px;max-width: 100%;overflow: auto;}#sk-container-id-4 input.sk-toggleable__control:checked~label.sk-toggleable__label-arrow:before {content: \"▾\";}#sk-container-id-4 div.sk-estimator input.sk-toggleable__control:checked~label.sk-toggleable__label {background-color: #d4ebff;}#sk-container-id-4 div.sk-label input.sk-toggleable__control:checked~label.sk-toggleable__label {background-color: #d4ebff;}#sk-container-id-4 input.sk-hidden--visually {border: 0;clip: rect(1px 1px 1px 1px);clip: rect(1px, 1px, 1px, 1px);height: 1px;margin: -1px;overflow: hidden;padding: 0;position: absolute;width: 1px;}#sk-container-id-4 div.sk-estimator {font-family: monospace;background-color: #f0f8ff;border: 1px dotted black;border-radius: 0.25em;box-sizing: border-box;margin-bottom: 0.5em;}#sk-container-id-4 div.sk-estimator:hover {background-color: #d4ebff;}#sk-container-id-4 div.sk-parallel-item::after {content: \"\";width: 100%;border-bottom: 1px solid gray;flex-grow: 1;}#sk-container-id-4 div.sk-label:hover label.sk-toggleable__label {background-color: #d4ebff;}#sk-container-id-4 div.sk-serial::before {content: \"\";position: absolute;border-left: 1px solid gray;box-sizing: border-box;top: 0;bottom: 0;left: 50%;z-index: 0;}#sk-container-id-4 div.sk-serial {display: flex;flex-direction: column;align-items: center;background-color: white;padding-right: 0.2em;padding-left: 0.2em;position: relative;}#sk-container-id-4 div.sk-item {position: relative;z-index: 1;}#sk-container-id-4 div.sk-parallel {display: flex;align-items: stretch;justify-content: center;background-color: white;position: relative;}#sk-container-id-4 div.sk-item::before, #sk-container-id-4 div.sk-parallel-item::before {content: \"\";position: absolute;border-left: 1px solid gray;box-sizing: border-box;top: 0;bottom: 0;left: 50%;z-index: -1;}#sk-container-id-4 div.sk-parallel-item {display: flex;flex-direction: column;z-index: 1;position: relative;background-color: white;}#sk-container-id-4 div.sk-parallel-item:first-child::after {align-self: flex-end;width: 50%;}#sk-container-id-4 div.sk-parallel-item:last-child::after {align-self: flex-start;width: 50%;}#sk-container-id-4 div.sk-parallel-item:only-child::after {width: 0;}#sk-container-id-4 div.sk-dashed-wrapped {border: 1px dashed gray;margin: 0 0.4em 0.5em 0.4em;box-sizing: border-box;padding-bottom: 0.4em;background-color: white;}#sk-container-id-4 div.sk-label label {font-family: monospace;font-weight: bold;display: inline-block;line-height: 1.2em;}#sk-container-id-4 div.sk-label-container {text-align: center;}#sk-container-id-4 div.sk-container {/* jupyter's `normalize.less` sets `[hidden] { display: none; }` but bootstrap.min.css set `[hidden] { display: none !important; }` so we also need the `!important` here to be able to override the default hidden behavior on the sphinx rendered scikit-learn.org. See: https://github.com/scikit-learn/scikit-learn/issues/21755 */display: inline-block !important;position: relative;}#sk-container-id-4 div.sk-text-repr-fallback {display: none;}</style><div id=\"sk-container-id-4\" class=\"sk-top-container\"><div class=\"sk-text-repr-fallback\"><pre>Ridge(alpha=1000, normalize=False)</pre><b>In a Jupyter environment, please rerun this cell to show the HTML representation or trust the notebook. <br />On GitHub, the HTML representation is unable to render, please try loading this page with nbviewer.org.</b></div><div class=\"sk-container\" hidden><div class=\"sk-item\"><div class=\"sk-estimator sk-toggleable\"><input class=\"sk-toggleable__control sk-hidden--visually\" id=\"sk-estimator-id-8\" type=\"checkbox\" checked><label for=\"sk-estimator-id-8\" class=\"sk-toggleable__label sk-toggleable__label-arrow\">Ridge</label><div class=\"sk-toggleable__content\"><pre>Ridge(alpha=1000, normalize=False)</pre></div></div></div></div></div>"
            ],
            "text/plain": [
              "Ridge(alpha=1000, normalize=False)"
            ]
          },
          "execution_count": 62,
          "metadata": {},
          "output_type": "execute_result"
        }
      ],
      "source": [
        "Grid1.best_estimator_"
      ]
    },
    {
      "cell_type": "markdown",
      "metadata": {
        "id": "cQ2C72oNjRLn"
      },
      "source": [
        "Obtener scores de cada una de las iteraciones de alpha y normalize"
      ]
    },
    {
      "cell_type": "code",
      "execution_count": null,
      "metadata": {
        "id": "8-ygF3d8jRLn",
        "outputId": "89a30ee9-826b-407e-efee-15a82befe626"
      },
      "outputs": [
        {
          "data": {
            "text/plain": [
              "array([0.73815158, 0.7894831 , 0.34115443, 0.78950062, 0.0464581 ,\n",
              "       0.78966216, 0.001374  , 0.79060737])"
            ]
          },
          "execution_count": 63,
          "metadata": {},
          "output_type": "execute_result"
        }
      ],
      "source": [
        "scores = Grid1.cv_results_\n",
        "\n",
        "scores['mean_test_score']"
      ]
    },
    {
      "cell_type": "code",
      "execution_count": null,
      "metadata": {
        "id": "ye72MeaEjRLo",
        "outputId": "4a679ccd-6e22-4e80-a2a7-e8b5e16bd3b7"
      },
      "outputs": [
        {
          "data": {
            "text/plain": [
              "dict_keys(['mean_fit_time', 'std_fit_time', 'mean_score_time', 'std_score_time', 'param_alpha', 'param_normalize', 'params', 'split0_test_score', 'split1_test_score', 'split2_test_score', 'split3_test_score', 'mean_test_score', 'std_test_score', 'rank_test_score'])"
            ]
          },
          "execution_count": 69,
          "metadata": {},
          "output_type": "execute_result"
        }
      ],
      "source": [
        "scores.keys()"
      ]
    },
    {
      "cell_type": "code",
      "execution_count": null,
      "metadata": {
        "id": "lAnlqU2kjRLo",
        "outputId": "e5aaf124-3b28-447e-f431-3382b31c2669"
      },
      "outputs": [
        {
          "name": "stdout",
          "output_type": "stream",
          "text": [
            "{'alpha': 1, 'normalize': True} R2 on test data: 0.7381515766777202\n",
            "{'alpha': 1, 'normalize': False} R2 on test data: 0.7894831040747067\n",
            "{'alpha': 10, 'normalize': True} R2 on test data: 0.34115443257661704\n",
            "{'alpha': 10, 'normalize': False} R2 on test data: 0.7895006187293998\n",
            "{'alpha': 100, 'normalize': True} R2 on test data: 0.046458098709133394\n",
            "{'alpha': 100, 'normalize': False} R2 on test data: 0.7896621556127242\n",
            "{'alpha': 1000, 'normalize': True} R2 on test data: 0.001374001571396305\n",
            "{'alpha': 1000, 'normalize': False} R2 on test data: 0.7906073676547143\n"
          ]
        }
      ],
      "source": [
        "for param,mean_test in zip(scores['params'],scores['mean_test_score']):\n",
        "    print(param,\"R2 on test data:\", mean_test)"
      ]
    },
    {
      "cell_type": "markdown",
      "metadata": {
        "id": "cgzNRq45jRLp"
      },
      "source": [
        "### Evidencia Graded Review Questions"
      ]
    },
    {
      "cell_type": "markdown",
      "source": [
        "![imagen.png](data:image/png;base64,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)"
      ],
      "metadata": {
        "id": "6WdOydacjeEn"
      }
    },
    {
      "cell_type": "markdown",
      "metadata": {
        "id": "8ZhIs9RVjRLr"
      },
      "source": []
    }
  ],
  "metadata": {
    "colab": {
      "provenance": [],
      "include_colab_link": true
    },
    "kernelspec": {
      "display_name": "Python 3.10.2 64-bit",
      "language": "python",
      "name": "python3"
    },
    "language_info": {
      "codemirror_mode": {
        "name": "ipython",
        "version": 3
      },
      "file_extension": ".py",
      "mimetype": "text/x-python",
      "name": "python",
      "nbconvert_exporter": "python",
      "pygments_lexer": "ipython3",
      "version": "3.10.2"
    },
    "orig_nbformat": 4,
    "vscode": {
      "interpreter": {
        "hash": "4dd15ac4cfe006e7770f1748318df5853f91b1709ffe23ecf86429a8a977c856"
      }
    }
  },
  "nbformat": 4,
  "nbformat_minor": 0
}